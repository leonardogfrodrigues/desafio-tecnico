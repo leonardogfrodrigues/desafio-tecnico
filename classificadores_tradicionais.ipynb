{
  "nbformat": 4,
  "nbformat_minor": 0,
  "metadata": {
    "colab": {
      "name": "classificadores-tradicionais.ipynb",
      "provenance": [],
      "authorship_tag": "ABX9TyO5F6j6eMQRHn7y9zoNOOEs",
      "include_colab_link": true
    },
    "kernelspec": {
      "name": "python3",
      "display_name": "Python 3"
    },
    "language_info": {
      "name": "python"
    }
  },
  "cells": [
    {
      "cell_type": "markdown",
      "metadata": {
        "id": "view-in-github",
        "colab_type": "text"
      },
      "source": [
        "<a href=\"https://colab.research.google.com/github/leonardogfrodrigues/desafio-tecnico/blob/main/classificadores_tradicionais.ipynb\" target=\"_parent\"><img src=\"https://colab.research.google.com/assets/colab-badge.svg\" alt=\"Open In Colab\"/></a>"
      ]
    },
    {
      "cell_type": "markdown",
      "source": [
        "# **Desafio Técnico - Americanas SA**\n",
        "\n",
        "## Uso de classificadores tradicionais\n",
        "\n",
        "Leonardo G. F. Rodrigues\n",
        "\n",
        "https://www.linkedin.com/in/leonardogfrodrigues/\n",
        "\n",
        "leonardogfrodrigues@gmail.com\n",
        "\n",
        "\n",
        "---\n",
        "\n",
        "Desenvolvido em linguagen Python (versão 3.7.13) e executado em nuvem por meio do ambiente Google Colaboratory. \n",
        "\n",
        "---"
      ],
      "metadata": {
        "id": "043driICW6IO"
      }
    },
    {
      "cell_type": "markdown",
      "source": [
        "Importando o conjunto de dados direto do Google Drive"
      ],
      "metadata": {
        "id": "ioQbLMpYXKdE"
      }
    },
    {
      "cell_type": "code",
      "source": [
        "from google.colab import drive\n",
        "drive.mount('/content/gdrive')\n",
        "\n",
        "path = '/content/gdrive/MyDrive/dataset_cdjr.parquet.gzip'"
      ],
      "metadata": {
        "colab": {
          "base_uri": "https://localhost:8080/"
        },
        "id": "zw3puxeWXOYO",
        "outputId": "78b11960-c205-4ccf-c935-164f59e9ecba"
      },
      "execution_count": 17,
      "outputs": [
        {
          "output_type": "stream",
          "name": "stdout",
          "text": [
            "Drive already mounted at /content/gdrive; to attempt to forcibly remount, call drive.mount(\"/content/gdrive\", force_remount=True).\n"
          ]
        }
      ]
    },
    {
      "cell_type": "markdown",
      "source": [
        "Leitura do conjunto de dados"
      ],
      "metadata": {
        "id": "IPUVEYPyYKF3"
      }
    },
    {
      "cell_type": "markdown",
      "source": [
        "Importação das Bibliotecas"
      ],
      "metadata": {
        "id": "h3pH9QuMYQFi"
      }
    },
    {
      "cell_type": "code",
      "source": [
        "import pandas as pd\n",
        "from sklearn.preprocessing import StandardScaler\n",
        "from sklearn.model_selection import train_test_split, cross_val_score\n",
        "from sklearn.metrics import classification_report, accuracy_score, confusion_matrix"
      ],
      "metadata": {
        "id": "Vo2XHVzhYTCE"
      },
      "execution_count": 18,
      "outputs": []
    },
    {
      "cell_type": "code",
      "source": [
        "df = pd.read_parquet(path)\n",
        "df.info()"
      ],
      "metadata": {
        "colab": {
          "base_uri": "https://localhost:8080/"
        },
        "id": "PXHU6JDzXQVS",
        "outputId": "11d76e55-b335-4093-8e3d-e24df2a055f3"
      },
      "execution_count": 19,
      "outputs": [
        {
          "output_type": "stream",
          "name": "stdout",
          "text": [
            "<class 'pandas.core.frame.DataFrame'>\n",
            "Int64Index: 466 entries, 337 to 92\n",
            "Data columns (total 17 columns):\n",
            " #   Column     Non-Null Count  Dtype  \n",
            "---  ------     --------------  -----  \n",
            " 0   feature0   466 non-null    float64\n",
            " 1   feature1   466 non-null    int64  \n",
            " 2   feature2   466 non-null    float64\n",
            " 3   feature3   466 non-null    float64\n",
            " 4   feature4   466 non-null    float64\n",
            " 5   feature5   466 non-null    float64\n",
            " 6   feature6   466 non-null    int64  \n",
            " 7   feature7   466 non-null    float64\n",
            " 8   feature8   466 non-null    float64\n",
            " 9   feature9   466 non-null    int64  \n",
            " 10  feature10  466 non-null    float64\n",
            " 11  feature11  466 non-null    float64\n",
            " 12  feature12  466 non-null    float64\n",
            " 13  feature13  466 non-null    float64\n",
            " 14  feature14  466 non-null    float64\n",
            " 15  feature15  466 non-null    int64  \n",
            " 16  target     466 non-null    int64  \n",
            "dtypes: float64(12), int64(5)\n",
            "memory usage: 65.5 KB\n"
          ]
        }
      ]
    },
    {
      "cell_type": "markdown",
      "source": [
        "## Preparação dos Dados"
      ],
      "metadata": {
        "id": "9NqeuxcOYU3M"
      }
    },
    {
      "cell_type": "markdown",
      "source": [
        "## Preparação dos Dados\n",
        "\n",
        "**- Atribuição:** dados em X e rótulos em y\n",
        "\n",
        "**- Eliminação da coluna target:** não é correto realizar a classificação considerando o alvo (classe) como atributo\n",
        "\n",
        "**- Distribuição:** 75% para treino e 25% para teste\n",
        "\n",
        "**- Normalização:** aplicada para manter a integridade dos dados e contribuir com o desempenho da modelagem. Além disso, evita que valores discrepantes sejam mal distribuídos, mudando esses valores para uma escala comum, que combine com o conjunto."
      ],
      "metadata": {
        "id": "_UOuqUPKYb8W"
      }
    },
    {
      "cell_type": "code",
      "source": [
        "X = df.drop('target', axis = 1)\n",
        "y = df['target']"
      ],
      "metadata": {
        "id": "rCIMtty1YdOd"
      },
      "execution_count": 20,
      "outputs": []
    },
    {
      "cell_type": "code",
      "source": [
        "# Divisão do dataset: 75% para treino, 25% para teste.\n",
        "X_train, X_test, y_train, y_test = train_test_split(X, y, test_size = 0.25, random_state = 42)"
      ],
      "metadata": {
        "id": "9TzcNBNlY5QD"
      },
      "execution_count": 21,
      "outputs": []
    },
    {
      "cell_type": "code",
      "source": [
        "sc = StandardScaler()\n",
        "X_train = sc.fit_transform(X_train)\n",
        "X_test = sc.transform(X_test)"
      ],
      "metadata": {
        "id": "T73utxVYY0ZB"
      },
      "execution_count": 22,
      "outputs": []
    },
    {
      "cell_type": "markdown",
      "source": [
        "## KNN"
      ],
      "metadata": {
        "id": "fdwmijP7dCXM"
      }
    },
    {
      "cell_type": "code",
      "source": [
        "from sklearn.neighbors import KNeighborsClassifier\n",
        "\n",
        "knn = KNeighborsClassifier(n_neighbors=3)\n",
        "knn.fit(X_train, y_train)\n",
        "\n",
        "predictions = knn.predict(X_test)\n",
        "#print(predictions)\n",
        "\n",
        "print(classification_report(y_test, predictions, digits=4))\n",
        "print(confusion_matrix(y_test ,predictions))"
      ],
      "metadata": {
        "colab": {
          "base_uri": "https://localhost:8080/"
        },
        "id": "D4qq1FezZBf6",
        "outputId": "be771637-5984-494b-ea43-bb92bd9491e2"
      },
      "execution_count": 23,
      "outputs": [
        {
          "output_type": "stream",
          "name": "stdout",
          "text": [
            "              precision    recall  f1-score   support\n",
            "\n",
            "           0     0.5532    0.4561    0.5000        57\n",
            "           1     0.5571    0.6500    0.6000        60\n",
            "\n",
            "    accuracy                         0.5556       117\n",
            "   macro avg     0.5552    0.5531    0.5500       117\n",
            "weighted avg     0.5552    0.5556    0.5513       117\n",
            "\n",
            "[[26 31]\n",
            " [21 39]]\n"
          ]
        }
      ]
    },
    {
      "cell_type": "markdown",
      "source": [
        "## Naive Bayes"
      ],
      "metadata": {
        "id": "zdge5PsddE1Q"
      }
    },
    {
      "cell_type": "code",
      "source": [
        "from sklearn.naive_bayes import GaussianNB\n",
        "\n",
        "nb = GaussianNB()\n",
        "nb.fit(X_train, y_train)\n",
        "\n",
        "predictions = nb.predict(X_test)\n",
        "\n",
        "print(classification_report(y_test, predictions, digits=4))\n",
        "print(confusion_matrix(y_test ,predictions))"
      ],
      "metadata": {
        "colab": {
          "base_uri": "https://localhost:8080/"
        },
        "id": "LKWjENsZcRqe",
        "outputId": "d250f6b5-b2d7-46cf-ad7d-9e66c45667c0"
      },
      "execution_count": 24,
      "outputs": [
        {
          "output_type": "stream",
          "name": "stdout",
          "text": [
            "              precision    recall  f1-score   support\n",
            "\n",
            "           0     0.6667    0.2456    0.3590        57\n",
            "           1     0.5521    0.8833    0.6795        60\n",
            "\n",
            "    accuracy                         0.5726       117\n",
            "   macro avg     0.6094    0.5645    0.5192       117\n",
            "weighted avg     0.6079    0.5726    0.5233       117\n",
            "\n",
            "[[14 43]\n",
            " [ 7 53]]\n"
          ]
        }
      ]
    },
    {
      "cell_type": "markdown",
      "source": [
        "## SVM Linear"
      ],
      "metadata": {
        "id": "tFZcPIH_dGk3"
      }
    },
    {
      "cell_type": "code",
      "source": [
        "from sklearn.svm import SVC\n",
        "\n",
        "svm_linear = SVC(kernel='linear')\n",
        "svm_linear.fit(X_train, y_train)\n",
        "\n",
        "predictions = svm_linear.predict(X_test)\n",
        "\n",
        "print(classification_report(y_test, predictions, digits=4))\n",
        "print(confusion_matrix(y_test ,predictions))"
      ],
      "metadata": {
        "colab": {
          "base_uri": "https://localhost:8080/"
        },
        "id": "3mDFvRYhceq-",
        "outputId": "f4649053-0601-4d0e-c3ba-a7227534fb7e"
      },
      "execution_count": 25,
      "outputs": [
        {
          "output_type": "stream",
          "name": "stdout",
          "text": [
            "              precision    recall  f1-score   support\n",
            "\n",
            "           0     0.7222    0.2281    0.3467        57\n",
            "           1     0.5556    0.9167    0.6918        60\n",
            "\n",
            "    accuracy                         0.5812       117\n",
            "   macro avg     0.6389    0.5724    0.5192       117\n",
            "weighted avg     0.6368    0.5812    0.5237       117\n",
            "\n",
            "[[13 44]\n",
            " [ 5 55]]\n"
          ]
        }
      ]
    },
    {
      "cell_type": "markdown",
      "source": [
        "## SVM com kernel polinomial"
      ],
      "metadata": {
        "id": "mMSdo504diBs"
      }
    },
    {
      "cell_type": "code",
      "source": [
        "from sklearn.svm import SVC\n",
        "\n",
        "svm_poly = SVC(kernel='poly')\n",
        "svm_poly.fit(X_train, y_train)\n",
        "\n",
        "predictions = svm_poly.predict(X_test)\n",
        "\n",
        "print(classification_report(y_test, predictions, digits=4))\n",
        "print(confusion_matrix(y_test ,predictions))"
      ],
      "metadata": {
        "colab": {
          "base_uri": "https://localhost:8080/"
        },
        "id": "0LSqLY_NdhMT",
        "outputId": "49d93cd3-5645-40d4-e105-479e8f6d9f52"
      },
      "execution_count": 26,
      "outputs": [
        {
          "output_type": "stream",
          "name": "stdout",
          "text": [
            "              precision    recall  f1-score   support\n",
            "\n",
            "           0     0.8333    0.0877    0.1587        57\n",
            "           1     0.5315    0.9833    0.6901        60\n",
            "\n",
            "    accuracy                         0.5470       117\n",
            "   macro avg     0.6824    0.5355    0.4244       117\n",
            "weighted avg     0.6786    0.5470    0.4312       117\n",
            "\n",
            "[[ 5 52]\n",
            " [ 1 59]]\n"
          ]
        }
      ]
    },
    {
      "cell_type": "markdown",
      "source": [
        "## SVM com kernel gaussiano"
      ],
      "metadata": {
        "id": "DsuKXDL4duNW"
      }
    },
    {
      "cell_type": "code",
      "source": [
        "from sklearn.svm import SVC\n",
        "\n",
        "svm_rbf = SVC(kernel='rbf')\n",
        "svm_rbf.fit(X_train, y_train)\n",
        "\n",
        "predictions = svm_rbf.predict(X_test)\n",
        "\n",
        "print(classification_report(y_test, predictions, digits=4))\n",
        "print(confusion_matrix(y_test ,predictions))"
      ],
      "metadata": {
        "colab": {
          "base_uri": "https://localhost:8080/"
        },
        "id": "y_KRPEeYdydS",
        "outputId": "52e00d51-09ff-476c-b801-f4a9bad4349d"
      },
      "execution_count": 27,
      "outputs": [
        {
          "output_type": "stream",
          "name": "stdout",
          "text": [
            "              precision    recall  f1-score   support\n",
            "\n",
            "           0     0.7917    0.3333    0.4691        57\n",
            "           1     0.5914    0.9167    0.7190        60\n",
            "\n",
            "    accuracy                         0.6325       117\n",
            "   macro avg     0.6915    0.6250    0.5940       117\n",
            "weighted avg     0.6890    0.6325    0.5972       117\n",
            "\n",
            "[[19 38]\n",
            " [ 5 55]]\n"
          ]
        }
      ]
    },
    {
      "cell_type": "markdown",
      "source": [
        "## Decision Tree"
      ],
      "metadata": {
        "id": "H6_9DxOEeCzF"
      }
    },
    {
      "cell_type": "code",
      "source": [
        "from sklearn.tree import DecisionTreeClassifier\n",
        "\n",
        "dt = DecisionTreeClassifier()\n",
        "dt.fit(X_train, y_train)\n",
        "\n",
        "predictions = dt.predict(X_test)\n",
        "\n",
        "print(classification_report(y_test, predictions, digits=4))\n",
        "print(confusion_matrix(y_test ,predictions))"
      ],
      "metadata": {
        "colab": {
          "base_uri": "https://localhost:8080/"
        },
        "id": "eYA4V9AmeNs7",
        "outputId": "54202007-e2a0-4cae-e21f-9dde878332ed"
      },
      "execution_count": 28,
      "outputs": [
        {
          "output_type": "stream",
          "name": "stdout",
          "text": [
            "              precision    recall  f1-score   support\n",
            "\n",
            "           0     0.5357    0.5263    0.5310        57\n",
            "           1     0.5574    0.5667    0.5620        60\n",
            "\n",
            "    accuracy                         0.5470       117\n",
            "   macro avg     0.5465    0.5465    0.5465       117\n",
            "weighted avg     0.5468    0.5470    0.5469       117\n",
            "\n",
            "[[30 27]\n",
            " [26 34]]\n"
          ]
        }
      ]
    },
    {
      "cell_type": "markdown",
      "source": [
        "## Random Forest"
      ],
      "metadata": {
        "id": "iLXkagoZej1e"
      }
    },
    {
      "cell_type": "code",
      "source": [
        "from sklearn.ensemble import RandomForestClassifier\n",
        "\n",
        "rf = RandomForestClassifier(max_depth=2, random_state=0)\n",
        "rf.fit(X_train, y_train)\n",
        "\n",
        "predictions = rf.predict(X_test)\n",
        "\n",
        "print(classification_report(y_test, predictions, digits=4))\n",
        "print(confusion_matrix(y_test ,predictions))"
      ],
      "metadata": {
        "colab": {
          "base_uri": "https://localhost:8080/"
        },
        "id": "UYaH99DTeqWo",
        "outputId": "a06ed644-ccba-4a0d-9cb6-d3c581c5f434"
      },
      "execution_count": 29,
      "outputs": [
        {
          "output_type": "stream",
          "name": "stdout",
          "text": [
            "              precision    recall  f1-score   support\n",
            "\n",
            "           0     0.7027    0.4561    0.5532        57\n",
            "           1     0.6125    0.8167    0.7000        60\n",
            "\n",
            "    accuracy                         0.6410       117\n",
            "   macro avg     0.6576    0.6364    0.6266       117\n",
            "weighted avg     0.6564    0.6410    0.6285       117\n",
            "\n",
            "[[26 31]\n",
            " [11 49]]\n"
          ]
        }
      ]
    },
    {
      "cell_type": "markdown",
      "source": [
        "## Gradient Boosting"
      ],
      "metadata": {
        "id": "DBNerX-be7pz"
      }
    },
    {
      "cell_type": "code",
      "source": [
        "from sklearn.ensemble import GradientBoostingClassifier\n",
        "\n",
        "gb = GradientBoostingClassifier(n_estimators=100, learning_rate=1.0, max_depth=1, random_state=0)\n",
        "gb.fit(X_train, y_train)\n",
        "\n",
        "predictions = gb.predict(X_test)\n",
        "\n",
        "print(classification_report(y_test, predictions, digits=4))\n",
        "print(confusion_matrix(y_test ,predictions))"
      ],
      "metadata": {
        "colab": {
          "base_uri": "https://localhost:8080/"
        },
        "id": "wbx3FxOXe9NY",
        "outputId": "910782d0-9334-477b-fef8-7e00b9f92be9"
      },
      "execution_count": 30,
      "outputs": [
        {
          "output_type": "stream",
          "name": "stdout",
          "text": [
            "              precision    recall  f1-score   support\n",
            "\n",
            "           0     0.6383    0.5263    0.5769        57\n",
            "           1     0.6143    0.7167    0.6615        60\n",
            "\n",
            "    accuracy                         0.6239       117\n",
            "   macro avg     0.6263    0.6215    0.6192       117\n",
            "weighted avg     0.6260    0.6239    0.6203       117\n",
            "\n",
            "[[30 27]\n",
            " [17 43]]\n"
          ]
        }
      ]
    },
    {
      "cell_type": "markdown",
      "source": [
        "## Regressão Logística"
      ],
      "metadata": {
        "id": "O1YFycNfh57y"
      }
    },
    {
      "cell_type": "code",
      "source": [
        "from sklearn.linear_model import LogisticRegression\n",
        "\n",
        "logr = LogisticRegression()\n",
        "logr.fit(X_train, y_train)\n",
        "\n",
        "predictions = logr.predict(X_test)\n",
        "\n",
        "print(classification_report(y_test, predictions, digits=4))\n",
        "print(confusion_matrix(y_test ,predictions))"
      ],
      "metadata": {
        "colab": {
          "base_uri": "https://localhost:8080/"
        },
        "id": "AOqMUgPFh9zV",
        "outputId": "d0a73763-3a5d-40a3-d1d2-21481507478c"
      },
      "execution_count": 31,
      "outputs": [
        {
          "output_type": "stream",
          "name": "stdout",
          "text": [
            "              precision    recall  f1-score   support\n",
            "\n",
            "           0     0.7407    0.3509    0.4762        57\n",
            "           1     0.5889    0.8833    0.7067        60\n",
            "\n",
            "    accuracy                         0.6239       117\n",
            "   macro avg     0.6648    0.6171    0.5914       117\n",
            "weighted avg     0.6629    0.6239    0.5944       117\n",
            "\n",
            "[[20 37]\n",
            " [ 7 53]]\n"
          ]
        }
      ]
    }
  ]
}