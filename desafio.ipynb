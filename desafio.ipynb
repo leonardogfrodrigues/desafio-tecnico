{
  "nbformat": 4,
  "nbformat_minor": 0,
  "metadata": {
    "colab": {
      "name": "desafio.ipynb",
      "provenance": [],
      "authorship_tag": "ABX9TyMAUD9tCWKzMfjk1Kvx/yN/",
      "include_colab_link": true
    },
    "kernelspec": {
      "name": "python3",
      "display_name": "Python 3"
    },
    "language_info": {
      "name": "python"
    }
  },
  "cells": [
    {
      "cell_type": "markdown",
      "metadata": {
        "id": "view-in-github",
        "colab_type": "text"
      },
      "source": [
        "<a href=\"https://colab.research.google.com/github/leonardogfrodrigues/desafio-tecnico/blob/main/desafio.ipynb\" target=\"_parent\"><img src=\"https://colab.research.google.com/assets/colab-badge.svg\" alt=\"Open In Colab\"/></a>"
      ]
    },
    {
      "cell_type": "markdown",
      "source": [
        "# **Desafio Técnico - Americanas SA**\n",
        "\n",
        "Leonardo G. F. Rodrigues\n",
        "\n",
        "https://www.linkedin.com/in/leonardogfrodrigues/\n",
        "\n",
        "leonardogfrodrigues@gmail.com\n",
        "\n",
        "\n",
        "---\n",
        "\n",
        "O desafio foi desenvolvido em linguagen Python (versão 3.7.13) e foi executado em nuvem por meio do ambiente Google Colaboratory. "
      ],
      "metadata": {
        "id": "F7oVPA2jfmRQ"
      }
    },
    {
      "cell_type": "markdown",
      "source": [
        "## Análise Exploratória dos Dados\n",
        "\n",
        "O conjunto de dados é analisado e suas principais características são sumarizadas através de diferentes visualizações."
      ],
      "metadata": {
        "id": "CwGz4bW_fr9T"
      }
    },
    {
      "cell_type": "markdown",
      "source": [
        "Importando o conjunto de dados direto do Google Drive"
      ],
      "metadata": {
        "id": "saOp_LsRf2pl"
      }
    },
    {
      "cell_type": "code",
      "execution_count": 1,
      "metadata": {
        "colab": {
          "base_uri": "https://localhost:8080/"
        },
        "id": "PEW2DDXIfiUS",
        "outputId": "3cd5753d-eecf-4e56-9d67-18e2d32ac7e1"
      },
      "outputs": [
        {
          "output_type": "stream",
          "name": "stdout",
          "text": [
            "Drive already mounted at /content/gdrive; to attempt to forcibly remount, call drive.mount(\"/content/gdrive\", force_remount=True).\n"
          ]
        }
      ],
      "source": [
        "from google.colab import drive\n",
        "drive.mount('/content/gdrive')\n",
        "\n",
        "path = '/content/gdrive/MyDrive/dataset_cdjr.parquet.gzip'"
      ]
    },
    {
      "cell_type": "markdown",
      "source": [
        "Importação das bibliotecas necessárias"
      ],
      "metadata": {
        "id": "3nR9E21ogBPT"
      }
    },
    {
      "cell_type": "code",
      "source": [
        "# Visualizações e manipulação dos dados\n",
        "import pandas as pd\n",
        "import matplotlib.pyplot as plt\n",
        "import numpy as np\n",
        "import seaborn as sns\n",
        "\n",
        "# Preparação dos Dados\n",
        "from sklearn.preprocessing import StandardScaler\n",
        "from sklearn.model_selection import train_test_split\n",
        "from sklearn import preprocessing\n",
        "\n",
        "# Modelagem\n",
        "import random\n",
        "import torch\n",
        "from torch.utils.data import TensorDataset\n",
        "from torch.utils.data import DataLoader\n",
        "import torch.nn as nn\n",
        "import torch.optim as optim\n",
        "import itertools\n",
        "from sklearn.metrics import confusion_matrix, classification_report"
      ],
      "metadata": {
        "id": "4XAdCBrJf9sp"
      },
      "execution_count": 2,
      "outputs": []
    },
    {
      "cell_type": "markdown",
      "source": [
        "Leitura dos Dados"
      ],
      "metadata": {
        "id": "Dkuk7M-TgGWH"
      }
    },
    {
      "cell_type": "code",
      "source": [
        "df = pd.read_parquet(path)\n",
        "df.info()"
      ],
      "metadata": {
        "colab": {
          "base_uri": "https://localhost:8080/"
        },
        "id": "x3BgDC76gG4-",
        "outputId": "6feb2ddb-e79b-4141-82f2-312184b59a8d"
      },
      "execution_count": 3,
      "outputs": [
        {
          "output_type": "stream",
          "name": "stdout",
          "text": [
            "<class 'pandas.core.frame.DataFrame'>\n",
            "Int64Index: 466 entries, 337 to 92\n",
            "Data columns (total 17 columns):\n",
            " #   Column     Non-Null Count  Dtype  \n",
            "---  ------     --------------  -----  \n",
            " 0   feature0   466 non-null    float64\n",
            " 1   feature1   466 non-null    int64  \n",
            " 2   feature2   466 non-null    float64\n",
            " 3   feature3   466 non-null    float64\n",
            " 4   feature4   466 non-null    float64\n",
            " 5   feature5   466 non-null    float64\n",
            " 6   feature6   466 non-null    int64  \n",
            " 7   feature7   466 non-null    float64\n",
            " 8   feature8   466 non-null    float64\n",
            " 9   feature9   466 non-null    int64  \n",
            " 10  feature10  466 non-null    float64\n",
            " 11  feature11  466 non-null    float64\n",
            " 12  feature12  466 non-null    float64\n",
            " 13  feature13  466 non-null    float64\n",
            " 14  feature14  466 non-null    float64\n",
            " 15  feature15  466 non-null    int64  \n",
            " 16  target     466 non-null    int64  \n",
            "dtypes: float64(12), int64(5)\n",
            "memory usage: 65.5 KB\n"
          ]
        }
      ]
    },
    {
      "cell_type": "markdown",
      "source": [
        "Verificando se há valores faltantes"
      ],
      "metadata": {
        "id": "ZpUeWaoNgJts"
      }
    },
    {
      "cell_type": "code",
      "source": [
        "print(\"Valores faltantes:\", df.isnull().values.any())"
      ],
      "metadata": {
        "colab": {
          "base_uri": "https://localhost:8080/"
        },
        "id": "R_9G2pemgLMa",
        "outputId": "9b27b030-9b60-44d8-9afe-003970f1c311"
      },
      "execution_count": 4,
      "outputs": [
        {
          "output_type": "stream",
          "name": "stdout",
          "text": [
            "Valores faltantes: False\n"
          ]
        }
      ]
    },
    {
      "cell_type": "markdown",
      "source": [
        "Visualizando os dados"
      ],
      "metadata": {
        "id": "9OSgK7dahyIj"
      }
    },
    {
      "cell_type": "code",
      "source": [
        "df"
      ],
      "metadata": {
        "colab": {
          "base_uri": "https://localhost:8080/",
          "height": 424
        },
        "id": "EtRDlJb8hvZH",
        "outputId": "3ed17ad6-7786-4abb-c836-79eb6fdb977a"
      },
      "execution_count": 5,
      "outputs": [
        {
          "output_type": "execute_result",
          "data": {
            "text/plain": [
              "     feature0  feature1  feature2  feature3  feature4  feature5  feature6  \\\n",
              "337     200.0         2    662.28     39.10   -188.55  0.246978       761   \n",
              "266     150.0         2      0.00    149.55     -0.45  0.150000         3   \n",
              "236      50.0         1    346.08     30.41   -102.10  2.430952        42   \n",
              "274     100.0         2      0.00     43.84    -56.16  0.150968       372   \n",
              "208      50.0         1     87.56     -3.05    -94.50  0.412664       229   \n",
              "..        ...       ...       ...       ...       ...       ...       ...   \n",
              "490    1300.0         7  12133.73    244.30  -1081.90  0.395307      2642   \n",
              "175     350.0         1      0.00     -1.99   -351.99  0.684805       514   \n",
              "417     400.0         4   1100.07    -18.20   -438.60  0.748464       586   \n",
              "131     150.0         1      0.00    114.30    -35.70  0.300000       119   \n",
              "92       50.0         1      0.00     -1.00    -51.00  1.961538        26   \n",
              "\n",
              "     feature7   feature8  feature9  feature10  feature11  feature12  \\\n",
              "337  0.004548   3.523703    167326   33441.06   0.019804  26.850000   \n",
              "266  0.037975   0.000000        79      78.93   0.000000   0.000000   \n",
              "236  0.004239   3.389618      9907   18858.77   0.018351  25.525000   \n",
              "274  0.005854   0.000000     63544    1164.11   0.000000   0.000000   \n",
              "208  0.004572   0.926561     50089    1786.26   0.049019  94.500000   \n",
              "..        ...        ...       ...        ...        ...        ...   \n",
              "490  0.008152  11.617895    324081   17343.28   0.699621  12.893827   \n",
              "175  0.004000   0.000000    128499    2263.65   0.000000   0.000000   \n",
              "417  0.003683   2.508140    159109    5303.10   0.207439  62.657143   \n",
              "131  0.003834   0.000000     31040     334.59   0.000000   0.000000   \n",
              "92   0.002537   0.000000     10250       0.00   0.000000   0.000000   \n",
              "\n",
              "     feature13   feature14  feature15  target  \n",
              "337   0.009198   94.611429          7       0  \n",
              "266   0.000000    0.000000          0       1  \n",
              "236   0.095238   86.520000          4       0  \n",
              "274   0.000000    0.000000          0       1  \n",
              "208   0.004367   87.560000          1       0  \n",
              "..         ...         ...        ...     ...  \n",
              "490   0.030659  149.799136         81       0  \n",
              "175   0.000000    0.000000          0       1  \n",
              "417   0.011945  157.152857          7       0  \n",
              "131   0.000000    0.000000          0       0  \n",
              "92    0.000000    0.000000          0       1  \n",
              "\n",
              "[466 rows x 17 columns]"
            ],
            "text/html": [
              "\n",
              "  <div id=\"df-a257ad3f-56b4-470c-8a65-27c6437c0a77\">\n",
              "    <div class=\"colab-df-container\">\n",
              "      <div>\n",
              "<style scoped>\n",
              "    .dataframe tbody tr th:only-of-type {\n",
              "        vertical-align: middle;\n",
              "    }\n",
              "\n",
              "    .dataframe tbody tr th {\n",
              "        vertical-align: top;\n",
              "    }\n",
              "\n",
              "    .dataframe thead th {\n",
              "        text-align: right;\n",
              "    }\n",
              "</style>\n",
              "<table border=\"1\" class=\"dataframe\">\n",
              "  <thead>\n",
              "    <tr style=\"text-align: right;\">\n",
              "      <th></th>\n",
              "      <th>feature0</th>\n",
              "      <th>feature1</th>\n",
              "      <th>feature2</th>\n",
              "      <th>feature3</th>\n",
              "      <th>feature4</th>\n",
              "      <th>feature5</th>\n",
              "      <th>feature6</th>\n",
              "      <th>feature7</th>\n",
              "      <th>feature8</th>\n",
              "      <th>feature9</th>\n",
              "      <th>feature10</th>\n",
              "      <th>feature11</th>\n",
              "      <th>feature12</th>\n",
              "      <th>feature13</th>\n",
              "      <th>feature14</th>\n",
              "      <th>feature15</th>\n",
              "      <th>target</th>\n",
              "    </tr>\n",
              "  </thead>\n",
              "  <tbody>\n",
              "    <tr>\n",
              "      <th>337</th>\n",
              "      <td>200.0</td>\n",
              "      <td>2</td>\n",
              "      <td>662.28</td>\n",
              "      <td>39.10</td>\n",
              "      <td>-188.55</td>\n",
              "      <td>0.246978</td>\n",
              "      <td>761</td>\n",
              "      <td>0.004548</td>\n",
              "      <td>3.523703</td>\n",
              "      <td>167326</td>\n",
              "      <td>33441.06</td>\n",
              "      <td>0.019804</td>\n",
              "      <td>26.850000</td>\n",
              "      <td>0.009198</td>\n",
              "      <td>94.611429</td>\n",
              "      <td>7</td>\n",
              "      <td>0</td>\n",
              "    </tr>\n",
              "    <tr>\n",
              "      <th>266</th>\n",
              "      <td>150.0</td>\n",
              "      <td>2</td>\n",
              "      <td>0.00</td>\n",
              "      <td>149.55</td>\n",
              "      <td>-0.45</td>\n",
              "      <td>0.150000</td>\n",
              "      <td>3</td>\n",
              "      <td>0.037975</td>\n",
              "      <td>0.000000</td>\n",
              "      <td>79</td>\n",
              "      <td>78.93</td>\n",
              "      <td>0.000000</td>\n",
              "      <td>0.000000</td>\n",
              "      <td>0.000000</td>\n",
              "      <td>0.000000</td>\n",
              "      <td>0</td>\n",
              "      <td>1</td>\n",
              "    </tr>\n",
              "    <tr>\n",
              "      <th>236</th>\n",
              "      <td>50.0</td>\n",
              "      <td>1</td>\n",
              "      <td>346.08</td>\n",
              "      <td>30.41</td>\n",
              "      <td>-102.10</td>\n",
              "      <td>2.430952</td>\n",
              "      <td>42</td>\n",
              "      <td>0.004239</td>\n",
              "      <td>3.389618</td>\n",
              "      <td>9907</td>\n",
              "      <td>18858.77</td>\n",
              "      <td>0.018351</td>\n",
              "      <td>25.525000</td>\n",
              "      <td>0.095238</td>\n",
              "      <td>86.520000</td>\n",
              "      <td>4</td>\n",
              "      <td>0</td>\n",
              "    </tr>\n",
              "    <tr>\n",
              "      <th>274</th>\n",
              "      <td>100.0</td>\n",
              "      <td>2</td>\n",
              "      <td>0.00</td>\n",
              "      <td>43.84</td>\n",
              "      <td>-56.16</td>\n",
              "      <td>0.150968</td>\n",
              "      <td>372</td>\n",
              "      <td>0.005854</td>\n",
              "      <td>0.000000</td>\n",
              "      <td>63544</td>\n",
              "      <td>1164.11</td>\n",
              "      <td>0.000000</td>\n",
              "      <td>0.000000</td>\n",
              "      <td>0.000000</td>\n",
              "      <td>0.000000</td>\n",
              "      <td>0</td>\n",
              "      <td>1</td>\n",
              "    </tr>\n",
              "    <tr>\n",
              "      <th>208</th>\n",
              "      <td>50.0</td>\n",
              "      <td>1</td>\n",
              "      <td>87.56</td>\n",
              "      <td>-3.05</td>\n",
              "      <td>-94.50</td>\n",
              "      <td>0.412664</td>\n",
              "      <td>229</td>\n",
              "      <td>0.004572</td>\n",
              "      <td>0.926561</td>\n",
              "      <td>50089</td>\n",
              "      <td>1786.26</td>\n",
              "      <td>0.049019</td>\n",
              "      <td>94.500000</td>\n",
              "      <td>0.004367</td>\n",
              "      <td>87.560000</td>\n",
              "      <td>1</td>\n",
              "      <td>0</td>\n",
              "    </tr>\n",
              "    <tr>\n",
              "      <th>...</th>\n",
              "      <td>...</td>\n",
              "      <td>...</td>\n",
              "      <td>...</td>\n",
              "      <td>...</td>\n",
              "      <td>...</td>\n",
              "      <td>...</td>\n",
              "      <td>...</td>\n",
              "      <td>...</td>\n",
              "      <td>...</td>\n",
              "      <td>...</td>\n",
              "      <td>...</td>\n",
              "      <td>...</td>\n",
              "      <td>...</td>\n",
              "      <td>...</td>\n",
              "      <td>...</td>\n",
              "      <td>...</td>\n",
              "      <td>...</td>\n",
              "    </tr>\n",
              "    <tr>\n",
              "      <th>490</th>\n",
              "      <td>1300.0</td>\n",
              "      <td>7</td>\n",
              "      <td>12133.73</td>\n",
              "      <td>244.30</td>\n",
              "      <td>-1081.90</td>\n",
              "      <td>0.395307</td>\n",
              "      <td>2642</td>\n",
              "      <td>0.008152</td>\n",
              "      <td>11.617895</td>\n",
              "      <td>324081</td>\n",
              "      <td>17343.28</td>\n",
              "      <td>0.699621</td>\n",
              "      <td>12.893827</td>\n",
              "      <td>0.030659</td>\n",
              "      <td>149.799136</td>\n",
              "      <td>81</td>\n",
              "      <td>0</td>\n",
              "    </tr>\n",
              "    <tr>\n",
              "      <th>175</th>\n",
              "      <td>350.0</td>\n",
              "      <td>1</td>\n",
              "      <td>0.00</td>\n",
              "      <td>-1.99</td>\n",
              "      <td>-351.99</td>\n",
              "      <td>0.684805</td>\n",
              "      <td>514</td>\n",
              "      <td>0.004000</td>\n",
              "      <td>0.000000</td>\n",
              "      <td>128499</td>\n",
              "      <td>2263.65</td>\n",
              "      <td>0.000000</td>\n",
              "      <td>0.000000</td>\n",
              "      <td>0.000000</td>\n",
              "      <td>0.000000</td>\n",
              "      <td>0</td>\n",
              "      <td>1</td>\n",
              "    </tr>\n",
              "    <tr>\n",
              "      <th>417</th>\n",
              "      <td>400.0</td>\n",
              "      <td>4</td>\n",
              "      <td>1100.07</td>\n",
              "      <td>-18.20</td>\n",
              "      <td>-438.60</td>\n",
              "      <td>0.748464</td>\n",
              "      <td>586</td>\n",
              "      <td>0.003683</td>\n",
              "      <td>2.508140</td>\n",
              "      <td>159109</td>\n",
              "      <td>5303.10</td>\n",
              "      <td>0.207439</td>\n",
              "      <td>62.657143</td>\n",
              "      <td>0.011945</td>\n",
              "      <td>157.152857</td>\n",
              "      <td>7</td>\n",
              "      <td>0</td>\n",
              "    </tr>\n",
              "    <tr>\n",
              "      <th>131</th>\n",
              "      <td>150.0</td>\n",
              "      <td>1</td>\n",
              "      <td>0.00</td>\n",
              "      <td>114.30</td>\n",
              "      <td>-35.70</td>\n",
              "      <td>0.300000</td>\n",
              "      <td>119</td>\n",
              "      <td>0.003834</td>\n",
              "      <td>0.000000</td>\n",
              "      <td>31040</td>\n",
              "      <td>334.59</td>\n",
              "      <td>0.000000</td>\n",
              "      <td>0.000000</td>\n",
              "      <td>0.000000</td>\n",
              "      <td>0.000000</td>\n",
              "      <td>0</td>\n",
              "      <td>0</td>\n",
              "    </tr>\n",
              "    <tr>\n",
              "      <th>92</th>\n",
              "      <td>50.0</td>\n",
              "      <td>1</td>\n",
              "      <td>0.00</td>\n",
              "      <td>-1.00</td>\n",
              "      <td>-51.00</td>\n",
              "      <td>1.961538</td>\n",
              "      <td>26</td>\n",
              "      <td>0.002537</td>\n",
              "      <td>0.000000</td>\n",
              "      <td>10250</td>\n",
              "      <td>0.00</td>\n",
              "      <td>0.000000</td>\n",
              "      <td>0.000000</td>\n",
              "      <td>0.000000</td>\n",
              "      <td>0.000000</td>\n",
              "      <td>0</td>\n",
              "      <td>1</td>\n",
              "    </tr>\n",
              "  </tbody>\n",
              "</table>\n",
              "<p>466 rows × 17 columns</p>\n",
              "</div>\n",
              "      <button class=\"colab-df-convert\" onclick=\"convertToInteractive('df-a257ad3f-56b4-470c-8a65-27c6437c0a77')\"\n",
              "              title=\"Convert this dataframe to an interactive table.\"\n",
              "              style=\"display:none;\">\n",
              "        \n",
              "  <svg xmlns=\"http://www.w3.org/2000/svg\" height=\"24px\"viewBox=\"0 0 24 24\"\n",
              "       width=\"24px\">\n",
              "    <path d=\"M0 0h24v24H0V0z\" fill=\"none\"/>\n",
              "    <path d=\"M18.56 5.44l.94 2.06.94-2.06 2.06-.94-2.06-.94-.94-2.06-.94 2.06-2.06.94zm-11 1L8.5 8.5l.94-2.06 2.06-.94-2.06-.94L8.5 2.5l-.94 2.06-2.06.94zm10 10l.94 2.06.94-2.06 2.06-.94-2.06-.94-.94-2.06-.94 2.06-2.06.94z\"/><path d=\"M17.41 7.96l-1.37-1.37c-.4-.4-.92-.59-1.43-.59-.52 0-1.04.2-1.43.59L10.3 9.45l-7.72 7.72c-.78.78-.78 2.05 0 2.83L4 21.41c.39.39.9.59 1.41.59.51 0 1.02-.2 1.41-.59l7.78-7.78 2.81-2.81c.8-.78.8-2.07 0-2.86zM5.41 20L4 18.59l7.72-7.72 1.47 1.35L5.41 20z\"/>\n",
              "  </svg>\n",
              "      </button>\n",
              "      \n",
              "  <style>\n",
              "    .colab-df-container {\n",
              "      display:flex;\n",
              "      flex-wrap:wrap;\n",
              "      gap: 12px;\n",
              "    }\n",
              "\n",
              "    .colab-df-convert {\n",
              "      background-color: #E8F0FE;\n",
              "      border: none;\n",
              "      border-radius: 50%;\n",
              "      cursor: pointer;\n",
              "      display: none;\n",
              "      fill: #1967D2;\n",
              "      height: 32px;\n",
              "      padding: 0 0 0 0;\n",
              "      width: 32px;\n",
              "    }\n",
              "\n",
              "    .colab-df-convert:hover {\n",
              "      background-color: #E2EBFA;\n",
              "      box-shadow: 0px 1px 2px rgba(60, 64, 67, 0.3), 0px 1px 3px 1px rgba(60, 64, 67, 0.15);\n",
              "      fill: #174EA6;\n",
              "    }\n",
              "\n",
              "    [theme=dark] .colab-df-convert {\n",
              "      background-color: #3B4455;\n",
              "      fill: #D2E3FC;\n",
              "    }\n",
              "\n",
              "    [theme=dark] .colab-df-convert:hover {\n",
              "      background-color: #434B5C;\n",
              "      box-shadow: 0px 1px 3px 1px rgba(0, 0, 0, 0.15);\n",
              "      filter: drop-shadow(0px 1px 2px rgba(0, 0, 0, 0.3));\n",
              "      fill: #FFFFFF;\n",
              "    }\n",
              "  </style>\n",
              "\n",
              "      <script>\n",
              "        const buttonEl =\n",
              "          document.querySelector('#df-a257ad3f-56b4-470c-8a65-27c6437c0a77 button.colab-df-convert');\n",
              "        buttonEl.style.display =\n",
              "          google.colab.kernel.accessAllowed ? 'block' : 'none';\n",
              "\n",
              "        async function convertToInteractive(key) {\n",
              "          const element = document.querySelector('#df-a257ad3f-56b4-470c-8a65-27c6437c0a77');\n",
              "          const dataTable =\n",
              "            await google.colab.kernel.invokeFunction('convertToInteractive',\n",
              "                                                     [key], {});\n",
              "          if (!dataTable) return;\n",
              "\n",
              "          const docLinkHtml = 'Like what you see? Visit the ' +\n",
              "            '<a target=\"_blank\" href=https://colab.research.google.com/notebooks/data_table.ipynb>data table notebook</a>'\n",
              "            + ' to learn more about interactive tables.';\n",
              "          element.innerHTML = '';\n",
              "          dataTable['output_type'] = 'display_data';\n",
              "          await google.colab.output.renderOutput(dataTable, element);\n",
              "          const docLink = document.createElement('div');\n",
              "          docLink.innerHTML = docLinkHtml;\n",
              "          element.appendChild(docLink);\n",
              "        }\n",
              "      </script>\n",
              "    </div>\n",
              "  </div>\n",
              "  "
            ]
          },
          "metadata": {},
          "execution_count": 5
        }
      ]
    },
    {
      "cell_type": "markdown",
      "source": [
        "Visualizando os dados sem a coluna \"target\" que corresponde as classes do conjunto de dados"
      ],
      "metadata": {
        "id": "_DsFS3Fyh0kS"
      }
    },
    {
      "cell_type": "code",
      "source": [
        "df2 = df.drop(labels='target', axis=1)\n",
        "df2"
      ],
      "metadata": {
        "colab": {
          "base_uri": "https://localhost:8080/",
          "height": 424
        },
        "id": "6ASce_Pph3WT",
        "outputId": "e2999601-e702-457c-e3a8-b62dec0a033b"
      },
      "execution_count": 6,
      "outputs": [
        {
          "output_type": "execute_result",
          "data": {
            "text/plain": [
              "     feature0  feature1  feature2  feature3  feature4  feature5  feature6  \\\n",
              "337     200.0         2    662.28     39.10   -188.55  0.246978       761   \n",
              "266     150.0         2      0.00    149.55     -0.45  0.150000         3   \n",
              "236      50.0         1    346.08     30.41   -102.10  2.430952        42   \n",
              "274     100.0         2      0.00     43.84    -56.16  0.150968       372   \n",
              "208      50.0         1     87.56     -3.05    -94.50  0.412664       229   \n",
              "..        ...       ...       ...       ...       ...       ...       ...   \n",
              "490    1300.0         7  12133.73    244.30  -1081.90  0.395307      2642   \n",
              "175     350.0         1      0.00     -1.99   -351.99  0.684805       514   \n",
              "417     400.0         4   1100.07    -18.20   -438.60  0.748464       586   \n",
              "131     150.0         1      0.00    114.30    -35.70  0.300000       119   \n",
              "92       50.0         1      0.00     -1.00    -51.00  1.961538        26   \n",
              "\n",
              "     feature7   feature8  feature9  feature10  feature11  feature12  \\\n",
              "337  0.004548   3.523703    167326   33441.06   0.019804  26.850000   \n",
              "266  0.037975   0.000000        79      78.93   0.000000   0.000000   \n",
              "236  0.004239   3.389618      9907   18858.77   0.018351  25.525000   \n",
              "274  0.005854   0.000000     63544    1164.11   0.000000   0.000000   \n",
              "208  0.004572   0.926561     50089    1786.26   0.049019  94.500000   \n",
              "..        ...        ...       ...        ...        ...        ...   \n",
              "490  0.008152  11.617895    324081   17343.28   0.699621  12.893827   \n",
              "175  0.004000   0.000000    128499    2263.65   0.000000   0.000000   \n",
              "417  0.003683   2.508140    159109    5303.10   0.207439  62.657143   \n",
              "131  0.003834   0.000000     31040     334.59   0.000000   0.000000   \n",
              "92   0.002537   0.000000     10250       0.00   0.000000   0.000000   \n",
              "\n",
              "     feature13   feature14  feature15  \n",
              "337   0.009198   94.611429          7  \n",
              "266   0.000000    0.000000          0  \n",
              "236   0.095238   86.520000          4  \n",
              "274   0.000000    0.000000          0  \n",
              "208   0.004367   87.560000          1  \n",
              "..         ...         ...        ...  \n",
              "490   0.030659  149.799136         81  \n",
              "175   0.000000    0.000000          0  \n",
              "417   0.011945  157.152857          7  \n",
              "131   0.000000    0.000000          0  \n",
              "92    0.000000    0.000000          0  \n",
              "\n",
              "[466 rows x 16 columns]"
            ],
            "text/html": [
              "\n",
              "  <div id=\"df-831dda22-f945-460e-946f-a12138deaa8d\">\n",
              "    <div class=\"colab-df-container\">\n",
              "      <div>\n",
              "<style scoped>\n",
              "    .dataframe tbody tr th:only-of-type {\n",
              "        vertical-align: middle;\n",
              "    }\n",
              "\n",
              "    .dataframe tbody tr th {\n",
              "        vertical-align: top;\n",
              "    }\n",
              "\n",
              "    .dataframe thead th {\n",
              "        text-align: right;\n",
              "    }\n",
              "</style>\n",
              "<table border=\"1\" class=\"dataframe\">\n",
              "  <thead>\n",
              "    <tr style=\"text-align: right;\">\n",
              "      <th></th>\n",
              "      <th>feature0</th>\n",
              "      <th>feature1</th>\n",
              "      <th>feature2</th>\n",
              "      <th>feature3</th>\n",
              "      <th>feature4</th>\n",
              "      <th>feature5</th>\n",
              "      <th>feature6</th>\n",
              "      <th>feature7</th>\n",
              "      <th>feature8</th>\n",
              "      <th>feature9</th>\n",
              "      <th>feature10</th>\n",
              "      <th>feature11</th>\n",
              "      <th>feature12</th>\n",
              "      <th>feature13</th>\n",
              "      <th>feature14</th>\n",
              "      <th>feature15</th>\n",
              "    </tr>\n",
              "  </thead>\n",
              "  <tbody>\n",
              "    <tr>\n",
              "      <th>337</th>\n",
              "      <td>200.0</td>\n",
              "      <td>2</td>\n",
              "      <td>662.28</td>\n",
              "      <td>39.10</td>\n",
              "      <td>-188.55</td>\n",
              "      <td>0.246978</td>\n",
              "      <td>761</td>\n",
              "      <td>0.004548</td>\n",
              "      <td>3.523703</td>\n",
              "      <td>167326</td>\n",
              "      <td>33441.06</td>\n",
              "      <td>0.019804</td>\n",
              "      <td>26.850000</td>\n",
              "      <td>0.009198</td>\n",
              "      <td>94.611429</td>\n",
              "      <td>7</td>\n",
              "    </tr>\n",
              "    <tr>\n",
              "      <th>266</th>\n",
              "      <td>150.0</td>\n",
              "      <td>2</td>\n",
              "      <td>0.00</td>\n",
              "      <td>149.55</td>\n",
              "      <td>-0.45</td>\n",
              "      <td>0.150000</td>\n",
              "      <td>3</td>\n",
              "      <td>0.037975</td>\n",
              "      <td>0.000000</td>\n",
              "      <td>79</td>\n",
              "      <td>78.93</td>\n",
              "      <td>0.000000</td>\n",
              "      <td>0.000000</td>\n",
              "      <td>0.000000</td>\n",
              "      <td>0.000000</td>\n",
              "      <td>0</td>\n",
              "    </tr>\n",
              "    <tr>\n",
              "      <th>236</th>\n",
              "      <td>50.0</td>\n",
              "      <td>1</td>\n",
              "      <td>346.08</td>\n",
              "      <td>30.41</td>\n",
              "      <td>-102.10</td>\n",
              "      <td>2.430952</td>\n",
              "      <td>42</td>\n",
              "      <td>0.004239</td>\n",
              "      <td>3.389618</td>\n",
              "      <td>9907</td>\n",
              "      <td>18858.77</td>\n",
              "      <td>0.018351</td>\n",
              "      <td>25.525000</td>\n",
              "      <td>0.095238</td>\n",
              "      <td>86.520000</td>\n",
              "      <td>4</td>\n",
              "    </tr>\n",
              "    <tr>\n",
              "      <th>274</th>\n",
              "      <td>100.0</td>\n",
              "      <td>2</td>\n",
              "      <td>0.00</td>\n",
              "      <td>43.84</td>\n",
              "      <td>-56.16</td>\n",
              "      <td>0.150968</td>\n",
              "      <td>372</td>\n",
              "      <td>0.005854</td>\n",
              "      <td>0.000000</td>\n",
              "      <td>63544</td>\n",
              "      <td>1164.11</td>\n",
              "      <td>0.000000</td>\n",
              "      <td>0.000000</td>\n",
              "      <td>0.000000</td>\n",
              "      <td>0.000000</td>\n",
              "      <td>0</td>\n",
              "    </tr>\n",
              "    <tr>\n",
              "      <th>208</th>\n",
              "      <td>50.0</td>\n",
              "      <td>1</td>\n",
              "      <td>87.56</td>\n",
              "      <td>-3.05</td>\n",
              "      <td>-94.50</td>\n",
              "      <td>0.412664</td>\n",
              "      <td>229</td>\n",
              "      <td>0.004572</td>\n",
              "      <td>0.926561</td>\n",
              "      <td>50089</td>\n",
              "      <td>1786.26</td>\n",
              "      <td>0.049019</td>\n",
              "      <td>94.500000</td>\n",
              "      <td>0.004367</td>\n",
              "      <td>87.560000</td>\n",
              "      <td>1</td>\n",
              "    </tr>\n",
              "    <tr>\n",
              "      <th>...</th>\n",
              "      <td>...</td>\n",
              "      <td>...</td>\n",
              "      <td>...</td>\n",
              "      <td>...</td>\n",
              "      <td>...</td>\n",
              "      <td>...</td>\n",
              "      <td>...</td>\n",
              "      <td>...</td>\n",
              "      <td>...</td>\n",
              "      <td>...</td>\n",
              "      <td>...</td>\n",
              "      <td>...</td>\n",
              "      <td>...</td>\n",
              "      <td>...</td>\n",
              "      <td>...</td>\n",
              "      <td>...</td>\n",
              "    </tr>\n",
              "    <tr>\n",
              "      <th>490</th>\n",
              "      <td>1300.0</td>\n",
              "      <td>7</td>\n",
              "      <td>12133.73</td>\n",
              "      <td>244.30</td>\n",
              "      <td>-1081.90</td>\n",
              "      <td>0.395307</td>\n",
              "      <td>2642</td>\n",
              "      <td>0.008152</td>\n",
              "      <td>11.617895</td>\n",
              "      <td>324081</td>\n",
              "      <td>17343.28</td>\n",
              "      <td>0.699621</td>\n",
              "      <td>12.893827</td>\n",
              "      <td>0.030659</td>\n",
              "      <td>149.799136</td>\n",
              "      <td>81</td>\n",
              "    </tr>\n",
              "    <tr>\n",
              "      <th>175</th>\n",
              "      <td>350.0</td>\n",
              "      <td>1</td>\n",
              "      <td>0.00</td>\n",
              "      <td>-1.99</td>\n",
              "      <td>-351.99</td>\n",
              "      <td>0.684805</td>\n",
              "      <td>514</td>\n",
              "      <td>0.004000</td>\n",
              "      <td>0.000000</td>\n",
              "      <td>128499</td>\n",
              "      <td>2263.65</td>\n",
              "      <td>0.000000</td>\n",
              "      <td>0.000000</td>\n",
              "      <td>0.000000</td>\n",
              "      <td>0.000000</td>\n",
              "      <td>0</td>\n",
              "    </tr>\n",
              "    <tr>\n",
              "      <th>417</th>\n",
              "      <td>400.0</td>\n",
              "      <td>4</td>\n",
              "      <td>1100.07</td>\n",
              "      <td>-18.20</td>\n",
              "      <td>-438.60</td>\n",
              "      <td>0.748464</td>\n",
              "      <td>586</td>\n",
              "      <td>0.003683</td>\n",
              "      <td>2.508140</td>\n",
              "      <td>159109</td>\n",
              "      <td>5303.10</td>\n",
              "      <td>0.207439</td>\n",
              "      <td>62.657143</td>\n",
              "      <td>0.011945</td>\n",
              "      <td>157.152857</td>\n",
              "      <td>7</td>\n",
              "    </tr>\n",
              "    <tr>\n",
              "      <th>131</th>\n",
              "      <td>150.0</td>\n",
              "      <td>1</td>\n",
              "      <td>0.00</td>\n",
              "      <td>114.30</td>\n",
              "      <td>-35.70</td>\n",
              "      <td>0.300000</td>\n",
              "      <td>119</td>\n",
              "      <td>0.003834</td>\n",
              "      <td>0.000000</td>\n",
              "      <td>31040</td>\n",
              "      <td>334.59</td>\n",
              "      <td>0.000000</td>\n",
              "      <td>0.000000</td>\n",
              "      <td>0.000000</td>\n",
              "      <td>0.000000</td>\n",
              "      <td>0</td>\n",
              "    </tr>\n",
              "    <tr>\n",
              "      <th>92</th>\n",
              "      <td>50.0</td>\n",
              "      <td>1</td>\n",
              "      <td>0.00</td>\n",
              "      <td>-1.00</td>\n",
              "      <td>-51.00</td>\n",
              "      <td>1.961538</td>\n",
              "      <td>26</td>\n",
              "      <td>0.002537</td>\n",
              "      <td>0.000000</td>\n",
              "      <td>10250</td>\n",
              "      <td>0.00</td>\n",
              "      <td>0.000000</td>\n",
              "      <td>0.000000</td>\n",
              "      <td>0.000000</td>\n",
              "      <td>0.000000</td>\n",
              "      <td>0</td>\n",
              "    </tr>\n",
              "  </tbody>\n",
              "</table>\n",
              "<p>466 rows × 16 columns</p>\n",
              "</div>\n",
              "      <button class=\"colab-df-convert\" onclick=\"convertToInteractive('df-831dda22-f945-460e-946f-a12138deaa8d')\"\n",
              "              title=\"Convert this dataframe to an interactive table.\"\n",
              "              style=\"display:none;\">\n",
              "        \n",
              "  <svg xmlns=\"http://www.w3.org/2000/svg\" height=\"24px\"viewBox=\"0 0 24 24\"\n",
              "       width=\"24px\">\n",
              "    <path d=\"M0 0h24v24H0V0z\" fill=\"none\"/>\n",
              "    <path d=\"M18.56 5.44l.94 2.06.94-2.06 2.06-.94-2.06-.94-.94-2.06-.94 2.06-2.06.94zm-11 1L8.5 8.5l.94-2.06 2.06-.94-2.06-.94L8.5 2.5l-.94 2.06-2.06.94zm10 10l.94 2.06.94-2.06 2.06-.94-2.06-.94-.94-2.06-.94 2.06-2.06.94z\"/><path d=\"M17.41 7.96l-1.37-1.37c-.4-.4-.92-.59-1.43-.59-.52 0-1.04.2-1.43.59L10.3 9.45l-7.72 7.72c-.78.78-.78 2.05 0 2.83L4 21.41c.39.39.9.59 1.41.59.51 0 1.02-.2 1.41-.59l7.78-7.78 2.81-2.81c.8-.78.8-2.07 0-2.86zM5.41 20L4 18.59l7.72-7.72 1.47 1.35L5.41 20z\"/>\n",
              "  </svg>\n",
              "      </button>\n",
              "      \n",
              "  <style>\n",
              "    .colab-df-container {\n",
              "      display:flex;\n",
              "      flex-wrap:wrap;\n",
              "      gap: 12px;\n",
              "    }\n",
              "\n",
              "    .colab-df-convert {\n",
              "      background-color: #E8F0FE;\n",
              "      border: none;\n",
              "      border-radius: 50%;\n",
              "      cursor: pointer;\n",
              "      display: none;\n",
              "      fill: #1967D2;\n",
              "      height: 32px;\n",
              "      padding: 0 0 0 0;\n",
              "      width: 32px;\n",
              "    }\n",
              "\n",
              "    .colab-df-convert:hover {\n",
              "      background-color: #E2EBFA;\n",
              "      box-shadow: 0px 1px 2px rgba(60, 64, 67, 0.3), 0px 1px 3px 1px rgba(60, 64, 67, 0.15);\n",
              "      fill: #174EA6;\n",
              "    }\n",
              "\n",
              "    [theme=dark] .colab-df-convert {\n",
              "      background-color: #3B4455;\n",
              "      fill: #D2E3FC;\n",
              "    }\n",
              "\n",
              "    [theme=dark] .colab-df-convert:hover {\n",
              "      background-color: #434B5C;\n",
              "      box-shadow: 0px 1px 3px 1px rgba(0, 0, 0, 0.15);\n",
              "      filter: drop-shadow(0px 1px 2px rgba(0, 0, 0, 0.3));\n",
              "      fill: #FFFFFF;\n",
              "    }\n",
              "  </style>\n",
              "\n",
              "      <script>\n",
              "        const buttonEl =\n",
              "          document.querySelector('#df-831dda22-f945-460e-946f-a12138deaa8d button.colab-df-convert');\n",
              "        buttonEl.style.display =\n",
              "          google.colab.kernel.accessAllowed ? 'block' : 'none';\n",
              "\n",
              "        async function convertToInteractive(key) {\n",
              "          const element = document.querySelector('#df-831dda22-f945-460e-946f-a12138deaa8d');\n",
              "          const dataTable =\n",
              "            await google.colab.kernel.invokeFunction('convertToInteractive',\n",
              "                                                     [key], {});\n",
              "          if (!dataTable) return;\n",
              "\n",
              "          const docLinkHtml = 'Like what you see? Visit the ' +\n",
              "            '<a target=\"_blank\" href=https://colab.research.google.com/notebooks/data_table.ipynb>data table notebook</a>'\n",
              "            + ' to learn more about interactive tables.';\n",
              "          element.innerHTML = '';\n",
              "          dataTable['output_type'] = 'display_data';\n",
              "          await google.colab.output.renderOutput(dataTable, element);\n",
              "          const docLink = document.createElement('div');\n",
              "          docLink.innerHTML = docLinkHtml;\n",
              "          element.appendChild(docLink);\n",
              "        }\n",
              "      </script>\n",
              "    </div>\n",
              "  </div>\n",
              "  "
            ]
          },
          "metadata": {},
          "execution_count": 6
        }
      ]
    },
    {
      "cell_type": "markdown",
      "source": [
        "Verificando o tamanho do conjunto de dados"
      ],
      "metadata": {
        "id": "XIs0XAfMh6is"
      }
    },
    {
      "cell_type": "code",
      "source": [
        "df.shape"
      ],
      "metadata": {
        "colab": {
          "base_uri": "https://localhost:8080/"
        },
        "id": "vUbRRuM9h7IO",
        "outputId": "c743e8ad-a21f-48da-ed3b-53ecf0d7c551"
      },
      "execution_count": 7,
      "outputs": [
        {
          "output_type": "execute_result",
          "data": {
            "text/plain": [
              "(466, 17)"
            ]
          },
          "metadata": {},
          "execution_count": 7
        }
      ]
    },
    {
      "cell_type": "markdown",
      "source": [
        "Exibindo os atributos do conjunto de dados"
      ],
      "metadata": {
        "id": "pl_MvW1Wh-zL"
      }
    },
    {
      "cell_type": "code",
      "source": [
        "print(df.columns)"
      ],
      "metadata": {
        "colab": {
          "base_uri": "https://localhost:8080/"
        },
        "id": "kfISHO9OiAIQ",
        "outputId": "d5757690-cc22-4633-cbb0-dbb15a1fa9b5"
      },
      "execution_count": 8,
      "outputs": [
        {
          "output_type": "stream",
          "name": "stdout",
          "text": [
            "Index(['feature0', 'feature1', 'feature2', 'feature3', 'feature4', 'feature5',\n",
            "       'feature6', 'feature7', 'feature8', 'feature9', 'feature10',\n",
            "       'feature11', 'feature12', 'feature13', 'feature14', 'feature15',\n",
            "       'target'],\n",
            "      dtype='object')\n"
          ]
        }
      ]
    },
    {
      "cell_type": "markdown",
      "source": [
        "Exibição das estatísticas descritivas considerando duas casas decimais"
      ],
      "metadata": {
        "id": "SLZWXZTFiEte"
      }
    },
    {
      "cell_type": "code",
      "source": [
        "df.describe().round(2)"
      ],
      "metadata": {
        "colab": {
          "base_uri": "https://localhost:8080/",
          "height": 344
        },
        "id": "o3w7XgrAiGPb",
        "outputId": "278ccd63-5fa7-4f91-a497-ca1a5e2d7d97"
      },
      "execution_count": 9,
      "outputs": [
        {
          "output_type": "execute_result",
          "data": {
            "text/plain": [
              "       feature0  feature1  feature2  feature3  feature4  feature5  feature6  \\\n",
              "count    466.00    466.00    466.00    466.00    466.00    466.00    466.00   \n",
              "mean     438.74      4.85   1244.32     44.60   -434.30      0.47    979.07   \n",
              "std      984.59      6.84   3558.70    122.09    975.56      0.45   1460.74   \n",
              "min        0.00      0.00      0.00   -645.87 -15506.35      0.15      1.00   \n",
              "25%       50.00      1.00      0.00     -0.40   -492.04      0.17    133.50   \n",
              "50%      150.00      2.00    169.83     18.36   -154.52      0.30    420.00   \n",
              "75%      500.00      6.00   1017.38     44.63    -50.18      0.57   1238.75   \n",
              "max    15400.00     31.00  40291.24   1521.90     -0.26      3.15  11731.00   \n",
              "\n",
              "       feature7  feature8    feature9  feature10  feature11  feature12  \\\n",
              "count    466.00    466.00      466.00     466.00     466.00     466.00   \n",
              "mean       0.11      3.86   216437.82    6930.46       0.44      61.89   \n",
              "std        1.87     15.61   350862.17   17581.80       3.44     142.52   \n",
              "min        0.00      0.00        1.00       0.00       0.00       0.00   \n",
              "25%        0.00      0.00    21131.00     383.69       0.00       0.00   \n",
              "50%        0.01      0.94    85328.50    1410.86       0.08      19.69   \n",
              "75%        0.01      2.82   264503.50    5212.98       0.31      65.50   \n",
              "max       40.00    281.67  3366472.00  237182.78      73.08    2232.10   \n",
              "\n",
              "       feature13  feature14  feature15  target  \n",
              "count     466.00     466.00     466.00  466.00  \n",
              "mean        0.01      87.71      10.31    0.56  \n",
              "std         0.02     145.43      33.63    0.50  \n",
              "min         0.00       0.00       0.00    0.00  \n",
              "25%         0.00       0.00       0.00    0.00  \n",
              "50%         0.00      72.52       2.00    1.00  \n",
              "75%         0.01     127.30       8.00    1.00  \n",
              "max         0.20    2154.00     541.00    1.00  "
            ],
            "text/html": [
              "\n",
              "  <div id=\"df-3a00b1b4-9e1d-4ea2-9ff3-7be360e0af9f\">\n",
              "    <div class=\"colab-df-container\">\n",
              "      <div>\n",
              "<style scoped>\n",
              "    .dataframe tbody tr th:only-of-type {\n",
              "        vertical-align: middle;\n",
              "    }\n",
              "\n",
              "    .dataframe tbody tr th {\n",
              "        vertical-align: top;\n",
              "    }\n",
              "\n",
              "    .dataframe thead th {\n",
              "        text-align: right;\n",
              "    }\n",
              "</style>\n",
              "<table border=\"1\" class=\"dataframe\">\n",
              "  <thead>\n",
              "    <tr style=\"text-align: right;\">\n",
              "      <th></th>\n",
              "      <th>feature0</th>\n",
              "      <th>feature1</th>\n",
              "      <th>feature2</th>\n",
              "      <th>feature3</th>\n",
              "      <th>feature4</th>\n",
              "      <th>feature5</th>\n",
              "      <th>feature6</th>\n",
              "      <th>feature7</th>\n",
              "      <th>feature8</th>\n",
              "      <th>feature9</th>\n",
              "      <th>feature10</th>\n",
              "      <th>feature11</th>\n",
              "      <th>feature12</th>\n",
              "      <th>feature13</th>\n",
              "      <th>feature14</th>\n",
              "      <th>feature15</th>\n",
              "      <th>target</th>\n",
              "    </tr>\n",
              "  </thead>\n",
              "  <tbody>\n",
              "    <tr>\n",
              "      <th>count</th>\n",
              "      <td>466.00</td>\n",
              "      <td>466.00</td>\n",
              "      <td>466.00</td>\n",
              "      <td>466.00</td>\n",
              "      <td>466.00</td>\n",
              "      <td>466.00</td>\n",
              "      <td>466.00</td>\n",
              "      <td>466.00</td>\n",
              "      <td>466.00</td>\n",
              "      <td>466.00</td>\n",
              "      <td>466.00</td>\n",
              "      <td>466.00</td>\n",
              "      <td>466.00</td>\n",
              "      <td>466.00</td>\n",
              "      <td>466.00</td>\n",
              "      <td>466.00</td>\n",
              "      <td>466.00</td>\n",
              "    </tr>\n",
              "    <tr>\n",
              "      <th>mean</th>\n",
              "      <td>438.74</td>\n",
              "      <td>4.85</td>\n",
              "      <td>1244.32</td>\n",
              "      <td>44.60</td>\n",
              "      <td>-434.30</td>\n",
              "      <td>0.47</td>\n",
              "      <td>979.07</td>\n",
              "      <td>0.11</td>\n",
              "      <td>3.86</td>\n",
              "      <td>216437.82</td>\n",
              "      <td>6930.46</td>\n",
              "      <td>0.44</td>\n",
              "      <td>61.89</td>\n",
              "      <td>0.01</td>\n",
              "      <td>87.71</td>\n",
              "      <td>10.31</td>\n",
              "      <td>0.56</td>\n",
              "    </tr>\n",
              "    <tr>\n",
              "      <th>std</th>\n",
              "      <td>984.59</td>\n",
              "      <td>6.84</td>\n",
              "      <td>3558.70</td>\n",
              "      <td>122.09</td>\n",
              "      <td>975.56</td>\n",
              "      <td>0.45</td>\n",
              "      <td>1460.74</td>\n",
              "      <td>1.87</td>\n",
              "      <td>15.61</td>\n",
              "      <td>350862.17</td>\n",
              "      <td>17581.80</td>\n",
              "      <td>3.44</td>\n",
              "      <td>142.52</td>\n",
              "      <td>0.02</td>\n",
              "      <td>145.43</td>\n",
              "      <td>33.63</td>\n",
              "      <td>0.50</td>\n",
              "    </tr>\n",
              "    <tr>\n",
              "      <th>min</th>\n",
              "      <td>0.00</td>\n",
              "      <td>0.00</td>\n",
              "      <td>0.00</td>\n",
              "      <td>-645.87</td>\n",
              "      <td>-15506.35</td>\n",
              "      <td>0.15</td>\n",
              "      <td>1.00</td>\n",
              "      <td>0.00</td>\n",
              "      <td>0.00</td>\n",
              "      <td>1.00</td>\n",
              "      <td>0.00</td>\n",
              "      <td>0.00</td>\n",
              "      <td>0.00</td>\n",
              "      <td>0.00</td>\n",
              "      <td>0.00</td>\n",
              "      <td>0.00</td>\n",
              "      <td>0.00</td>\n",
              "    </tr>\n",
              "    <tr>\n",
              "      <th>25%</th>\n",
              "      <td>50.00</td>\n",
              "      <td>1.00</td>\n",
              "      <td>0.00</td>\n",
              "      <td>-0.40</td>\n",
              "      <td>-492.04</td>\n",
              "      <td>0.17</td>\n",
              "      <td>133.50</td>\n",
              "      <td>0.00</td>\n",
              "      <td>0.00</td>\n",
              "      <td>21131.00</td>\n",
              "      <td>383.69</td>\n",
              "      <td>0.00</td>\n",
              "      <td>0.00</td>\n",
              "      <td>0.00</td>\n",
              "      <td>0.00</td>\n",
              "      <td>0.00</td>\n",
              "      <td>0.00</td>\n",
              "    </tr>\n",
              "    <tr>\n",
              "      <th>50%</th>\n",
              "      <td>150.00</td>\n",
              "      <td>2.00</td>\n",
              "      <td>169.83</td>\n",
              "      <td>18.36</td>\n",
              "      <td>-154.52</td>\n",
              "      <td>0.30</td>\n",
              "      <td>420.00</td>\n",
              "      <td>0.01</td>\n",
              "      <td>0.94</td>\n",
              "      <td>85328.50</td>\n",
              "      <td>1410.86</td>\n",
              "      <td>0.08</td>\n",
              "      <td>19.69</td>\n",
              "      <td>0.00</td>\n",
              "      <td>72.52</td>\n",
              "      <td>2.00</td>\n",
              "      <td>1.00</td>\n",
              "    </tr>\n",
              "    <tr>\n",
              "      <th>75%</th>\n",
              "      <td>500.00</td>\n",
              "      <td>6.00</td>\n",
              "      <td>1017.38</td>\n",
              "      <td>44.63</td>\n",
              "      <td>-50.18</td>\n",
              "      <td>0.57</td>\n",
              "      <td>1238.75</td>\n",
              "      <td>0.01</td>\n",
              "      <td>2.82</td>\n",
              "      <td>264503.50</td>\n",
              "      <td>5212.98</td>\n",
              "      <td>0.31</td>\n",
              "      <td>65.50</td>\n",
              "      <td>0.01</td>\n",
              "      <td>127.30</td>\n",
              "      <td>8.00</td>\n",
              "      <td>1.00</td>\n",
              "    </tr>\n",
              "    <tr>\n",
              "      <th>max</th>\n",
              "      <td>15400.00</td>\n",
              "      <td>31.00</td>\n",
              "      <td>40291.24</td>\n",
              "      <td>1521.90</td>\n",
              "      <td>-0.26</td>\n",
              "      <td>3.15</td>\n",
              "      <td>11731.00</td>\n",
              "      <td>40.00</td>\n",
              "      <td>281.67</td>\n",
              "      <td>3366472.00</td>\n",
              "      <td>237182.78</td>\n",
              "      <td>73.08</td>\n",
              "      <td>2232.10</td>\n",
              "      <td>0.20</td>\n",
              "      <td>2154.00</td>\n",
              "      <td>541.00</td>\n",
              "      <td>1.00</td>\n",
              "    </tr>\n",
              "  </tbody>\n",
              "</table>\n",
              "</div>\n",
              "      <button class=\"colab-df-convert\" onclick=\"convertToInteractive('df-3a00b1b4-9e1d-4ea2-9ff3-7be360e0af9f')\"\n",
              "              title=\"Convert this dataframe to an interactive table.\"\n",
              "              style=\"display:none;\">\n",
              "        \n",
              "  <svg xmlns=\"http://www.w3.org/2000/svg\" height=\"24px\"viewBox=\"0 0 24 24\"\n",
              "       width=\"24px\">\n",
              "    <path d=\"M0 0h24v24H0V0z\" fill=\"none\"/>\n",
              "    <path d=\"M18.56 5.44l.94 2.06.94-2.06 2.06-.94-2.06-.94-.94-2.06-.94 2.06-2.06.94zm-11 1L8.5 8.5l.94-2.06 2.06-.94-2.06-.94L8.5 2.5l-.94 2.06-2.06.94zm10 10l.94 2.06.94-2.06 2.06-.94-2.06-.94-.94-2.06-.94 2.06-2.06.94z\"/><path d=\"M17.41 7.96l-1.37-1.37c-.4-.4-.92-.59-1.43-.59-.52 0-1.04.2-1.43.59L10.3 9.45l-7.72 7.72c-.78.78-.78 2.05 0 2.83L4 21.41c.39.39.9.59 1.41.59.51 0 1.02-.2 1.41-.59l7.78-7.78 2.81-2.81c.8-.78.8-2.07 0-2.86zM5.41 20L4 18.59l7.72-7.72 1.47 1.35L5.41 20z\"/>\n",
              "  </svg>\n",
              "      </button>\n",
              "      \n",
              "  <style>\n",
              "    .colab-df-container {\n",
              "      display:flex;\n",
              "      flex-wrap:wrap;\n",
              "      gap: 12px;\n",
              "    }\n",
              "\n",
              "    .colab-df-convert {\n",
              "      background-color: #E8F0FE;\n",
              "      border: none;\n",
              "      border-radius: 50%;\n",
              "      cursor: pointer;\n",
              "      display: none;\n",
              "      fill: #1967D2;\n",
              "      height: 32px;\n",
              "      padding: 0 0 0 0;\n",
              "      width: 32px;\n",
              "    }\n",
              "\n",
              "    .colab-df-convert:hover {\n",
              "      background-color: #E2EBFA;\n",
              "      box-shadow: 0px 1px 2px rgba(60, 64, 67, 0.3), 0px 1px 3px 1px rgba(60, 64, 67, 0.15);\n",
              "      fill: #174EA6;\n",
              "    }\n",
              "\n",
              "    [theme=dark] .colab-df-convert {\n",
              "      background-color: #3B4455;\n",
              "      fill: #D2E3FC;\n",
              "    }\n",
              "\n",
              "    [theme=dark] .colab-df-convert:hover {\n",
              "      background-color: #434B5C;\n",
              "      box-shadow: 0px 1px 3px 1px rgba(0, 0, 0, 0.15);\n",
              "      filter: drop-shadow(0px 1px 2px rgba(0, 0, 0, 0.3));\n",
              "      fill: #FFFFFF;\n",
              "    }\n",
              "  </style>\n",
              "\n",
              "      <script>\n",
              "        const buttonEl =\n",
              "          document.querySelector('#df-3a00b1b4-9e1d-4ea2-9ff3-7be360e0af9f button.colab-df-convert');\n",
              "        buttonEl.style.display =\n",
              "          google.colab.kernel.accessAllowed ? 'block' : 'none';\n",
              "\n",
              "        async function convertToInteractive(key) {\n",
              "          const element = document.querySelector('#df-3a00b1b4-9e1d-4ea2-9ff3-7be360e0af9f');\n",
              "          const dataTable =\n",
              "            await google.colab.kernel.invokeFunction('convertToInteractive',\n",
              "                                                     [key], {});\n",
              "          if (!dataTable) return;\n",
              "\n",
              "          const docLinkHtml = 'Like what you see? Visit the ' +\n",
              "            '<a target=\"_blank\" href=https://colab.research.google.com/notebooks/data_table.ipynb>data table notebook</a>'\n",
              "            + ' to learn more about interactive tables.';\n",
              "          element.innerHTML = '';\n",
              "          dataTable['output_type'] = 'display_data';\n",
              "          await google.colab.output.renderOutput(dataTable, element);\n",
              "          const docLink = document.createElement('div');\n",
              "          docLink.innerHTML = docLinkHtml;\n",
              "          element.appendChild(docLink);\n",
              "        }\n",
              "      </script>\n",
              "    </div>\n",
              "  </div>\n",
              "  "
            ]
          },
          "metadata": {},
          "execution_count": 9
        }
      ]
    },
    {
      "cell_type": "markdown",
      "source": [
        "Histograma para visualização da distribuição de frequências dos atributos"
      ],
      "metadata": {
        "id": "Y1o8pmvWiH1P"
      }
    },
    {
      "cell_type": "code",
      "source": [
        "df.hist(figsize=(15, 15))\n",
        "plt.show()"
      ],
      "metadata": {
        "colab": {
          "base_uri": "https://localhost:8080/",
          "height": 879
        },
        "id": "Oqw06i3niI-L",
        "outputId": "6ffe6b9d-341a-46c4-80b8-e4cf70797232"
      },
      "execution_count": 10,
      "outputs": [
        {
          "output_type": "display_data",
          "data": {
            "text/plain": [
              "<Figure size 1080x1080 with 20 Axes>"
            ],
            "image/png": "[encoded data removed]"
          },
          "metadata": {
            "needs_background": "light"
          }
        }
      ]
    },
    {
      "cell_type": "markdown",
      "source": [
        "**Matriz de Correlação**\n",
        "\n",
        "O coeficiente de correlação</b> é uma medida de associação linear entre duas variáveis e situa-se entre -1 e +1 sendo que -1 indica associação negativa perfeita e +1 indica associação positiva perfeita.\n",
        "\n",
        "Em modelos de regressão linear, é importante verificarmos se as variáveis explicativas (X's) têm forte correlação com a variável dependente (Y) e se as variáveis explicativas (X's) não tenham forte correlação entre si."
      ],
      "metadata": {
        "id": "29vKC3gYiK9A"
      }
    },
    {
      "cell_type": "code",
      "source": [
        "df2.corr() #Exibição da correlação sem a coluna \"target\""
      ],
      "metadata": {
        "colab": {
          "base_uri": "https://localhost:8080/",
          "height": 551
        },
        "id": "k1rHcQ2miMc_",
        "outputId": "a66eb448-67f8-41e7-d608-05c8e9c96392"
      },
      "execution_count": 11,
      "outputs": [
        {
          "output_type": "execute_result",
          "data": {
            "text/plain": [
              "           feature0  feature1  feature2  feature3  feature4  feature5  \\\n",
              "feature0   1.000000  0.578231  0.789706  0.198977 -0.992029  0.183311   \n",
              "feature1   0.578231  1.000000  0.444309 -0.076819 -0.583406  0.177083   \n",
              "feature2   0.789706  0.444309  1.000000  0.108691 -0.800813  0.048085   \n",
              "feature3   0.198977 -0.076819  0.108691  1.000000 -0.128933 -0.066175   \n",
              "feature4  -0.992029 -0.583406 -0.800813 -0.128933  1.000000 -0.185828   \n",
              "feature5   0.183311  0.177083  0.048085 -0.066175 -0.185828  1.000000   \n",
              "feature6   0.774646  0.662409  0.709912  0.179833 -0.776422 -0.058442   \n",
              "feature7  -0.025410 -0.040651 -0.018119 -0.004396  0.025066 -0.041284   \n",
              "feature8  -0.020315 -0.043260  0.132372  0.045513  0.026514 -0.087881   \n",
              "feature9   0.610831  0.677923  0.491464  0.058322 -0.618550  0.036884   \n",
              "feature10  0.452541  0.399257  0.670302  0.068300 -0.452139  0.091967   \n",
              "feature11  0.097989  0.083523  0.222864 -0.006780 -0.099546 -0.005897   \n",
              "feature12  0.137433  0.233305 -0.019028 -0.083768 -0.156013  0.185243   \n",
              "feature13  0.121364  0.059067  0.340084  0.070714 -0.115017 -0.002519   \n",
              "feature14  0.204741  0.292515  0.214562 -0.000804 -0.216575  0.085943   \n",
              "feature15  0.860868  0.406480  0.869099  0.123163 -0.867045  0.050334   \n",
              "\n",
              "           feature6  feature7  feature8  feature9  feature10  feature11  \\\n",
              "feature0   0.774646 -0.025410 -0.020315  0.610831   0.452541   0.097989   \n",
              "feature1   0.662409 -0.040651 -0.043260  0.677923   0.399257   0.083523   \n",
              "feature2   0.709912 -0.018119  0.132372  0.491464   0.670302   0.222864   \n",
              "feature3   0.179833 -0.004396  0.045513  0.058322   0.068300  -0.006780   \n",
              "feature4  -0.776422  0.025066  0.026514 -0.618550  -0.452139  -0.099546   \n",
              "feature5  -0.058442 -0.041284 -0.087881  0.036884   0.091967  -0.005897   \n",
              "feature6   1.000000 -0.036110 -0.021067  0.772431   0.452850   0.120623   \n",
              "feature7  -0.036110  1.000000 -0.009083 -0.036081  -0.020044  -0.007061   \n",
              "feature8  -0.021067 -0.009083  1.000000 -0.054245   0.087770   0.026461   \n",
              "feature9   0.772431 -0.036081 -0.054245  1.000000   0.359134   0.066881   \n",
              "feature10  0.452850 -0.020044  0.087770  0.359134   1.000000  -0.029757   \n",
              "feature11  0.120623 -0.007061  0.026461  0.066881  -0.029757   1.000000   \n",
              "feature12  0.122642 -0.025163 -0.068014  0.322274  -0.013883   0.003482   \n",
              "feature13  0.071417 -0.020022  0.681254 -0.009987   0.233881   0.074250   \n",
              "feature14  0.204314 -0.032848  0.284515  0.304573   0.188095   0.063549   \n",
              "feature15  0.688423 -0.016011  0.092604  0.405209   0.422467   0.141147   \n",
              "\n",
              "           feature12  feature13  feature14  feature15  \n",
              "feature0    0.137433   0.121364   0.204741   0.860868  \n",
              "feature1    0.233305   0.059067   0.292515   0.406480  \n",
              "feature2   -0.019028   0.340084   0.214562   0.869099  \n",
              "feature3   -0.083768   0.070714  -0.000804   0.123163  \n",
              "feature4   -0.156013  -0.115017  -0.216575  -0.867045  \n",
              "feature5    0.185243  -0.002519   0.085943   0.050334  \n",
              "feature6    0.122642   0.071417   0.204314   0.688423  \n",
              "feature7   -0.025163  -0.020022  -0.032848  -0.016011  \n",
              "feature8   -0.068014   0.681254   0.284515   0.092604  \n",
              "feature9    0.322274  -0.009987   0.304573   0.405209  \n",
              "feature10  -0.013883   0.233881   0.188095   0.422467  \n",
              "feature11   0.003482   0.074250   0.063549   0.141147  \n",
              "feature12   1.000000  -0.097302   0.680985  -0.051942  \n",
              "feature13  -0.097302   1.000000   0.174262   0.327952  \n",
              "feature14   0.680985   0.174262   1.000000   0.069619  \n",
              "feature15  -0.051942   0.327952   0.069619   1.000000  "
            ],
            "text/html": [
              "\n",
              "  <div id=\"df-9bc8d88e-e653-4d56-949a-9fd70784cac9\">\n",
              "    <div class=\"colab-df-container\">\n",
              "      <div>\n",
              "<style scoped>\n",
              "    .dataframe tbody tr th:only-of-type {\n",
              "        vertical-align: middle;\n",
              "    }\n",
              "\n",
              "    .dataframe tbody tr th {\n",
              "        vertical-align: top;\n",
              "    }\n",
              "\n",
              "    .dataframe thead th {\n",
              "        text-align: right;\n",
              "    }\n",
              "</style>\n",
              "<table border=\"1\" class=\"dataframe\">\n",
              "  <thead>\n",
              "    <tr style=\"text-align: right;\">\n",
              "      <th></th>\n",
              "      <th>feature0</th>\n",
              "      <th>feature1</th>\n",
              "      <th>feature2</th>\n",
              "      <th>feature3</th>\n",
              "      <th>feature4</th>\n",
              "      <th>feature5</th>\n",
              "      <th>feature6</th>\n",
              "      <th>feature7</th>\n",
              "      <th>feature8</th>\n",
              "      <th>feature9</th>\n",
              "      <th>feature10</th>\n",
              "      <th>feature11</th>\n",
              "      <th>feature12</th>\n",
              "      <th>feature13</th>\n",
              "      <th>feature14</th>\n",
              "      <th>feature15</th>\n",
              "    </tr>\n",
              "  </thead>\n",
              "  <tbody>\n",
              "    <tr>\n",
              "      <th>feature0</th>\n",
              "      <td>1.000000</td>\n",
              "      <td>0.578231</td>\n",
              "      <td>0.789706</td>\n",
              "      <td>0.198977</td>\n",
              "      <td>-0.992029</td>\n",
              "      <td>0.183311</td>\n",
              "      <td>0.774646</td>\n",
              "      <td>-0.025410</td>\n",
              "      <td>-0.020315</td>\n",
              "      <td>0.610831</td>\n",
              "      <td>0.452541</td>\n",
              "      <td>0.097989</td>\n",
              "      <td>0.137433</td>\n",
              "      <td>0.121364</td>\n",
              "      <td>0.204741</td>\n",
              "      <td>0.860868</td>\n",
              "    </tr>\n",
              "    <tr>\n",
              "      <th>feature1</th>\n",
              "      <td>0.578231</td>\n",
              "      <td>1.000000</td>\n",
              "      <td>0.444309</td>\n",
              "      <td>-0.076819</td>\n",
              "      <td>-0.583406</td>\n",
              "      <td>0.177083</td>\n",
              "      <td>0.662409</td>\n",
              "      <td>-0.040651</td>\n",
              "      <td>-0.043260</td>\n",
              "      <td>0.677923</td>\n",
              "      <td>0.399257</td>\n",
              "      <td>0.083523</td>\n",
              "      <td>0.233305</td>\n",
              "      <td>0.059067</td>\n",
              "      <td>0.292515</td>\n",
              "      <td>0.406480</td>\n",
              "    </tr>\n",
              "    <tr>\n",
              "      <th>feature2</th>\n",
              "      <td>0.789706</td>\n",
              "      <td>0.444309</td>\n",
              "      <td>1.000000</td>\n",
              "      <td>0.108691</td>\n",
              "      <td>-0.800813</td>\n",
              "      <td>0.048085</td>\n",
              "      <td>0.709912</td>\n",
              "      <td>-0.018119</td>\n",
              "      <td>0.132372</td>\n",
              "      <td>0.491464</td>\n",
              "      <td>0.670302</td>\n",
              "      <td>0.222864</td>\n",
              "      <td>-0.019028</td>\n",
              "      <td>0.340084</td>\n",
              "      <td>0.214562</td>\n",
              "      <td>0.869099</td>\n",
              "    </tr>\n",
              "    <tr>\n",
              "      <th>feature3</th>\n",
              "      <td>0.198977</td>\n",
              "      <td>-0.076819</td>\n",
              "      <td>0.108691</td>\n",
              "      <td>1.000000</td>\n",
              "      <td>-0.128933</td>\n",
              "      <td>-0.066175</td>\n",
              "      <td>0.179833</td>\n",
              "      <td>-0.004396</td>\n",
              "      <td>0.045513</td>\n",
              "      <td>0.058322</td>\n",
              "      <td>0.068300</td>\n",
              "      <td>-0.006780</td>\n",
              "      <td>-0.083768</td>\n",
              "      <td>0.070714</td>\n",
              "      <td>-0.000804</td>\n",
              "      <td>0.123163</td>\n",
              "    </tr>\n",
              "    <tr>\n",
              "      <th>feature4</th>\n",
              "      <td>-0.992029</td>\n",
              "      <td>-0.583406</td>\n",
              "      <td>-0.800813</td>\n",
              "      <td>-0.128933</td>\n",
              "      <td>1.000000</td>\n",
              "      <td>-0.185828</td>\n",
              "      <td>-0.776422</td>\n",
              "      <td>0.025066</td>\n",
              "      <td>0.026514</td>\n",
              "      <td>-0.618550</td>\n",
              "      <td>-0.452139</td>\n",
              "      <td>-0.099546</td>\n",
              "      <td>-0.156013</td>\n",
              "      <td>-0.115017</td>\n",
              "      <td>-0.216575</td>\n",
              "      <td>-0.867045</td>\n",
              "    </tr>\n",
              "    <tr>\n",
              "      <th>feature5</th>\n",
              "      <td>0.183311</td>\n",
              "      <td>0.177083</td>\n",
              "      <td>0.048085</td>\n",
              "      <td>-0.066175</td>\n",
              "      <td>-0.185828</td>\n",
              "      <td>1.000000</td>\n",
              "      <td>-0.058442</td>\n",
              "      <td>-0.041284</td>\n",
              "      <td>-0.087881</td>\n",
              "      <td>0.036884</td>\n",
              "      <td>0.091967</td>\n",
              "      <td>-0.005897</td>\n",
              "      <td>0.185243</td>\n",
              "      <td>-0.002519</td>\n",
              "      <td>0.085943</td>\n",
              "      <td>0.050334</td>\n",
              "    </tr>\n",
              "    <tr>\n",
              "      <th>feature6</th>\n",
              "      <td>0.774646</td>\n",
              "      <td>0.662409</td>\n",
              "      <td>0.709912</td>\n",
              "      <td>0.179833</td>\n",
              "      <td>-0.776422</td>\n",
              "      <td>-0.058442</td>\n",
              "      <td>1.000000</td>\n",
              "      <td>-0.036110</td>\n",
              "      <td>-0.021067</td>\n",
              "      <td>0.772431</td>\n",
              "      <td>0.452850</td>\n",
              "      <td>0.120623</td>\n",
              "      <td>0.122642</td>\n",
              "      <td>0.071417</td>\n",
              "      <td>0.204314</td>\n",
              "      <td>0.688423</td>\n",
              "    </tr>\n",
              "    <tr>\n",
              "      <th>feature7</th>\n",
              "      <td>-0.025410</td>\n",
              "      <td>-0.040651</td>\n",
              "      <td>-0.018119</td>\n",
              "      <td>-0.004396</td>\n",
              "      <td>0.025066</td>\n",
              "      <td>-0.041284</td>\n",
              "      <td>-0.036110</td>\n",
              "      <td>1.000000</td>\n",
              "      <td>-0.009083</td>\n",
              "      <td>-0.036081</td>\n",
              "      <td>-0.020044</td>\n",
              "      <td>-0.007061</td>\n",
              "      <td>-0.025163</td>\n",
              "      <td>-0.020022</td>\n",
              "      <td>-0.032848</td>\n",
              "      <td>-0.016011</td>\n",
              "    </tr>\n",
              "    <tr>\n",
              "      <th>feature8</th>\n",
              "      <td>-0.020315</td>\n",
              "      <td>-0.043260</td>\n",
              "      <td>0.132372</td>\n",
              "      <td>0.045513</td>\n",
              "      <td>0.026514</td>\n",
              "      <td>-0.087881</td>\n",
              "      <td>-0.021067</td>\n",
              "      <td>-0.009083</td>\n",
              "      <td>1.000000</td>\n",
              "      <td>-0.054245</td>\n",
              "      <td>0.087770</td>\n",
              "      <td>0.026461</td>\n",
              "      <td>-0.068014</td>\n",
              "      <td>0.681254</td>\n",
              "      <td>0.284515</td>\n",
              "      <td>0.092604</td>\n",
              "    </tr>\n",
              "    <tr>\n",
              "      <th>feature9</th>\n",
              "      <td>0.610831</td>\n",
              "      <td>0.677923</td>\n",
              "      <td>0.491464</td>\n",
              "      <td>0.058322</td>\n",
              "      <td>-0.618550</td>\n",
              "      <td>0.036884</td>\n",
              "      <td>0.772431</td>\n",
              "      <td>-0.036081</td>\n",
              "      <td>-0.054245</td>\n",
              "      <td>1.000000</td>\n",
              "      <td>0.359134</td>\n",
              "      <td>0.066881</td>\n",
              "      <td>0.322274</td>\n",
              "      <td>-0.009987</td>\n",
              "      <td>0.304573</td>\n",
              "      <td>0.405209</td>\n",
              "    </tr>\n",
              "    <tr>\n",
              "      <th>feature10</th>\n",
              "      <td>0.452541</td>\n",
              "      <td>0.399257</td>\n",
              "      <td>0.670302</td>\n",
              "      <td>0.068300</td>\n",
              "      <td>-0.452139</td>\n",
              "      <td>0.091967</td>\n",
              "      <td>0.452850</td>\n",
              "      <td>-0.020044</td>\n",
              "      <td>0.087770</td>\n",
              "      <td>0.359134</td>\n",
              "      <td>1.000000</td>\n",
              "      <td>-0.029757</td>\n",
              "      <td>-0.013883</td>\n",
              "      <td>0.233881</td>\n",
              "      <td>0.188095</td>\n",
              "      <td>0.422467</td>\n",
              "    </tr>\n",
              "    <tr>\n",
              "      <th>feature11</th>\n",
              "      <td>0.097989</td>\n",
              "      <td>0.083523</td>\n",
              "      <td>0.222864</td>\n",
              "      <td>-0.006780</td>\n",
              "      <td>-0.099546</td>\n",
              "      <td>-0.005897</td>\n",
              "      <td>0.120623</td>\n",
              "      <td>-0.007061</td>\n",
              "      <td>0.026461</td>\n",
              "      <td>0.066881</td>\n",
              "      <td>-0.029757</td>\n",
              "      <td>1.000000</td>\n",
              "      <td>0.003482</td>\n",
              "      <td>0.074250</td>\n",
              "      <td>0.063549</td>\n",
              "      <td>0.141147</td>\n",
              "    </tr>\n",
              "    <tr>\n",
              "      <th>feature12</th>\n",
              "      <td>0.137433</td>\n",
              "      <td>0.233305</td>\n",
              "      <td>-0.019028</td>\n",
              "      <td>-0.083768</td>\n",
              "      <td>-0.156013</td>\n",
              "      <td>0.185243</td>\n",
              "      <td>0.122642</td>\n",
              "      <td>-0.025163</td>\n",
              "      <td>-0.068014</td>\n",
              "      <td>0.322274</td>\n",
              "      <td>-0.013883</td>\n",
              "      <td>0.003482</td>\n",
              "      <td>1.000000</td>\n",
              "      <td>-0.097302</td>\n",
              "      <td>0.680985</td>\n",
              "      <td>-0.051942</td>\n",
              "    </tr>\n",
              "    <tr>\n",
              "      <th>feature13</th>\n",
              "      <td>0.121364</td>\n",
              "      <td>0.059067</td>\n",
              "      <td>0.340084</td>\n",
              "      <td>0.070714</td>\n",
              "      <td>-0.115017</td>\n",
              "      <td>-0.002519</td>\n",
              "      <td>0.071417</td>\n",
              "      <td>-0.020022</td>\n",
              "      <td>0.681254</td>\n",
              "      <td>-0.009987</td>\n",
              "      <td>0.233881</td>\n",
              "      <td>0.074250</td>\n",
              "      <td>-0.097302</td>\n",
              "      <td>1.000000</td>\n",
              "      <td>0.174262</td>\n",
              "      <td>0.327952</td>\n",
              "    </tr>\n",
              "    <tr>\n",
              "      <th>feature14</th>\n",
              "      <td>0.204741</td>\n",
              "      <td>0.292515</td>\n",
              "      <td>0.214562</td>\n",
              "      <td>-0.000804</td>\n",
              "      <td>-0.216575</td>\n",
              "      <td>0.085943</td>\n",
              "      <td>0.204314</td>\n",
              "      <td>-0.032848</td>\n",
              "      <td>0.284515</td>\n",
              "      <td>0.304573</td>\n",
              "      <td>0.188095</td>\n",
              "      <td>0.063549</td>\n",
              "      <td>0.680985</td>\n",
              "      <td>0.174262</td>\n",
              "      <td>1.000000</td>\n",
              "      <td>0.069619</td>\n",
              "    </tr>\n",
              "    <tr>\n",
              "      <th>feature15</th>\n",
              "      <td>0.860868</td>\n",
              "      <td>0.406480</td>\n",
              "      <td>0.869099</td>\n",
              "      <td>0.123163</td>\n",
              "      <td>-0.867045</td>\n",
              "      <td>0.050334</td>\n",
              "      <td>0.688423</td>\n",
              "      <td>-0.016011</td>\n",
              "      <td>0.092604</td>\n",
              "      <td>0.405209</td>\n",
              "      <td>0.422467</td>\n",
              "      <td>0.141147</td>\n",
              "      <td>-0.051942</td>\n",
              "      <td>0.327952</td>\n",
              "      <td>0.069619</td>\n",
              "      <td>1.000000</td>\n",
              "    </tr>\n",
              "  </tbody>\n",
              "</table>\n",
              "</div>\n",
              "      <button class=\"colab-df-convert\" onclick=\"convertToInteractive('df-9bc8d88e-e653-4d56-949a-9fd70784cac9')\"\n",
              "              title=\"Convert this dataframe to an interactive table.\"\n",
              "              style=\"display:none;\">\n",
              "        \n",
              "  <svg xmlns=\"http://www.w3.org/2000/svg\" height=\"24px\"viewBox=\"0 0 24 24\"\n",
              "       width=\"24px\">\n",
              "    <path d=\"M0 0h24v24H0V0z\" fill=\"none\"/>\n",
              "    <path d=\"M18.56 5.44l.94 2.06.94-2.06 2.06-.94-2.06-.94-.94-2.06-.94 2.06-2.06.94zm-11 1L8.5 8.5l.94-2.06 2.06-.94-2.06-.94L8.5 2.5l-.94 2.06-2.06.94zm10 10l.94 2.06.94-2.06 2.06-.94-2.06-.94-.94-2.06-.94 2.06-2.06.94z\"/><path d=\"M17.41 7.96l-1.37-1.37c-.4-.4-.92-.59-1.43-.59-.52 0-1.04.2-1.43.59L10.3 9.45l-7.72 7.72c-.78.78-.78 2.05 0 2.83L4 21.41c.39.39.9.59 1.41.59.51 0 1.02-.2 1.41-.59l7.78-7.78 2.81-2.81c.8-.78.8-2.07 0-2.86zM5.41 20L4 18.59l7.72-7.72 1.47 1.35L5.41 20z\"/>\n",
              "  </svg>\n",
              "      </button>\n",
              "      \n",
              "  <style>\n",
              "    .colab-df-container {\n",
              "      display:flex;\n",
              "      flex-wrap:wrap;\n",
              "      gap: 12px;\n",
              "    }\n",
              "\n",
              "    .colab-df-convert {\n",
              "      background-color: #E8F0FE;\n",
              "      border: none;\n",
              "      border-radius: 50%;\n",
              "      cursor: pointer;\n",
              "      display: none;\n",
              "      fill: #1967D2;\n",
              "      height: 32px;\n",
              "      padding: 0 0 0 0;\n",
              "      width: 32px;\n",
              "    }\n",
              "\n",
              "    .colab-df-convert:hover {\n",
              "      background-color: #E2EBFA;\n",
              "      box-shadow: 0px 1px 2px rgba(60, 64, 67, 0.3), 0px 1px 3px 1px rgba(60, 64, 67, 0.15);\n",
              "      fill: #174EA6;\n",
              "    }\n",
              "\n",
              "    [theme=dark] .colab-df-convert {\n",
              "      background-color: #3B4455;\n",
              "      fill: #D2E3FC;\n",
              "    }\n",
              "\n",
              "    [theme=dark] .colab-df-convert:hover {\n",
              "      background-color: #434B5C;\n",
              "      box-shadow: 0px 1px 3px 1px rgba(0, 0, 0, 0.15);\n",
              "      filter: drop-shadow(0px 1px 2px rgba(0, 0, 0, 0.3));\n",
              "      fill: #FFFFFF;\n",
              "    }\n",
              "  </style>\n",
              "\n",
              "      <script>\n",
              "        const buttonEl =\n",
              "          document.querySelector('#df-9bc8d88e-e653-4d56-949a-9fd70784cac9 button.colab-df-convert');\n",
              "        buttonEl.style.display =\n",
              "          google.colab.kernel.accessAllowed ? 'block' : 'none';\n",
              "\n",
              "        async function convertToInteractive(key) {\n",
              "          const element = document.querySelector('#df-9bc8d88e-e653-4d56-949a-9fd70784cac9');\n",
              "          const dataTable =\n",
              "            await google.colab.kernel.invokeFunction('convertToInteractive',\n",
              "                                                     [key], {});\n",
              "          if (!dataTable) return;\n",
              "\n",
              "          const docLinkHtml = 'Like what you see? Visit the ' +\n",
              "            '<a target=\"_blank\" href=https://colab.research.google.com/notebooks/data_table.ipynb>data table notebook</a>'\n",
              "            + ' to learn more about interactive tables.';\n",
              "          element.innerHTML = '';\n",
              "          dataTable['output_type'] = 'display_data';\n",
              "          await google.colab.output.renderOutput(dataTable, element);\n",
              "          const docLink = document.createElement('div');\n",
              "          docLink.innerHTML = docLinkHtml;\n",
              "          element.appendChild(docLink);\n",
              "        }\n",
              "      </script>\n",
              "    </div>\n",
              "  </div>\n",
              "  "
            ]
          },
          "metadata": {},
          "execution_count": 11
        }
      ]
    },
    {
      "cell_type": "markdown",
      "source": [
        "**Visualização da Matriz de Correlação**\n",
        "\n",
        "A variável \"corr\" recebe a matriz de correlação acima.\n",
        "A variável \"mask\" recebe o método de criação de uma máscara para \"esconder\" os dados da matriz de correlação que não são interessantes para nossa análise preliminar."
      ],
      "metadata": {
        "id": "NdE8hzeviN9N"
      }
    },
    {
      "cell_type": "code",
      "source": [
        "corr = df2.corr()   \n",
        "mask = np.zeros_like(corr)\n",
        "\n",
        "mask[np.triu_indices_from(mask)] = True\n",
        "\n",
        "with sns.axes_style(\"white\"):\n",
        "\n",
        "    ax = plt.subplots(figsize=(15, 15))\n",
        "    ax = sns.heatmap(corr, mask=mask, cmap='RdBu', vmax=.3, square=True, annot=True)\n",
        "    plt.title('Correlação entre as variáveis do conjunto de dados', fontsize=20)"
      ],
      "metadata": {
        "colab": {
          "base_uri": "https://localhost:8080/",
          "height": 846
        },
        "id": "ZJN1p40siPVF",
        "outputId": "3f330423-615d-4a7c-f811-5016d3c1762a"
      },
      "execution_count": 12,
      "outputs": [
        {
          "output_type": "display_data",
          "data": {
            "text/plain": [
              "<Figure size 1080x1080 with 2 Axes>"
            ],
            "image/png": "[encoded data removed]"
          },
          "metadata": {}
        }
      ]
    },
    {
      "cell_type": "markdown",
      "source": [
        "Observações:\n",
        "\n",
        "**- Forte Correlação Positiva:** \n",
        "- feature0 e feature15\n",
        "- feature2 e feature15\n",
        "\n",
        "**- Forte Correlação Negativa:** \n",
        "- feature0 e feature4\n",
        "- feature2 e feature4\n",
        "- feature4 e feature6"
      ],
      "metadata": {
        "id": "ZRk5uxlriQ9I"
      }
    },
    {
      "cell_type": "markdown",
      "source": [
        "Distribuição das classes no conjunto de dados"
      ],
      "metadata": {
        "id": "SnzKQ7CxiSlw"
      }
    },
    {
      "cell_type": "code",
      "source": [
        "num_true = len(df.loc[df['target'] == 0])\n",
        "num_false = len(df.loc[df['target'] == 1])\n",
        "\n",
        "print(\"Classe 0:  {0} ({1:2.2f}%)\".format(num_true, (num_true/ (num_true + num_false)) * 100))\n",
        "print(\"Classe 1: {0} ({1:2.2f}%)\".format(num_false, (num_false/ (num_true + num_false)) * 100))"
      ],
      "metadata": {
        "colab": {
          "base_uri": "https://localhost:8080/"
        },
        "id": "G045Sn_FiTwd",
        "outputId": "c87fd042-a7b8-4004-bfbb-96cb5875a0a2"
      },
      "execution_count": 13,
      "outputs": [
        {
          "output_type": "stream",
          "name": "stdout",
          "text": [
            "Classe 0:  206 (44.21%)\n",
            "Classe 1: 260 (55.79%)\n"
          ]
        }
      ]
    },
    {
      "cell_type": "code",
      "source": [
        "df['target'].value_counts().plot(kind='pie', autopct='%1.2f%%', startangle=270, fontsize=14,textprops=dict(color=\"w\"))\n",
        "ax.legend([df.loc[df['target']] == 0],title=\"Classes\", loc=\"center left\")"
      ],
      "metadata": {
        "colab": {
          "base_uri": "https://localhost:8080/",
          "height": 266
        },
        "id": "bn6Ib5nziWnH",
        "outputId": "b8966720-e79f-47c2-85b9-4066cb8e0299"
      },
      "execution_count": 14,
      "outputs": [
        {
          "output_type": "execute_result",
          "data": {
            "text/plain": [
              "<matplotlib.legend.Legend at 0x7f253c7d0ed0>"
            ]
          },
          "metadata": {},
          "execution_count": 14
        },
        {
          "output_type": "display_data",
          "data": {
            "text/plain": [
              "<Figure size 432x288 with 1 Axes>"
            ],
            "image/png": "[encoded data removed]"
          },
          "metadata": {}
        }
      ]
    },
    {
      "cell_type": "markdown",
      "source": [
        "## Preparação dos Dados\n",
        "\n",
        "**- Atribuição:** dados em X e rótulos em y\n",
        "\n",
        "**- Eliminação da coluna target:** não é correto realizar a classificação considerando o alvo (classe) como atributo\n",
        "\n",
        "**- Distribuição:** 75% para treino e 25% para teste\n",
        "\n",
        "**- Normalização:** aplicada para manter a integridade dos dados e contribuir com o desempenho da modelagem. Além disso, evita que valores discrepantes sejam mal distribuídos, mudando esses valores para uma escala comum, que combine com o conjunto."
      ],
      "metadata": {
        "id": "FF0QL2TGiXmM"
      }
    },
    {
      "cell_type": "code",
      "source": [
        "X= df.iloc[: , 0:-1]\n",
        "\n",
        "# print(X.head()) # Para o treino devem ser consideradas feature0, feature1, ..., feature15. \n",
        "\n",
        "y= df['target']\n",
        "\n",
        "train_x, test_x, train_y, test_y = train_test_split(X,y, train_size=0.75, test_size=0.25,random_state=42)\n",
        "\n",
        "print(\"Amostras de Treinamento: \")\n",
        "print(train_x.shape)\n",
        "\n",
        "\n",
        "# Amostra de teste para avaliação da entrega do modelo\n",
        "X_final= test_x.iloc[110]\n",
        "y_final = test_y.iloc[110]\n",
        "print(X_final)\n",
        "print(y_final)"
      ],
      "metadata": {
        "colab": {
          "base_uri": "https://localhost:8080/"
        },
        "id": "vXyieifdiZ9w",
        "outputId": "5db8991e-2b8b-49d9-cc5e-df9d79238bd6"
      },
      "execution_count": 15,
      "outputs": [
        {
          "output_type": "stream",
          "name": "stdout",
          "text": [
            "Amostras de Treinamento: \n",
            "(349, 16)\n",
            "feature0        400.000000\n",
            "feature1          8.000000\n",
            "feature2        585.800000\n",
            "feature3        -12.980000\n",
            "feature4       -406.100000\n",
            "feature5          0.466782\n",
            "feature6        870.000000\n",
            "feature7          0.003899\n",
            "feature8          1.442502\n",
            "feature9     223127.000000\n",
            "feature10      1390.520000\n",
            "feature11         0.421281\n",
            "feature12        67.683333\n",
            "feature13         0.006897\n",
            "feature14        97.633333\n",
            "feature15         6.000000\n",
            "Name: 497, dtype: float64\n",
            "1\n"
          ]
        }
      ]
    },
    {
      "cell_type": "code",
      "source": [
        "scaler = preprocessing.MinMaxScaler()\n",
        "x_train = scaler.fit_transform(train_x.values)\n",
        "x_test =  scaler.fit_transform(test_x.values)\n",
        "\n",
        "print(\"Valores normalizados para o conjunto de treinamento:\")\n",
        "print(x_train)\n",
        "print(\"Valores normalizados para o conjunto de teste:\")\n",
        "print(x_test)"
      ],
      "metadata": {
        "colab": {
          "base_uri": "https://localhost:8080/"
        },
        "id": "HQBjrWDLi8cZ",
        "outputId": "4a5d50cc-b30b-4f7b-c42b-46158e5843ce"
      },
      "execution_count": 16,
      "outputs": [
        {
          "output_type": "stream",
          "name": "stdout",
          "text": [
            "Valores normalizados para o conjunto de treinamento:\n",
            "[[0.00649351 0.06451613 0.00899501 ... 0.09476805 0.02403634 0.012939  ]\n",
            " [0.00974026 0.09677419 0.         ... 0.         0.         0.        ]\n",
            " [0.         0.         0.         ... 0.         0.         0.        ]\n",
            " ...\n",
            " [0.01298701 0.06451613 0.0045665  ... 0.00890223 0.08541783 0.00184843]\n",
            " [0.00649351 0.06451613 0.00153607 ... 0.07405036 0.02873259 0.00184843]\n",
            " [0.00324675 0.03225806 0.02220334 ... 0.04412934 0.10383008 0.00739372]]\n",
            "Valores normalizados para o conjunto de teste:\n",
            "[[0.37209302 0.25806452 0.2566276  ... 0.10888554 0.08030424 0.31428571]\n",
            " [0.02325581 0.03225806 0.         ... 0.         0.         0.        ]\n",
            " [0.06976744 0.09677419 0.00707944 ... 0.01061004 0.07310514 0.00952381]\n",
            " ...\n",
            " [0.04651163 0.06451613 0.         ... 0.         0.         0.        ]\n",
            " [0.09302326 0.12903226 0.13856168 ... 0.17704966 0.05723375 0.23809524]\n",
            " [0.04651163 0.06451613 0.2338267  ... 0.32809203 0.12072943 0.19047619]]\n"
          ]
        }
      ]
    },
    {
      "cell_type": "markdown",
      "source": [
        "## Modelagem\n",
        "Para a classificação foi proposto um MultiLayer-Perceptron (MLP) chamado AmericanasModel, o MLP foi escolhido devido à sua robustez em tarefas de classificação.\n"
      ],
      "metadata": {
        "id": "KgGwLey4i_VX"
      }
    },
    {
      "cell_type": "markdown",
      "source": [
        "Travamento das sementes para garantir a reprodutibilidade do experimento"
      ],
      "metadata": {
        "id": "TOQ3lIrdjMVE"
      }
    },
    {
      "cell_type": "code",
      "source": [
        "torch.use_deterministic_algorithms(True)\n",
        "torch.manual_seed(0)\n",
        "random.seed(0)"
      ],
      "metadata": {
        "id": "LbuOE2msjLWu"
      },
      "execution_count": 17,
      "outputs": []
    },
    {
      "cell_type": "markdown",
      "source": [
        "Converter os conjuntos de treino e teste para estrutura de dados do tipo tensor"
      ],
      "metadata": {
        "id": "tpcL9nsfjQNe"
      }
    },
    {
      "cell_type": "code",
      "source": [
        "x_tensor =  torch.from_numpy(x_train).float()\n",
        "y_tensor =  torch.from_numpy(train_y.values.ravel()).float()\n",
        "xtest_tensor =  torch.from_numpy(x_test).float()\n",
        "ytest_tensor =  torch.from_numpy(test_y.values.ravel()).float()\n",
        "\n",
        "print(\"Treino convertido para Tensor\")\n",
        "print(x_tensor)\n",
        "print(y_tensor)\n",
        "print(\"Teste convertido para Tensor\")\n",
        "print(xtest_tensor)\n",
        "print(ytest_tensor)"
      ],
      "metadata": {
        "colab": {
          "base_uri": "https://localhost:8080/"
        },
        "id": "PccZ5CwCjO7Z",
        "outputId": "346c950c-8255-453c-e0e1-539dc73a7b7f"
      },
      "execution_count": 18,
      "outputs": [
        {
          "output_type": "stream",
          "name": "stdout",
          "text": [
            "Treino convertido para Tensor\n",
            "tensor([[0.0065, 0.0645, 0.0090,  ..., 0.0948, 0.0240, 0.0129],\n",
            "        [0.0097, 0.0968, 0.0000,  ..., 0.0000, 0.0000, 0.0000],\n",
            "        [0.0000, 0.0000, 0.0000,  ..., 0.0000, 0.0000, 0.0000],\n",
            "        ...,\n",
            "        [0.0130, 0.0645, 0.0046,  ..., 0.0089, 0.0854, 0.0018],\n",
            "        [0.0065, 0.0645, 0.0015,  ..., 0.0741, 0.0287, 0.0018],\n",
            "        [0.0032, 0.0323, 0.0222,  ..., 0.0441, 0.1038, 0.0074]])\n",
            "tensor([1., 1., 0., 1., 0., 1., 0., 0., 0., 1., 1., 1., 1., 1., 1., 1., 1., 1.,\n",
            "        0., 0., 0., 1., 0., 0., 1., 0., 1., 1., 1., 0., 1., 0., 0., 0., 1., 1.,\n",
            "        0., 0., 1., 1., 0., 0., 1., 0., 1., 1., 1., 1., 0., 1., 0., 0., 0., 1.,\n",
            "        1., 1., 1., 0., 1., 0., 0., 1., 0., 1., 1., 1., 0., 0., 1., 0., 1., 1.,\n",
            "        0., 1., 1., 0., 1., 1., 1., 1., 1., 0., 0., 1., 1., 1., 0., 1., 1., 1.,\n",
            "        1., 0., 1., 0., 1., 0., 0., 1., 1., 0., 1., 1., 1., 0., 0., 0., 0., 1.,\n",
            "        1., 0., 1., 1., 1., 1., 1., 0., 1., 0., 0., 0., 0., 1., 1., 1., 1., 1.,\n",
            "        0., 1., 0., 0., 0., 0., 1., 0., 0., 0., 1., 1., 1., 0., 0., 0., 1., 0.,\n",
            "        1., 0., 1., 1., 1., 1., 0., 0., 1., 0., 1., 1., 1., 1., 1., 1., 1., 0.,\n",
            "        1., 0., 0., 1., 0., 1., 1., 0., 0., 0., 0., 0., 0., 0., 0., 0., 1., 1.,\n",
            "        0., 0., 1., 1., 0., 0., 0., 1., 1., 1., 0., 1., 0., 1., 0., 0., 0., 1.,\n",
            "        1., 1., 0., 0., 0., 1., 0., 1., 0., 1., 0., 1., 1., 0., 1., 1., 1., 0.,\n",
            "        1., 1., 1., 1., 1., 0., 1., 1., 1., 1., 1., 1., 0., 1., 1., 1., 1., 1.,\n",
            "        0., 0., 1., 0., 1., 1., 0., 0., 0., 1., 0., 1., 1., 1., 1., 1., 1., 0.,\n",
            "        1., 0., 1., 1., 0., 1., 0., 0., 0., 0., 1., 0., 1., 1., 0., 0., 1., 1.,\n",
            "        0., 0., 1., 1., 1., 0., 0., 1., 1., 1., 1., 1., 1., 0., 1., 1., 0., 0.,\n",
            "        0., 1., 1., 1., 1., 0., 1., 1., 0., 0., 0., 1., 1., 0., 0., 1., 0., 0.,\n",
            "        1., 0., 0., 1., 1., 1., 0., 0., 0., 1., 1., 1., 1., 1., 1., 1., 0., 1.,\n",
            "        0., 0., 1., 1., 1., 0., 1., 0., 1., 1., 0., 1., 1., 1., 1., 1., 1., 0.,\n",
            "        0., 0., 0., 1., 1., 0., 1.])\n",
            "Teste convertido para Tensor\n",
            "tensor([[0.3721, 0.2581, 0.2566,  ..., 0.1089, 0.0803, 0.3143],\n",
            "        [0.0233, 0.0323, 0.0000,  ..., 0.0000, 0.0000, 0.0000],\n",
            "        [0.0698, 0.0968, 0.0071,  ..., 0.0106, 0.0731, 0.0095],\n",
            "        ...,\n",
            "        [0.0465, 0.0645, 0.0000,  ..., 0.0000, 0.0000, 0.0000],\n",
            "        [0.0930, 0.1290, 0.1386,  ..., 0.1770, 0.0572, 0.2381],\n",
            "        [0.0465, 0.0645, 0.2338,  ..., 0.3281, 0.1207, 0.1905]])\n",
            "tensor([0., 1., 0., 0., 0., 0., 0., 1., 1., 1., 0., 0., 0., 0., 0., 0., 1., 0.,\n",
            "        1., 0., 0., 1., 1., 1., 1., 0., 1., 1., 1., 0., 0., 1., 0., 1., 0., 1.,\n",
            "        1., 1., 1., 1., 1., 1., 0., 1., 1., 0., 1., 1., 0., 1., 0., 0., 0., 0.,\n",
            "        1., 0., 0., 0., 1., 1., 1., 1., 0., 1., 0., 0., 1., 0., 1., 1., 0., 1.,\n",
            "        0., 1., 1., 1., 0., 1., 1., 1., 1., 0., 0., 1., 0., 1., 0., 0., 1., 1.,\n",
            "        1., 1., 0., 0., 1., 1., 0., 1., 0., 1., 0., 0., 0., 1., 0., 0., 1., 0.,\n",
            "        0., 1., 1., 0., 1., 0., 1., 0., 0.])\n"
          ]
        }
      ]
    },
    {
      "cell_type": "markdown",
      "source": [
        "- Definir o tamanho do batch, ou seja, número de exemplos de treinamento usados em uma iteração\n",
        "\n",
        "- Combinar `x_train` e `y_train` em um único tensor para facilitar a iteração durante o treinamento\n",
        "\n",
        "- Realizar a iteração entre os batches por meio do `DataLoader`"
      ],
      "metadata": {
        "id": "zBqwDO3sjVrP"
      }
    },
    {
      "cell_type": "code",
      "source": [
        "bs = 64\n",
        "\n",
        "y_tensor = y_tensor.unsqueeze(1)\n",
        "train_ds = TensorDataset(x_tensor, y_tensor)\n",
        "train_dl = DataLoader(train_ds, batch_size=bs)\n",
        "\n",
        "ytest_tensor = ytest_tensor.unsqueeze(1)\n",
        "test_ds = TensorDataset(xtest_tensor, ytest_tensor)\n",
        "test_loader = DataLoader(test_ds, batch_size=32)"
      ],
      "metadata": {
        "id": "enR6b8tjjXvk"
      },
      "execution_count": 19,
      "outputs": []
    },
    {
      "cell_type": "markdown",
      "source": [
        "Definição do MLP **AmericanasModel**\n",
        "\n",
        "- 2 hidden layers (camadas ocultas);\n",
        "- Batch Normalization e função ReLU entre cada camada;\n",
        "- Função dropout para regularizar os dados enviados à camada de saída;\n",
        "- 1 camada de saída Sigmódie para o cálculo das probabilidades entre zero e um (0 e 1)."
      ],
      "metadata": {
        "id": "6AkNoSUzjZMD"
      }
    },
    {
      "cell_type": "code",
      "source": [
        "# Dimensão da entrada \n",
        "n_input_dim = train_x.shape[1]\n",
        "\n",
        "#print(n_input_dim)\n",
        "\n",
        "# Tamanho da camada\n",
        "n_hidden1 = 300  # Número de unidades ocultas\n",
        "n_hidden2 = 100\n",
        "n_output =  1   # Número de nós de saída = para classificador binário\n",
        "\n",
        "\n",
        "class AmericanasModel(nn.Module):\n",
        "    def __init__(self):\n",
        "        super(AmericanasModel, self).__init__()\n",
        "        self.layer_1 = nn.Linear(n_input_dim, n_hidden1) \n",
        "        self.layer_2 = nn.Linear(n_hidden1, n_hidden2)\n",
        "        self.layer_out = nn.Linear(n_hidden2, n_output) \n",
        "        \n",
        "        \n",
        "        self.relu = nn.ReLU()\n",
        "        self.sigmoid =  nn.Sigmoid()\n",
        "        self.dropout = nn.Dropout(p=0.1)\n",
        "        self.batchnorm1 = nn.BatchNorm1d(n_hidden1)\n",
        "        self.batchnorm2 = nn.BatchNorm1d(n_hidden2)\n",
        "        \n",
        "        \n",
        "    def forward(self, inputs):\n",
        "        x = self.relu(self.layer_1(inputs))\n",
        "        x = self.batchnorm1(x)\n",
        "        x = self.relu(self.layer_2(x))\n",
        "        x = self.batchnorm2(x)\n",
        "        x = self.dropout(x)\n",
        "        x = self.sigmoid(self.layer_out(x))\n",
        "        \n",
        "        return x\n",
        "    \n",
        "\n",
        "model = AmericanasModel()\n",
        "print(model)"
      ],
      "metadata": {
        "colab": {
          "base_uri": "https://localhost:8080/"
        },
        "id": "GQD1RRcYjaMa",
        "outputId": "ee22d8c1-695e-4281-cfca-174611e7fcbc"
      },
      "execution_count": 20,
      "outputs": [
        {
          "output_type": "stream",
          "name": "stdout",
          "text": [
            "AmericanasModel(\n",
            "  (layer_1): Linear(in_features=16, out_features=300, bias=True)\n",
            "  (layer_2): Linear(in_features=300, out_features=100, bias=True)\n",
            "  (layer_out): Linear(in_features=100, out_features=1, bias=True)\n",
            "  (relu): ReLU()\n",
            "  (sigmoid): Sigmoid()\n",
            "  (dropout): Dropout(p=0.1, inplace=False)\n",
            "  (batchnorm1): BatchNorm1d(300, eps=1e-05, momentum=0.1, affine=True, track_running_stats=True)\n",
            "  (batchnorm2): BatchNorm1d(100, eps=1e-05, momentum=0.1, affine=True, track_running_stats=True)\n",
            ")\n"
          ]
        }
      ]
    },
    {
      "cell_type": "markdown",
      "source": [
        "Definição de Parâmetros:\n",
        "\n",
        "-**Função de Custo:** entropia cruzada binária\n",
        "\n",
        "-**Taxa de Aprendizado:** 0.001\n",
        "\n",
        "-**Otimizador:** Adam\n",
        "\n",
        "-**Épocas de Treinamento:** 100"
      ],
      "metadata": {
        "id": "hGCDMhwbjmnr"
      }
    },
    {
      "cell_type": "code",
      "source": [
        "# Função de Custo (loss)\n",
        "loss_func = nn.BCELoss()\n",
        "\n",
        "# Taxa de Aprendizado\n",
        "learning_rate = 0.001\n",
        "\n",
        "# Otimizador\n",
        "optimizer = torch.optim.Adam(model.parameters(), lr=learning_rate)\n",
        "\n",
        "# Épocas de Treinamento\n",
        "epochs = 100"
      ],
      "metadata": {
        "id": "cpPQ-Xg4jltv"
      },
      "execution_count": 21,
      "outputs": []
    },
    {
      "cell_type": "markdown",
      "source": [
        "## Avaliação da performance do modelo\n",
        "O modelo foi treinado e testado com o MLP AmericanasModel, por 100 épocas.\n",
        "Foi avaliado utilizando os índices VP, VN, FP e FN obtidos da matriz de confusão. Posteriormente, esses índices foram utilizados para verificar a performance do modelo em termos de Acurácia, Precisão, Recall, e F1-Score. \n"
      ],
      "metadata": {
        "id": "VfKT5-EIj_Zk"
      }
    },
    {
      "cell_type": "code",
      "source": [
        "model.train()\n",
        "train_loss = []\n",
        "\n",
        "for epoch in range(epochs):\n",
        "    # Dentro de cada época, executar os subconjuntos de dados = tamanhos do batch\n",
        "    for xb, yb in train_dl:\n",
        "        y_pred = model(xb)            # Propagação Forward \n",
        "        loss = loss_func(y_pred, yb)  # Função de custo\n",
        "        optimizer.zero_grad()         # Limpando todos os gradientes anteriores, definindo como zero\n",
        "        loss.backward()               # Back Propagation\n",
        "        optimizer.step()              # Atualizando os parâmeteros\n",
        "    #print(\"Loss na iteração :\"+str(epoch)+\" é: \"+str(loss.item()))\n",
        "    train_loss.append(loss.item())\n",
        "torch.save(model.state_dict(), 'americanas.pth')\n",
        "print('Last iteration loss value: '+str(loss.item()))"
      ],
      "metadata": {
        "colab": {
          "base_uri": "https://localhost:8080/"
        },
        "id": "pjDYlbbLkE5E",
        "outputId": "c5d5632d-7acb-4d0d-e7f6-7f9f55dd8e76"
      },
      "execution_count": 22,
      "outputs": [
        {
          "output_type": "stream",
          "name": "stdout",
          "text": [
            "Last iteration loss value: 0.0073728132992982864\n"
          ]
        }
      ]
    },
    {
      "cell_type": "markdown",
      "source": [
        "Visualização do aprendizado da rede AmericanasModel"
      ],
      "metadata": {
        "id": "dGe8hsP2kIBt"
      }
    },
    {
      "cell_type": "code",
      "source": [
        "plt.plot(train_loss)\n",
        "plt.show()"
      ],
      "metadata": {
        "colab": {
          "base_uri": "https://localhost:8080/",
          "height": 265
        },
        "id": "zjUvXLDakNcE",
        "outputId": "051bc62b-28d8-4042-c724-6b1d36553965"
      },
      "execution_count": 23,
      "outputs": [
        {
          "output_type": "display_data",
          "data": {
            "text/plain": [
              "<Figure size 432x288 with 1 Axes>"
            ],
            "image/png": "[encoded data removed]"
          },
          "metadata": {
            "needs_background": "light"
          }
        }
      ]
    },
    {
      "cell_type": "markdown",
      "source": [
        "Avaliação do Modelo"
      ],
      "metadata": {
        "id": "YtTVnuTikQFI"
      }
    },
    {
      "cell_type": "code",
      "source": [
        "y_pred_list = []\n",
        "model.eval()\n",
        "\n",
        "#Como não precisamos do modelo para propagar de volta os gradientes no conjunto de teste, usamos torch.no_grad()\n",
        "# reduz o uso de memória e acelera a computação\n",
        "with torch.no_grad():\n",
        "    for xb_test,yb_test  in test_loader:\n",
        "        y_test_pred = model(xb_test)\n",
        "        y_pred_tag = torch.round(y_test_pred)\n",
        "        y_pred_list.append(y_pred_tag.detach().numpy())\n",
        "\n",
        "# Os arrays são colocados em uma lista para cada batch        \n",
        "y_pred_list = [a.squeeze().tolist() for a in y_pred_list]\n",
        "# As listas são colocadas em sequência\n",
        "ytest_pred = list(itertools.chain.from_iterable(y_pred_list))"
      ],
      "metadata": {
        "id": "xB-4lE-pkTBZ"
      },
      "execution_count": 24,
      "outputs": []
    },
    {
      "cell_type": "code",
      "source": [
        "y_true_test = test_y.values.ravel()\n",
        "conf_matrix = confusion_matrix(y_true_test ,ytest_pred)\n",
        "print(conf_matrix)\n",
        "\n",
        "print(\"Relatório da Classificação: \",\"\\n\\n\",classification_report(y_true_test, ytest_pred, digits=4))"
      ],
      "metadata": {
        "colab": {
          "base_uri": "https://localhost:8080/"
        },
        "id": "XekILeOWkV4w",
        "outputId": "d6f83d8f-7c90-4732-97be-0b303ed3aec1"
      },
      "execution_count": 25,
      "outputs": [
        {
          "output_type": "stream",
          "name": "stdout",
          "text": [
            "[[42 15]\n",
            " [22 38]]\n",
            "Relatório da Classificação:  \n",
            "\n",
            "               precision    recall  f1-score   support\n",
            "\n",
            "           0     0.6562    0.7368    0.6942        57\n",
            "           1     0.7170    0.6333    0.6726        60\n",
            "\n",
            "    accuracy                         0.6838       117\n",
            "   macro avg     0.6866    0.6851    0.6834       117\n",
            "weighted avg     0.6874    0.6838    0.6831       117\n",
            "\n"
          ]
        }
      ]
    },
    {
      "cell_type": "markdown",
      "source": [
        "## Entrega do Modelo\n",
        "\n",
        "O modelo é salvo em formato .pth e é carregado para avaliar uma amostra aleatória de teste. Esse modelo salvo poderá ser utilizado para criação de APIs preditoras. "
      ],
      "metadata": {
        "id": "rSK0Nv5EkZDU"
      }
    },
    {
      "cell_type": "code",
      "source": [
        "model.load_state_dict(torch.load('americanas.pth'))\n",
        "\n",
        "y_pred_list = []\n",
        "model.eval()\n",
        "\n",
        "# Variável iteradora \n",
        "i=0\n",
        "\n",
        "with torch.no_grad():\n",
        "    for xb_test,yb_test  in test_loader:\n",
        "        y_test_pred = model(xb_test)\n",
        "        y_pred_tag = torch.round(y_test_pred)\n",
        "        y_pred_list.append(y_pred_tag.detach().numpy())\n",
        "\n",
        "        i=i+1\n",
        "\n",
        "        if(i==1):\n",
        "\n",
        "          # Os arrays são colocados em uma lista para cada batch        \n",
        "          y_pred_list = [a.squeeze().tolist() for a in y_pred_list]\n",
        "          # As listas são colocadas em sequência\n",
        "          ytest_pred = list(itertools.chain.from_iterable(y_pred_list))\n",
        "\n",
        "          xb_test.cpu().detach().numpy()\n",
        "          print(\"Tensor de Entrada de Teste:\", xb_test[0])\n",
        "          print(\"Valor predito:\", y_pred_list[0][22])\n",
        "          print(\"Valor real:\", ytest_pred[22])\n",
        "          break;\n"
      ],
      "metadata": {
        "colab": {
          "base_uri": "https://localhost:8080/"
        },
        "id": "mKHFip5wkZmh",
        "outputId": "de03797b-5815-495d-d3dd-4b260e02603d"
      },
      "execution_count": 26,
      "outputs": [
        {
          "output_type": "stream",
          "name": "stdout",
          "text": [
            "Tensor de Entrada de Teste: tensor([0.3721, 0.2581, 0.2566, 0.6105, 0.6849, 0.0619, 0.4570, 0.0220, 0.0703,\n",
            "        0.0933, 0.1244, 0.1058, 0.0350, 0.1089, 0.0803, 0.3143])\n",
            "Valor predito: 1.0\n",
            "Valor real: 1.0\n"
          ]
        }
      ]
    },
    {
      "cell_type": "markdown",
      "source": [
        "Visualização do funcionamento do MLP AmericanasModel"
      ],
      "metadata": {
        "id": "WqbfL2dGkctD"
      }
    },
    {
      "cell_type": "code",
      "source": [
        "!pip install torchviz"
      ],
      "metadata": {
        "colab": {
          "base_uri": "https://localhost:8080/"
        },
        "id": "UdgyGINpkho9",
        "outputId": "a5d74342-b5c6-47c7-f2af-b01ff0c6b021"
      },
      "execution_count": 27,
      "outputs": [
        {
          "output_type": "stream",
          "name": "stdout",
          "text": [
            "Looking in indexes: https://pypi.org/simple, https://us-python.pkg.dev/colab-wheels/public/simple/\n",
            "Requirement already satisfied: torchviz in /usr/local/lib/python3.7/dist-packages (0.0.2)\n",
            "Requirement already satisfied: graphviz in /usr/local/lib/python3.7/dist-packages (from torchviz) (0.10.1)\n",
            "Requirement already satisfied: torch in /usr/local/lib/python3.7/dist-packages (from torchviz) (1.12.0+cu113)\n",
            "Requirement already satisfied: typing-extensions in /usr/local/lib/python3.7/dist-packages (from torch->torchviz) (4.1.1)\n"
          ]
        }
      ]
    },
    {
      "cell_type": "code",
      "source": [
        "from torchviz import make_dot, make_dot_from_trace\n",
        "\n",
        "make_dot(model(xb_test), params=dict(model.named_parameters()), show_attrs=True, show_saved=True)\n",
        "#dot.format = 'png'\n",
        "#dot.render('torchviz-sample')"
      ],
      "metadata": {
        "colab": {
          "base_uri": "https://localhost:8080/",
          "height": 1000
        },
        "id": "bKsiXHepklBF",
        "outputId": "bea0c743-ba09-4c72-8a61-a31efb60aa0c"
      },
      "execution_count": 28,
      "outputs": [
        {
          "output_type": "execute_result",
          "data": {
            "text/plain": [
              "<graphviz.dot.Digraph at 0x7f25351b0590>"
            ],
            "image/svg+xml": "<?xml version=\"1.0\" encoding=\"UTF-8\" standalone=\"no\"?>\n<!DOCTYPE svg PUBLIC \"-//W3C//DTD SVG 1.1//EN\"\n \"http://www.w3.org/Graphics/SVG/1.1/DTD/svg11.dtd\">\n<!-- Generated by graphviz version 2.40.1 (20161225.0304)\n -->\n<!-- Title: %3 Pages: 1 -->\n<svg width=\"1112pt\" height=\"985pt\"\n viewBox=\"0.00 0.00 1112.00 985.14\" xmlns=\"http://www.w3.org/2000/svg\" xmlns:xlink=\"http://www.w3.org/1999/xlink\">\n<g id=\"graph0\" class=\"graph\" transform=\"scale(.8029 .8029) rotate(0) translate(4 1223)\">\n<title>%3</title>\n<polygon fill=\"#ffffff\" stroke=\"transparent\" points=\"-4,4 -4,-1223 1381,-1223 1381,4 -4,4\"/>\n<!-- 139797781411312 -->\n<g id=\"node1\" class=\"node\">\n<title>139797781411312</title>\n<polygon fill=\"#caff70\" stroke=\"#000000\" points=\"249,-31 184,-31 184,0 249,0 249,-31\"/>\n<text text-anchor=\"middle\" x=\"216.5\" y=\"-7\" font-family=\"monospace\" font-size=\"10.00\" fill=\"#000000\"> (32, 1)</text>\n</g>\n<!-- 139797825903248 -->\n<g id=\"node2\" class=\"node\">\n<title>139797825903248</title>\n<polygon fill=\"#d3d3d3\" stroke=\"#000000\" points=\"333,-108 184,-108 184,-67 333,-67 333,-108\"/>\n<text text-anchor=\"middle\" x=\"258.5\" y=\"-96\" font-family=\"monospace\" font-size=\"10.00\" fill=\"#000000\">SigmoidBackward0</text>\n<text text-anchor=\"middle\" x=\"258.5\" y=\"-85\" font-family=\"monospace\" font-size=\"10.00\" fill=\"#000000\">&#45;&#45;&#45;&#45;&#45;&#45;&#45;&#45;&#45;&#45;&#45;&#45;&#45;&#45;&#45;&#45;&#45;&#45;&#45;&#45;&#45;&#45;</text>\n<text text-anchor=\"middle\" x=\"258.5\" y=\"-74\" font-family=\"monospace\" font-size=\"10.00\" fill=\"#000000\">result: [saved tensor]</text>\n</g>\n<!-- 139797825903248&#45;&gt;139797781411312 -->\n<g id=\"edge51\" class=\"edge\">\n<title>139797825903248&#45;&gt;139797781411312</title>\n<path fill=\"none\" stroke=\"#000000\" d=\"M246.3519,-66.6746C241.5125,-58.3786 235.9055,-48.7666 230.8665,-40.1282\"/>\n<polygon fill=\"#000000\" stroke=\"#000000\" points=\"233.7466,-38.1193 225.6846,-31.2451 227.7002,-41.6464 233.7466,-38.1193\"/>\n</g>\n<!-- 139797781412080 -->\n<g id=\"node3\" class=\"node\">\n<title>139797781412080</title>\n<polygon fill=\"#ffa500\" stroke=\"#000000\" points=\"332,-30.5 267,-30.5 267,-.5 332,-.5 332,-30.5\"/>\n<text text-anchor=\"middle\" x=\"299.5\" y=\"-18.5\" font-family=\"monospace\" font-size=\"10.00\" fill=\"#000000\">result</text>\n<text text-anchor=\"middle\" x=\"299.5\" y=\"-7.5\" font-family=\"monospace\" font-size=\"10.00\" fill=\"#000000\"> (32, 1)</text>\n</g>\n<!-- 139797825903248&#45;&gt;139797781412080 -->\n<g id=\"edge1\" class=\"edge\">\n<title>139797825903248&#45;&gt;139797781412080</title>\n<path fill=\"none\" stroke=\"#000000\" d=\"M270.3589,-66.6746C276.8863,-55.2118 284.8444,-41.2366 290.794,-30.7886\"/>\n</g>\n<!-- 139797825901392 -->\n<g id=\"node4\" class=\"node\">\n<title>139797825901392</title>\n<polygon fill=\"#d3d3d3\" stroke=\"#000000\" points=\"223,-262 38,-262 38,-144 223,-144 223,-262\"/>\n<text text-anchor=\"middle\" x=\"130.5\" y=\"-250\" font-family=\"monospace\" font-size=\"10.00\" fill=\"#000000\">AddmmBackward0</text>\n<text text-anchor=\"middle\" x=\"130.5\" y=\"-239\" font-family=\"monospace\" font-size=\"10.00\" fill=\"#000000\">&#45;&#45;&#45;&#45;&#45;&#45;&#45;&#45;&#45;&#45;&#45;&#45;&#45;&#45;&#45;&#45;&#45;&#45;&#45;&#45;&#45;&#45;&#45;&#45;&#45;&#45;&#45;&#45;</text>\n<text text-anchor=\"middle\" x=\"130.5\" y=\"-228\" font-family=\"monospace\" font-size=\"10.00\" fill=\"#000000\">alpha &#160;&#160;&#160;&#160;&#160;&#160;: &#160;&#160;&#160;&#160;&#160;&#160;&#160;&#160;&#160;&#160;&#160;&#160;&#160;1</text>\n<text text-anchor=\"middle\" x=\"130.5\" y=\"-217\" font-family=\"monospace\" font-size=\"10.00\" fill=\"#000000\">beta &#160;&#160;&#160;&#160;&#160;&#160;&#160;: &#160;&#160;&#160;&#160;&#160;&#160;&#160;&#160;&#160;&#160;&#160;&#160;&#160;1</text>\n<text text-anchor=\"middle\" x=\"130.5\" y=\"-206\" font-family=\"monospace\" font-size=\"10.00\" fill=\"#000000\">mat1 &#160;&#160;&#160;&#160;&#160;&#160;&#160;: [saved tensor]</text>\n<text text-anchor=\"middle\" x=\"130.5\" y=\"-195\" font-family=\"monospace\" font-size=\"10.00\" fill=\"#000000\">mat1_sizes &#160;: &#160;&#160;&#160;&#160;&#160;(32, 100)</text>\n<text text-anchor=\"middle\" x=\"130.5\" y=\"-184\" font-family=\"monospace\" font-size=\"10.00\" fill=\"#000000\">mat1_strides: &#160;&#160;&#160;&#160;&#160;&#160;(100, 1)</text>\n<text text-anchor=\"middle\" x=\"130.5\" y=\"-173\" font-family=\"monospace\" font-size=\"10.00\" fill=\"#000000\">mat2 &#160;&#160;&#160;&#160;&#160;&#160;&#160;: [saved tensor]</text>\n<text text-anchor=\"middle\" x=\"130.5\" y=\"-162\" font-family=\"monospace\" font-size=\"10.00\" fill=\"#000000\">mat2_sizes &#160;: &#160;&#160;&#160;&#160;&#160;&#160;(100, 1)</text>\n<text text-anchor=\"middle\" x=\"130.5\" y=\"-151\" font-family=\"monospace\" font-size=\"10.00\" fill=\"#000000\">mat2_strides: &#160;&#160;&#160;&#160;&#160;&#160;(1, 100)</text>\n</g>\n<!-- 139797825901392&#45;&gt;139797825903248 -->\n<g id=\"edge2\" class=\"edge\">\n<title>139797825901392&#45;&gt;139797825903248</title>\n<path fill=\"none\" stroke=\"#000000\" d=\"M195.9999,-143.8966C207.2598,-133.7363 218.4577,-123.6319 228.1986,-114.8423\"/>\n<polygon fill=\"#000000\" stroke=\"#000000\" points=\"230.592,-117.3969 235.6715,-108.0991 225.9025,-112.1999 230.592,-117.3969\"/>\n</g>\n<!-- 139797781411888 -->\n<g id=\"node5\" class=\"node\">\n<title>139797781411888</title>\n<polygon fill=\"#ffa500\" stroke=\"#000000\" points=\"77,-102.5 0,-102.5 0,-72.5 77,-72.5 77,-102.5\"/>\n<text text-anchor=\"middle\" x=\"38.5\" y=\"-90.5\" font-family=\"monospace\" font-size=\"10.00\" fill=\"#000000\">mat1</text>\n<text text-anchor=\"middle\" x=\"38.5\" y=\"-79.5\" font-family=\"monospace\" font-size=\"10.00\" fill=\"#000000\"> (32, 100)</text>\n</g>\n<!-- 139797825901392&#45;&gt;139797781411888 -->\n<g id=\"edge3\" class=\"edge\">\n<title>139797825901392&#45;&gt;139797781411888</title>\n<path fill=\"none\" stroke=\"#000000\" d=\"M83.422,-143.8966C71.2202,-128.5781 59.1197,-113.3867 50.5569,-102.6367\"/>\n</g>\n<!-- 139797782274224 -->\n<g id=\"node6\" class=\"node\">\n<title>139797782274224</title>\n<polygon fill=\"#ffa500\" stroke=\"#000000\" points=\"166,-102.5 95,-102.5 95,-72.5 166,-72.5 166,-102.5\"/>\n<text text-anchor=\"middle\" x=\"130.5\" y=\"-90.5\" font-family=\"monospace\" font-size=\"10.00\" fill=\"#000000\">mat2</text>\n<text text-anchor=\"middle\" x=\"130.5\" y=\"-79.5\" font-family=\"monospace\" font-size=\"10.00\" fill=\"#000000\"> (100, 1)</text>\n</g>\n<!-- 139797825901392&#45;&gt;139797782274224 -->\n<g id=\"edge4\" class=\"edge\">\n<title>139797825901392&#45;&gt;139797782274224</title>\n<path fill=\"none\" stroke=\"#000000\" d=\"M130.5,-143.8966C130.5,-128.5781 130.5,-113.3867 130.5,-102.6367\"/>\n</g>\n<!-- 139797825903120 -->\n<g id=\"node7\" class=\"node\">\n<title>139797825903120</title>\n<polygon fill=\"#d3d3d3\" stroke=\"#000000\" points=\"116,-366.5 15,-366.5 15,-347.5 116,-347.5 116,-366.5\"/>\n<text text-anchor=\"middle\" x=\"65.5\" y=\"-354.5\" font-family=\"monospace\" font-size=\"10.00\" fill=\"#000000\">AccumulateGrad</text>\n</g>\n<!-- 139797825903120&#45;&gt;139797825901392 -->\n<g id=\"edge5\" class=\"edge\">\n<title>139797825903120&#45;&gt;139797825901392</title>\n<path fill=\"none\" stroke=\"#000000\" d=\"M69.566,-347.3666C76.0113,-332.0962 89.1186,-301.0421 101.5307,-271.6349\"/>\n<polygon fill=\"#000000\" stroke=\"#000000\" points=\"104.8628,-272.7411 105.5269,-262.1671 98.4137,-270.019 104.8628,-272.7411\"/>\n</g>\n<!-- 139797755732912 -->\n<g id=\"node8\" class=\"node\">\n<title>139797755732912</title>\n<polygon fill=\"#add8e6\" stroke=\"#000000\" points=\"110,-487.5 9,-487.5 9,-457.5 110,-457.5 110,-487.5\"/>\n<text text-anchor=\"middle\" x=\"59.5\" y=\"-475.5\" font-family=\"monospace\" font-size=\"10.00\" fill=\"#000000\">layer_out.bias</text>\n<text text-anchor=\"middle\" x=\"59.5\" y=\"-464.5\" font-family=\"monospace\" font-size=\"10.00\" fill=\"#000000\"> (1)</text>\n</g>\n<!-- 139797755732912&#45;&gt;139797825903120 -->\n<g id=\"edge6\" class=\"edge\">\n<title>139797755732912&#45;&gt;139797825903120</title>\n<path fill=\"none\" stroke=\"#000000\" d=\"M60.2844,-457.4004C61.3551,-436.7903 63.2764,-399.8051 64.4643,-376.9365\"/>\n<polygon fill=\"#000000\" stroke=\"#000000\" points=\"67.9724,-376.8695 64.996,-366.7014 60.9819,-376.5063 67.9724,-376.8695\"/>\n</g>\n<!-- 139797825901328 -->\n<g id=\"node9\" class=\"node\">\n<title>139797825901328</title>\n<polygon fill=\"#d3d3d3\" stroke=\"#000000\" points=\"584,-416 399,-416 399,-298 584,-298 584,-416\"/>\n<text text-anchor=\"middle\" x=\"491.5\" y=\"-404\" font-family=\"monospace\" font-size=\"10.00\" fill=\"#000000\">NativeBatchNormBackward0</text>\n<text text-anchor=\"middle\" x=\"491.5\" y=\"-393\" font-family=\"monospace\" font-size=\"10.00\" fill=\"#000000\">&#45;&#45;&#45;&#45;&#45;&#45;&#45;&#45;&#45;&#45;&#45;&#45;&#45;&#45;&#45;&#45;&#45;&#45;&#45;&#45;&#45;&#45;&#45;&#45;&#45;&#45;&#45;&#45;</text>\n<text text-anchor=\"middle\" x=\"491.5\" y=\"-382\" font-family=\"monospace\" font-size=\"10.00\" fill=\"#000000\">eps &#160;&#160;&#160;&#160;&#160;&#160;&#160;&#160;: &#160;&#160;&#160;&#160;&#160;&#160;&#160;&#160;&#160;1e&#45;05</text>\n<text text-anchor=\"middle\" x=\"491.5\" y=\"-371\" font-family=\"monospace\" font-size=\"10.00\" fill=\"#000000\">input &#160;&#160;&#160;&#160;&#160;&#160;: [saved tensor]</text>\n<text text-anchor=\"middle\" x=\"491.5\" y=\"-360\" font-family=\"monospace\" font-size=\"10.00\" fill=\"#000000\">result1 &#160;&#160;&#160;&#160;: [saved tensor]</text>\n<text text-anchor=\"middle\" x=\"491.5\" y=\"-349\" font-family=\"monospace\" font-size=\"10.00\" fill=\"#000000\">result2 &#160;&#160;&#160;&#160;: [saved tensor]</text>\n<text text-anchor=\"middle\" x=\"491.5\" y=\"-338\" font-family=\"monospace\" font-size=\"10.00\" fill=\"#000000\">running_mean: [saved tensor]</text>\n<text text-anchor=\"middle\" x=\"491.5\" y=\"-327\" font-family=\"monospace\" font-size=\"10.00\" fill=\"#000000\">running_var : [saved tensor]</text>\n<text text-anchor=\"middle\" x=\"491.5\" y=\"-316\" font-family=\"monospace\" font-size=\"10.00\" fill=\"#000000\">training &#160;&#160;&#160;: &#160;&#160;&#160;&#160;&#160;&#160;&#160;&#160;&#160;False</text>\n<text text-anchor=\"middle\" x=\"491.5\" y=\"-305\" font-family=\"monospace\" font-size=\"10.00\" fill=\"#000000\">weight &#160;&#160;&#160;&#160;&#160;: [saved tensor]</text>\n</g>\n<!-- 139797825901328&#45;&gt;139797825901392 -->\n<g id=\"edge7\" class=\"edge\">\n<title>139797825901328&#45;&gt;139797825901392</title>\n<path fill=\"none\" stroke=\"#000000\" d=\"M398.8298,-327.3642C348.7306,-310.2638 286.2835,-287.1879 232.5,-262 232.4045,-261.9553 232.3089,-261.9105 232.2133,-261.8656\"/>\n<polygon fill=\"#000000\" stroke=\"#000000\" points=\"233.7836,-258.7372 223.2569,-257.5373 230.7377,-265.0399 233.7836,-258.7372\"/>\n</g>\n<!-- 139797781411120 -->\n<g id=\"node10\" class=\"node\">\n<title>139797781411120</title>\n<polygon fill=\"#ffa500\" stroke=\"#000000\" points=\"856,-218 779,-218 779,-188 856,-188 856,-218\"/>\n<text text-anchor=\"middle\" x=\"817.5\" y=\"-206\" font-family=\"monospace\" font-size=\"10.00\" fill=\"#000000\">input</text>\n<text text-anchor=\"middle\" x=\"817.5\" y=\"-195\" font-family=\"monospace\" font-size=\"10.00\" fill=\"#000000\"> (32, 100)</text>\n</g>\n<!-- 139797825901328&#45;&gt;139797781411120 -->\n<g id=\"edge8\" class=\"edge\">\n<title>139797825901328&#45;&gt;139797781411120</title>\n<path fill=\"none\" stroke=\"#000000\" d=\"M584.0493,-337.2091C639.5567,-322.4289 709.7604,-298.4058 764.5,-262 782.156,-250.2575 797.7491,-231.2919 807.372,-218.0429\"/>\n</g>\n<!-- 139797782276432 -->\n<g id=\"node11\" class=\"node\">\n<title>139797782276432</title>\n<polygon fill=\"#ffa500\" stroke=\"#000000\" points=\"300,-218 241,-218 241,-188 300,-188 300,-218\"/>\n<text text-anchor=\"middle\" x=\"270.5\" y=\"-206\" font-family=\"monospace\" font-size=\"10.00\" fill=\"#000000\">result1</text>\n<text text-anchor=\"middle\" x=\"270.5\" y=\"-195\" font-family=\"monospace\" font-size=\"10.00\" fill=\"#000000\"> (0)</text>\n</g>\n<!-- 139797825901328&#45;&gt;139797782276432 -->\n<g id=\"edge9\" class=\"edge\">\n<title>139797825901328&#45;&gt;139797782276432</title>\n<path fill=\"none\" stroke=\"#000000\" d=\"M398.7345,-319.8413C368.1884,-304.7999 335.4379,-285.3949 309.5,-262 295.641,-249.4998 284.4906,-231.0438 277.7181,-218.1113\"/>\n</g>\n<!-- 139797782277488 -->\n<g id=\"node12\" class=\"node\">\n<title>139797782277488</title>\n<polygon fill=\"#ffa500\" stroke=\"#000000\" points=\"377,-218 318,-218 318,-188 377,-188 377,-218\"/>\n<text text-anchor=\"middle\" x=\"347.5\" y=\"-206\" font-family=\"monospace\" font-size=\"10.00\" fill=\"#000000\">result2</text>\n<text text-anchor=\"middle\" x=\"347.5\" y=\"-195\" font-family=\"monospace\" font-size=\"10.00\" fill=\"#000000\"> (0)</text>\n</g>\n<!-- 139797825901328&#45;&gt;139797782277488 -->\n<g id=\"edge10\" class=\"edge\">\n<title>139797825901328&#45;&gt;139797782277488</title>\n<path fill=\"none\" stroke=\"#000000\" d=\"M421.0339,-297.7651C408.9892,-286.3969 396.9923,-274.214 386.5,-262 374.6585,-248.2155 363.4738,-230.6498 356.1443,-218.2821\"/>\n</g>\n<!-- 139797824650320 -->\n<g id=\"node13\" class=\"node\">\n<title>139797824650320</title>\n<polygon fill=\"#ffa500\" stroke=\"#000000\" points=\"484,-218 395,-218 395,-188 484,-188 484,-218\"/>\n<text text-anchor=\"middle\" x=\"439.5\" y=\"-206\" font-family=\"monospace\" font-size=\"10.00\" fill=\"#000000\">running_mean</text>\n<text text-anchor=\"middle\" x=\"439.5\" y=\"-195\" font-family=\"monospace\" font-size=\"10.00\" fill=\"#000000\"> (100)</text>\n</g>\n<!-- 139797825901328&#45;&gt;139797824650320 -->\n<g id=\"edge11\" class=\"edge\">\n<title>139797825901328&#45;&gt;139797824650320</title>\n<path fill=\"none\" stroke=\"#000000\" d=\"M471.5442,-297.9C461.8062,-269.0606 450.8706,-236.6746 444.6223,-218.1699\"/>\n</g>\n<!-- 139797825461424 -->\n<g id=\"node14\" class=\"node\">\n<title>139797825461424</title>\n<polygon fill=\"#ffa500\" stroke=\"#000000\" points=\"585,-218 502,-218 502,-188 585,-188 585,-218\"/>\n<text text-anchor=\"middle\" x=\"543.5\" y=\"-206\" font-family=\"monospace\" font-size=\"10.00\" fill=\"#000000\">running_var</text>\n<text text-anchor=\"middle\" x=\"543.5\" y=\"-195\" font-family=\"monospace\" font-size=\"10.00\" fill=\"#000000\"> (100)</text>\n</g>\n<!-- 139797825901328&#45;&gt;139797825461424 -->\n<g id=\"edge12\" class=\"edge\">\n<title>139797825901328&#45;&gt;139797825461424</title>\n<path fill=\"none\" stroke=\"#000000\" d=\"M511.4558,-297.9C521.1938,-269.0606 532.1294,-236.6746 538.3777,-218.1699\"/>\n</g>\n<!-- 139797825460944 -->\n<g id=\"node15\" class=\"node\">\n<title>139797825460944</title>\n<polygon fill=\"#add8e6\" stroke=\"#000000\" points=\"722,-218 603,-218 603,-188 722,-188 722,-218\"/>\n<text text-anchor=\"middle\" x=\"662.5\" y=\"-206\" font-family=\"monospace\" font-size=\"10.00\" fill=\"#000000\">batchnorm2.weight</text>\n<text text-anchor=\"middle\" x=\"662.5\" y=\"-195\" font-family=\"monospace\" font-size=\"10.00\" fill=\"#000000\"> (100)</text>\n</g>\n<!-- 139797825901328&#45;&gt;139797825460944 -->\n<g id=\"edge13\" class=\"edge\">\n<title>139797825901328&#45;&gt;139797825460944</title>\n<path fill=\"none\" stroke=\"#000000\" d=\"M557.124,-297.9C589.147,-269.0606 625.1081,-236.6746 645.6555,-218.1699\"/>\n</g>\n<!-- 139797825903504 -->\n<g id=\"node45\" class=\"node\">\n<title>139797825903504</title>\n<polygon fill=\"#d3d3d3\" stroke=\"#000000\" points=\"757,-97 656,-97 656,-78 757,-78 757,-97\"/>\n<text text-anchor=\"middle\" x=\"706.5\" y=\"-85\" font-family=\"monospace\" font-size=\"10.00\" fill=\"#000000\">AccumulateGrad</text>\n</g>\n<!-- 139797825460944&#45;&gt;139797825903504 -->\n<g id=\"edge45\" class=\"edge\">\n<title>139797825460944&#45;&gt;139797825903504</title>\n<path fill=\"none\" stroke=\"#000000\" d=\"M668.2522,-187.9004C676.1754,-167.102 690.4512,-129.6282 699.1425,-106.8135\"/>\n<polygon fill=\"#000000\" stroke=\"#000000\" points=\"702.5149,-107.7923 702.8042,-97.2014 695.9735,-105.3003 702.5149,-107.7923\"/>\n</g>\n<!-- 139797825904144 -->\n<g id=\"node16\" class=\"node\">\n<title>139797825904144</title>\n<polygon fill=\"#d3d3d3\" stroke=\"#000000\" points=\"1377,-493 1228,-493 1228,-452 1377,-452 1377,-493\"/>\n<text text-anchor=\"middle\" x=\"1302.5\" y=\"-481\" font-family=\"monospace\" font-size=\"10.00\" fill=\"#000000\">ReluBackward0</text>\n<text text-anchor=\"middle\" x=\"1302.5\" y=\"-470\" font-family=\"monospace\" font-size=\"10.00\" fill=\"#000000\">&#45;&#45;&#45;&#45;&#45;&#45;&#45;&#45;&#45;&#45;&#45;&#45;&#45;&#45;&#45;&#45;&#45;&#45;&#45;&#45;&#45;&#45;</text>\n<text text-anchor=\"middle\" x=\"1302.5\" y=\"-459\" font-family=\"monospace\" font-size=\"10.00\" fill=\"#000000\">result: [saved tensor]</text>\n</g>\n<!-- 139797825904144&#45;&gt;139797825901328 -->\n<g id=\"edge14\" class=\"edge\">\n<title>139797825904144&#45;&gt;139797825901328</title>\n<path fill=\"none\" stroke=\"#000000\" d=\"M1227.9299,-453.6626C1225.0888,-453.0783 1222.2715,-452.5214 1219.5,-452 998.2405,-410.3756 735.7277,-380.9642 594.2263,-366.7286\"/>\n<polygon fill=\"#000000\" stroke=\"#000000\" points=\"594.5485,-363.2435 584.2495,-365.7299 593.8512,-370.2087 594.5485,-363.2435\"/>\n</g>\n<!-- 139797782275952 -->\n<g id=\"node17\" class=\"node\">\n<title>139797782275952</title>\n<polygon fill=\"#ffa500\" stroke=\"#000000\" points=\"1341,-372 1264,-372 1264,-342 1341,-342 1341,-372\"/>\n<text text-anchor=\"middle\" x=\"1302.5\" y=\"-360\" font-family=\"monospace\" font-size=\"10.00\" fill=\"#000000\">result</text>\n<text text-anchor=\"middle\" x=\"1302.5\" y=\"-349\" font-family=\"monospace\" font-size=\"10.00\" fill=\"#000000\"> (32, 100)</text>\n</g>\n<!-- 139797825904144&#45;&gt;139797782275952 -->\n<g id=\"edge15\" class=\"edge\">\n<title>139797825904144&#45;&gt;139797782275952</title>\n<path fill=\"none\" stroke=\"#000000\" d=\"M1302.5,-451.8509C1302.5,-429.0109 1302.5,-392.744 1302.5,-372.3077\"/>\n</g>\n<!-- 139797825901264 -->\n<g id=\"node18\" class=\"node\">\n<title>139797825901264</title>\n<polygon fill=\"#d3d3d3\" stroke=\"#000000\" points=\"1286,-647 1101,-647 1101,-529 1286,-529 1286,-647\"/>\n<text text-anchor=\"middle\" x=\"1193.5\" y=\"-635\" font-family=\"monospace\" font-size=\"10.00\" fill=\"#000000\">AddmmBackward0</text>\n<text text-anchor=\"middle\" x=\"1193.5\" y=\"-624\" font-family=\"monospace\" font-size=\"10.00\" fill=\"#000000\">&#45;&#45;&#45;&#45;&#45;&#45;&#45;&#45;&#45;&#45;&#45;&#45;&#45;&#45;&#45;&#45;&#45;&#45;&#45;&#45;&#45;&#45;&#45;&#45;&#45;&#45;&#45;&#45;</text>\n<text text-anchor=\"middle\" x=\"1193.5\" y=\"-613\" font-family=\"monospace\" font-size=\"10.00\" fill=\"#000000\">alpha &#160;&#160;&#160;&#160;&#160;&#160;: &#160;&#160;&#160;&#160;&#160;&#160;&#160;&#160;&#160;&#160;&#160;&#160;&#160;1</text>\n<text text-anchor=\"middle\" x=\"1193.5\" y=\"-602\" font-family=\"monospace\" font-size=\"10.00\" fill=\"#000000\">beta &#160;&#160;&#160;&#160;&#160;&#160;&#160;: &#160;&#160;&#160;&#160;&#160;&#160;&#160;&#160;&#160;&#160;&#160;&#160;&#160;1</text>\n<text text-anchor=\"middle\" x=\"1193.5\" y=\"-591\" font-family=\"monospace\" font-size=\"10.00\" fill=\"#000000\">mat1 &#160;&#160;&#160;&#160;&#160;&#160;&#160;: [saved tensor]</text>\n<text text-anchor=\"middle\" x=\"1193.5\" y=\"-580\" font-family=\"monospace\" font-size=\"10.00\" fill=\"#000000\">mat1_sizes &#160;: &#160;&#160;&#160;&#160;&#160;(32, 300)</text>\n<text text-anchor=\"middle\" x=\"1193.5\" y=\"-569\" font-family=\"monospace\" font-size=\"10.00\" fill=\"#000000\">mat1_strides: &#160;&#160;&#160;&#160;&#160;&#160;(300, 1)</text>\n<text text-anchor=\"middle\" x=\"1193.5\" y=\"-558\" font-family=\"monospace\" font-size=\"10.00\" fill=\"#000000\">mat2 &#160;&#160;&#160;&#160;&#160;&#160;&#160;: [saved tensor]</text>\n<text text-anchor=\"middle\" x=\"1193.5\" y=\"-547\" font-family=\"monospace\" font-size=\"10.00\" fill=\"#000000\">mat2_sizes &#160;: &#160;&#160;&#160;&#160;(300, 100)</text>\n<text text-anchor=\"middle\" x=\"1193.5\" y=\"-536\" font-family=\"monospace\" font-size=\"10.00\" fill=\"#000000\">mat2_strides: &#160;&#160;&#160;&#160;&#160;&#160;(1, 300)</text>\n</g>\n<!-- 139797825901264&#45;&gt;139797825904144 -->\n<g id=\"edge16\" class=\"edge\">\n<title>139797825901264&#45;&gt;139797825904144</title>\n<path fill=\"none\" stroke=\"#000000\" d=\"M1249.2772,-528.8966C1258.5809,-519.0381 1267.835,-509.2322 1275.954,-500.629\"/>\n<polygon fill=\"#000000\" stroke=\"#000000\" points=\"1278.7421,-502.7741 1283.0601,-493.0991 1273.6512,-497.9697 1278.7421,-502.7741\"/>\n</g>\n<!-- 139797781037520 -->\n<g id=\"node19\" class=\"node\">\n<title>139797781037520</title>\n<polygon fill=\"#ffa500\" stroke=\"#000000\" points=\"1109,-487.5 1032,-487.5 1032,-457.5 1109,-457.5 1109,-487.5\"/>\n<text text-anchor=\"middle\" x=\"1070.5\" y=\"-475.5\" font-family=\"monospace\" font-size=\"10.00\" fill=\"#000000\">mat1</text>\n<text text-anchor=\"middle\" x=\"1070.5\" y=\"-464.5\" font-family=\"monospace\" font-size=\"10.00\" fill=\"#000000\"> (32, 300)</text>\n</g>\n<!-- 139797825901264&#45;&gt;139797781037520 -->\n<g id=\"edge17\" class=\"edge\">\n<title>139797825901264&#45;&gt;139797781037520</title>\n<path fill=\"none\" stroke=\"#000000\" d=\"M1130.5587,-528.8966C1114.2455,-513.5781 1098.0676,-498.3867 1086.6196,-487.6367\"/>\n</g>\n<!-- 139797825012848 -->\n<g id=\"node20\" class=\"node\">\n<title>139797825012848</title>\n<polygon fill=\"#ffa500\" stroke=\"#000000\" points=\"1210,-487.5 1127,-487.5 1127,-457.5 1210,-457.5 1210,-487.5\"/>\n<text text-anchor=\"middle\" x=\"1168.5\" y=\"-475.5\" font-family=\"monospace\" font-size=\"10.00\" fill=\"#000000\">mat2</text>\n<text text-anchor=\"middle\" x=\"1168.5\" y=\"-464.5\" font-family=\"monospace\" font-size=\"10.00\" fill=\"#000000\"> (300, 100)</text>\n</g>\n<!-- 139797825901264&#45;&gt;139797825012848 -->\n<g id=\"edge18\" class=\"edge\">\n<title>139797825901264&#45;&gt;139797825012848</title>\n<path fill=\"none\" stroke=\"#000000\" d=\"M1180.7071,-528.8966C1177.3914,-513.5781 1174.1032,-498.3867 1171.7763,-487.6367\"/>\n</g>\n<!-- 139797825902608 -->\n<g id=\"node21\" class=\"node\">\n<title>139797825902608</title>\n<polygon fill=\"#d3d3d3\" stroke=\"#000000\" points=\"1173,-751.5 1072,-751.5 1072,-732.5 1173,-732.5 1173,-751.5\"/>\n<text text-anchor=\"middle\" x=\"1122.5\" y=\"-739.5\" font-family=\"monospace\" font-size=\"10.00\" fill=\"#000000\">AccumulateGrad</text>\n</g>\n<!-- 139797825902608&#45;&gt;139797825901264 -->\n<g id=\"edge19\" class=\"edge\">\n<title>139797825902608&#45;&gt;139797825901264</title>\n<path fill=\"none\" stroke=\"#000000\" d=\"M1126.9414,-732.3666C1134.0121,-717.0301 1148.4229,-685.7729 1162.0327,-656.2531\"/>\n<polygon fill=\"#000000\" stroke=\"#000000\" points=\"1165.2132,-657.7138 1166.2217,-647.1671 1158.8563,-654.783 1165.2132,-657.7138\"/>\n</g>\n<!-- 139797755732240 -->\n<g id=\"node22\" class=\"node\">\n<title>139797755732240</title>\n<polygon fill=\"#add8e6\" stroke=\"#000000\" points=\"1166,-872.5 1077,-872.5 1077,-842.5 1166,-842.5 1166,-872.5\"/>\n<text text-anchor=\"middle\" x=\"1121.5\" y=\"-860.5\" font-family=\"monospace\" font-size=\"10.00\" fill=\"#000000\">layer_2.bias</text>\n<text text-anchor=\"middle\" x=\"1121.5\" y=\"-849.5\" font-family=\"monospace\" font-size=\"10.00\" fill=\"#000000\"> (100)</text>\n</g>\n<!-- 139797755732240&#45;&gt;139797825902608 -->\n<g id=\"edge20\" class=\"edge\">\n<title>139797755732240&#45;&gt;139797825902608</title>\n<path fill=\"none\" stroke=\"#000000\" d=\"M1121.6307,-842.4004C1121.8092,-821.7903 1122.1294,-784.8051 1122.3274,-761.9365\"/>\n<polygon fill=\"#000000\" stroke=\"#000000\" points=\"1125.8292,-761.7314 1122.416,-751.7014 1118.8295,-761.6707 1125.8292,-761.7314\"/>\n</g>\n<!-- 139797825901968 -->\n<g id=\"node23\" class=\"node\">\n<title>139797825901968</title>\n<polygon fill=\"#d3d3d3\" stroke=\"#000000\" points=\"878,-801 693,-801 693,-683 878,-683 878,-801\"/>\n<text text-anchor=\"middle\" x=\"785.5\" y=\"-789\" font-family=\"monospace\" font-size=\"10.00\" fill=\"#000000\">NativeBatchNormBackward0</text>\n<text text-anchor=\"middle\" x=\"785.5\" y=\"-778\" font-family=\"monospace\" font-size=\"10.00\" fill=\"#000000\">&#45;&#45;&#45;&#45;&#45;&#45;&#45;&#45;&#45;&#45;&#45;&#45;&#45;&#45;&#45;&#45;&#45;&#45;&#45;&#45;&#45;&#45;&#45;&#45;&#45;&#45;&#45;&#45;</text>\n<text text-anchor=\"middle\" x=\"785.5\" y=\"-767\" font-family=\"monospace\" font-size=\"10.00\" fill=\"#000000\">eps &#160;&#160;&#160;&#160;&#160;&#160;&#160;&#160;: &#160;&#160;&#160;&#160;&#160;&#160;&#160;&#160;&#160;1e&#45;05</text>\n<text text-anchor=\"middle\" x=\"785.5\" y=\"-756\" font-family=\"monospace\" font-size=\"10.00\" fill=\"#000000\">input &#160;&#160;&#160;&#160;&#160;&#160;: [saved tensor]</text>\n<text text-anchor=\"middle\" x=\"785.5\" y=\"-745\" font-family=\"monospace\" font-size=\"10.00\" fill=\"#000000\">result1 &#160;&#160;&#160;&#160;: [saved tensor]</text>\n<text text-anchor=\"middle\" x=\"785.5\" y=\"-734\" font-family=\"monospace\" font-size=\"10.00\" fill=\"#000000\">result2 &#160;&#160;&#160;&#160;: [saved tensor]</text>\n<text text-anchor=\"middle\" x=\"785.5\" y=\"-723\" font-family=\"monospace\" font-size=\"10.00\" fill=\"#000000\">running_mean: [saved tensor]</text>\n<text text-anchor=\"middle\" x=\"785.5\" y=\"-712\" font-family=\"monospace\" font-size=\"10.00\" fill=\"#000000\">running_var : [saved tensor]</text>\n<text text-anchor=\"middle\" x=\"785.5\" y=\"-701\" font-family=\"monospace\" font-size=\"10.00\" fill=\"#000000\">training &#160;&#160;&#160;: &#160;&#160;&#160;&#160;&#160;&#160;&#160;&#160;&#160;False</text>\n<text text-anchor=\"middle\" x=\"785.5\" y=\"-690\" font-family=\"monospace\" font-size=\"10.00\" fill=\"#000000\">weight &#160;&#160;&#160;&#160;&#160;: [saved tensor]</text>\n</g>\n<!-- 139797825901968&#45;&gt;139797825901264 -->\n<g id=\"edge21\" class=\"edge\">\n<title>139797825901968&#45;&gt;139797825901264</title>\n<path fill=\"none\" stroke=\"#000000\" d=\"M878.1373,-701.9174C895.6776,-695.086 914.0121,-688.4482 931.5,-683 998.496,-662.1278 1022.2126,-672.7898 1091.181,-647.2449\"/>\n<polygon fill=\"#000000\" stroke=\"#000000\" points=\"1092.6657,-650.4243 1100.7523,-643.5791 1090.1619,-643.8873 1092.6657,-650.4243\"/>\n</g>\n<!-- 139797781038480 -->\n<g id=\"node24\" class=\"node\">\n<title>139797781038480</title>\n<polygon fill=\"#ffa500\" stroke=\"#000000\" points=\"1083,-603 1006,-603 1006,-573 1083,-573 1083,-603\"/>\n<text text-anchor=\"middle\" x=\"1044.5\" y=\"-591\" font-family=\"monospace\" font-size=\"10.00\" fill=\"#000000\">input</text>\n<text text-anchor=\"middle\" x=\"1044.5\" y=\"-580\" font-family=\"monospace\" font-size=\"10.00\" fill=\"#000000\"> (32, 300)</text>\n</g>\n<!-- 139797825901968&#45;&gt;139797781038480 -->\n<g id=\"edge22\" class=\"edge\">\n<title>139797825901968&#45;&gt;139797781038480</title>\n<path fill=\"none\" stroke=\"#000000\" d=\"M878.2005,-703.5976C923.2978,-684.0527 971.9285,-661.4357 991.5,-647 1008.3429,-634.5769 1023.8695,-616.1064 1033.705,-603.1494\"/>\n</g>\n<!-- 139797825014864 -->\n<g id=\"node25\" class=\"node\">\n<title>139797825014864</title>\n<polygon fill=\"#ffa500\" stroke=\"#000000\" points=\"527,-603 468,-603 468,-573 527,-573 527,-603\"/>\n<text text-anchor=\"middle\" x=\"497.5\" y=\"-591\" font-family=\"monospace\" font-size=\"10.00\" fill=\"#000000\">result1</text>\n<text text-anchor=\"middle\" x=\"497.5\" y=\"-580\" font-family=\"monospace\" font-size=\"10.00\" fill=\"#000000\"> (0)</text>\n</g>\n<!-- 139797825901968&#45;&gt;139797825014864 -->\n<g id=\"edge23\" class=\"edge\">\n<title>139797825901968&#45;&gt;139797825014864</title>\n<path fill=\"none\" stroke=\"#000000\" d=\"M692.9767,-721.5045C642.7808,-706.9473 581.9019,-683.3854 536.5,-647 521.7446,-635.175 510.6286,-616.2261 504.113,-603.0036\"/>\n</g>\n<!-- 139797825012272 -->\n<g id=\"node26\" class=\"node\">\n<title>139797825012272</title>\n<polygon fill=\"#ffa500\" stroke=\"#000000\" points=\"604,-603 545,-603 545,-573 604,-573 604,-603\"/>\n<text text-anchor=\"middle\" x=\"574.5\" y=\"-591\" font-family=\"monospace\" font-size=\"10.00\" fill=\"#000000\">result2</text>\n<text text-anchor=\"middle\" x=\"574.5\" y=\"-580\" font-family=\"monospace\" font-size=\"10.00\" fill=\"#000000\"> (0)</text>\n</g>\n<!-- 139797825901968&#45;&gt;139797825012272 -->\n<g id=\"edge24\" class=\"edge\">\n<title>139797825901968&#45;&gt;139797825012272</title>\n<path fill=\"none\" stroke=\"#000000\" d=\"M692.5617,-701.2053C665.2541,-686.551 636.5558,-668.293 613.5,-647 599.7892,-634.3375 588.6109,-615.9119 581.7914,-603.0309\"/>\n</g>\n<!-- 139797825001424 -->\n<g id=\"node27\" class=\"node\">\n<title>139797825001424</title>\n<polygon fill=\"#ffa500\" stroke=\"#000000\" points=\"711,-603 622,-603 622,-573 711,-573 711,-603\"/>\n<text text-anchor=\"middle\" x=\"666.5\" y=\"-591\" font-family=\"monospace\" font-size=\"10.00\" fill=\"#000000\">running_mean</text>\n<text text-anchor=\"middle\" x=\"666.5\" y=\"-580\" font-family=\"monospace\" font-size=\"10.00\" fill=\"#000000\"> (300)</text>\n</g>\n<!-- 139797825901968&#45;&gt;139797825001424 -->\n<g id=\"edge25\" class=\"edge\">\n<title>139797825901968&#45;&gt;139797825001424</title>\n<path fill=\"none\" stroke=\"#000000\" d=\"M739.8318,-682.9C717.5468,-654.0606 692.5213,-621.6746 678.2222,-603.1699\"/>\n</g>\n<!-- 139797825459024 -->\n<g id=\"node28\" class=\"node\">\n<title>139797825459024</title>\n<polygon fill=\"#ffa500\" stroke=\"#000000\" points=\"812,-603 729,-603 729,-573 812,-573 812,-603\"/>\n<text text-anchor=\"middle\" x=\"770.5\" y=\"-591\" font-family=\"monospace\" font-size=\"10.00\" fill=\"#000000\">running_var</text>\n<text text-anchor=\"middle\" x=\"770.5\" y=\"-580\" font-family=\"monospace\" font-size=\"10.00\" fill=\"#000000\"> (300)</text>\n</g>\n<!-- 139797825901968&#45;&gt;139797825459024 -->\n<g id=\"edge26\" class=\"edge\">\n<title>139797825901968&#45;&gt;139797825459024</title>\n<path fill=\"none\" stroke=\"#000000\" d=\"M779.7435,-682.9C776.9345,-654.0606 773.78,-621.6746 771.9776,-603.1699\"/>\n</g>\n<!-- 139797825196976 -->\n<g id=\"node29\" class=\"node\">\n<title>139797825196976</title>\n<polygon fill=\"#add8e6\" stroke=\"#000000\" points=\"949,-603 830,-603 830,-573 949,-573 949,-603\"/>\n<text text-anchor=\"middle\" x=\"889.5\" y=\"-591\" font-family=\"monospace\" font-size=\"10.00\" fill=\"#000000\">batchnorm1.weight</text>\n<text text-anchor=\"middle\" x=\"889.5\" y=\"-580\" font-family=\"monospace\" font-size=\"10.00\" fill=\"#000000\"> (300)</text>\n</g>\n<!-- 139797825901968&#45;&gt;139797825196976 -->\n<g id=\"edge27\" class=\"edge\">\n<title>139797825901968&#45;&gt;139797825196976</title>\n<path fill=\"none\" stroke=\"#000000\" d=\"M825.4117,-682.9C844.8877,-654.0606 866.7587,-621.6746 879.2554,-603.1699\"/>\n</g>\n<!-- 139797825902736 -->\n<g id=\"node39\" class=\"node\">\n<title>139797825902736</title>\n<polygon fill=\"#d3d3d3\" stroke=\"#000000\" points=\"965,-482 864,-482 864,-463 965,-463 965,-482\"/>\n<text text-anchor=\"middle\" x=\"914.5\" y=\"-470\" font-family=\"monospace\" font-size=\"10.00\" fill=\"#000000\">AccumulateGrad</text>\n</g>\n<!-- 139797825196976&#45;&gt;139797825902736 -->\n<g id=\"edge38\" class=\"edge\">\n<title>139797825196976&#45;&gt;139797825902736</title>\n<path fill=\"none\" stroke=\"#000000\" d=\"M892.7683,-572.9004C897.2498,-552.1961 905.308,-514.967 910.2524,-492.1241\"/>\n<polygon fill=\"#000000\" stroke=\"#000000\" points=\"913.7053,-492.7155 912.4001,-482.2014 906.8638,-491.2346 913.7053,-492.7155\"/>\n</g>\n<!-- 139797825902288 -->\n<g id=\"node30\" class=\"node\">\n<title>139797825902288</title>\n<polygon fill=\"#d3d3d3\" stroke=\"#000000\" points=\"1053,-878 904,-878 904,-837 1053,-837 1053,-878\"/>\n<text text-anchor=\"middle\" x=\"978.5\" y=\"-866\" font-family=\"monospace\" font-size=\"10.00\" fill=\"#000000\">ReluBackward0</text>\n<text text-anchor=\"middle\" x=\"978.5\" y=\"-855\" font-family=\"monospace\" font-size=\"10.00\" fill=\"#000000\">&#45;&#45;&#45;&#45;&#45;&#45;&#45;&#45;&#45;&#45;&#45;&#45;&#45;&#45;&#45;&#45;&#45;&#45;&#45;&#45;&#45;&#45;</text>\n<text text-anchor=\"middle\" x=\"978.5\" y=\"-844\" font-family=\"monospace\" font-size=\"10.00\" fill=\"#000000\">result: [saved tensor]</text>\n</g>\n<!-- 139797825902288&#45;&gt;139797825901968 -->\n<g id=\"edge28\" class=\"edge\">\n<title>139797825902288&#45;&gt;139797825901968</title>\n<path fill=\"none\" stroke=\"#000000\" d=\"M943.9955,-836.8509C927.7724,-827.1423 907.4954,-815.0076 886.9194,-802.694\"/>\n<polygon fill=\"#000000\" stroke=\"#000000\" points=\"888.4719,-799.5442 878.0937,-797.4123 884.8772,-805.5508 888.4719,-799.5442\"/>\n</g>\n<!-- 139797825012752 -->\n<g id=\"node31\" class=\"node\">\n<title>139797825012752</title>\n<polygon fill=\"#ffa500\" stroke=\"#000000\" points=\"1017,-757 940,-757 940,-727 1017,-727 1017,-757\"/>\n<text text-anchor=\"middle\" x=\"978.5\" y=\"-745\" font-family=\"monospace\" font-size=\"10.00\" fill=\"#000000\">result</text>\n<text text-anchor=\"middle\" x=\"978.5\" y=\"-734\" font-family=\"monospace\" font-size=\"10.00\" fill=\"#000000\"> (32, 300)</text>\n</g>\n<!-- 139797825902288&#45;&gt;139797825012752 -->\n<g id=\"edge29\" class=\"edge\">\n<title>139797825902288&#45;&gt;139797825012752</title>\n<path fill=\"none\" stroke=\"#000000\" d=\"M978.5,-836.8509C978.5,-814.0109 978.5,-777.744 978.5,-757.3077\"/>\n</g>\n<!-- 139797825902928 -->\n<g id=\"node32\" class=\"node\">\n<title>139797825902928</title>\n<polygon fill=\"#d3d3d3\" stroke=\"#000000\" points=\"1037,-1032 852,-1032 852,-914 1037,-914 1037,-1032\"/>\n<text text-anchor=\"middle\" x=\"944.5\" y=\"-1020\" font-family=\"monospace\" font-size=\"10.00\" fill=\"#000000\">AddmmBackward0</text>\n<text text-anchor=\"middle\" x=\"944.5\" y=\"-1009\" font-family=\"monospace\" font-size=\"10.00\" fill=\"#000000\">&#45;&#45;&#45;&#45;&#45;&#45;&#45;&#45;&#45;&#45;&#45;&#45;&#45;&#45;&#45;&#45;&#45;&#45;&#45;&#45;&#45;&#45;&#45;&#45;&#45;&#45;&#45;&#45;</text>\n<text text-anchor=\"middle\" x=\"944.5\" y=\"-998\" font-family=\"monospace\" font-size=\"10.00\" fill=\"#000000\">alpha &#160;&#160;&#160;&#160;&#160;&#160;: &#160;&#160;&#160;&#160;&#160;&#160;&#160;&#160;&#160;&#160;&#160;&#160;&#160;1</text>\n<text text-anchor=\"middle\" x=\"944.5\" y=\"-987\" font-family=\"monospace\" font-size=\"10.00\" fill=\"#000000\">beta &#160;&#160;&#160;&#160;&#160;&#160;&#160;: &#160;&#160;&#160;&#160;&#160;&#160;&#160;&#160;&#160;&#160;&#160;&#160;&#160;1</text>\n<text text-anchor=\"middle\" x=\"944.5\" y=\"-976\" font-family=\"monospace\" font-size=\"10.00\" fill=\"#000000\">mat1 &#160;&#160;&#160;&#160;&#160;&#160;&#160;: [saved tensor]</text>\n<text text-anchor=\"middle\" x=\"944.5\" y=\"-965\" font-family=\"monospace\" font-size=\"10.00\" fill=\"#000000\">mat1_sizes &#160;: &#160;&#160;&#160;&#160;&#160;&#160;(32, 16)</text>\n<text text-anchor=\"middle\" x=\"944.5\" y=\"-954\" font-family=\"monospace\" font-size=\"10.00\" fill=\"#000000\">mat1_strides: &#160;&#160;&#160;&#160;&#160;&#160;&#160;&#160;&#160;&#160;&#160;&#160;()</text>\n<text text-anchor=\"middle\" x=\"944.5\" y=\"-943\" font-family=\"monospace\" font-size=\"10.00\" fill=\"#000000\">mat2 &#160;&#160;&#160;&#160;&#160;&#160;&#160;: &#160;&#160;&#160;&#160;&#160;&#160;&#160;&#160;&#160;&#160;None</text>\n<text text-anchor=\"middle\" x=\"944.5\" y=\"-932\" font-family=\"monospace\" font-size=\"10.00\" fill=\"#000000\">mat2_sizes &#160;: &#160;&#160;&#160;&#160;&#160;(16, 300)</text>\n<text text-anchor=\"middle\" x=\"944.5\" y=\"-921\" font-family=\"monospace\" font-size=\"10.00\" fill=\"#000000\">mat2_strides: &#160;&#160;&#160;&#160;&#160;&#160;&#160;(1, 16)</text>\n</g>\n<!-- 139797825902928&#45;&gt;139797825902288 -->\n<g id=\"edge30\" class=\"edge\">\n<title>139797825902928&#45;&gt;139797825902288</title>\n<path fill=\"none\" stroke=\"#000000\" d=\"M961.8984,-913.8966C964.5636,-904.8429 967.2157,-895.8335 969.5925,-887.7593\"/>\n<polygon fill=\"#000000\" stroke=\"#000000\" points=\"972.9698,-888.6805 972.4362,-878.0991 966.2547,-886.7037 972.9698,-888.6805\"/>\n</g>\n<!-- 139797781383408 -->\n<g id=\"node33\" class=\"node\">\n<title>139797781383408</title>\n<polygon fill=\"#ffa500\" stroke=\"#000000\" points=\"886,-872.5 815,-872.5 815,-842.5 886,-842.5 886,-872.5\"/>\n<text text-anchor=\"middle\" x=\"850.5\" y=\"-860.5\" font-family=\"monospace\" font-size=\"10.00\" fill=\"#000000\">mat1</text>\n<text text-anchor=\"middle\" x=\"850.5\" y=\"-849.5\" font-family=\"monospace\" font-size=\"10.00\" fill=\"#000000\"> (32, 16)</text>\n</g>\n<!-- 139797825902928&#45;&gt;139797781383408 -->\n<g id=\"edge31\" class=\"edge\">\n<title>139797825902928&#45;&gt;139797781383408</title>\n<path fill=\"none\" stroke=\"#000000\" d=\"M896.3985,-913.8966C883.9315,-898.5781 871.5679,-883.3867 862.819,-872.6367\"/>\n</g>\n<!-- 139797825206928 -->\n<g id=\"node34\" class=\"node\">\n<title>139797825206928</title>\n<polygon fill=\"#d3d3d3\" stroke=\"#000000\" points=\"941,-1087 840,-1087 840,-1068 941,-1068 941,-1087\"/>\n<text text-anchor=\"middle\" x=\"890.5\" y=\"-1075\" font-family=\"monospace\" font-size=\"10.00\" fill=\"#000000\">AccumulateGrad</text>\n</g>\n<!-- 139797825206928&#45;&gt;139797825902928 -->\n<g id=\"edge32\" class=\"edge\">\n<title>139797825206928&#45;&gt;139797825902928</title>\n<path fill=\"none\" stroke=\"#000000\" d=\"M895.4834,-1067.8562C898.9103,-1061.2245 903.8013,-1051.7595 909.1806,-1041.3495\"/>\n<polygon fill=\"#000000\" stroke=\"#000000\" points=\"912.3112,-1042.9151 913.7927,-1032.4244 906.0925,-1039.7016 912.3112,-1042.9151\"/>\n</g>\n<!-- 139797824693936 -->\n<g id=\"node35\" class=\"node\">\n<title>139797824693936</title>\n<polygon fill=\"#add8e6\" stroke=\"#000000\" points=\"932,-1153 843,-1153 843,-1123 932,-1123 932,-1153\"/>\n<text text-anchor=\"middle\" x=\"887.5\" y=\"-1141\" font-family=\"monospace\" font-size=\"10.00\" fill=\"#000000\">layer_1.bias</text>\n<text text-anchor=\"middle\" x=\"887.5\" y=\"-1130\" font-family=\"monospace\" font-size=\"10.00\" fill=\"#000000\"> (300)</text>\n</g>\n<!-- 139797824693936&#45;&gt;139797825206928 -->\n<g id=\"edge33\" class=\"edge\">\n<title>139797824693936&#45;&gt;139797825206928</title>\n<path fill=\"none\" stroke=\"#000000\" d=\"M888.257,-1122.7333C888.6389,-1115.0322 889.1067,-1105.5977 889.5161,-1097.3414\"/>\n<polygon fill=\"#000000\" stroke=\"#000000\" points=\"893.025,-1097.2475 890.0246,-1087.0864 886.0336,-1096.9008 893.025,-1097.2475\"/>\n</g>\n<!-- 139797825206480 -->\n<g id=\"node36\" class=\"node\">\n<title>139797825206480</title>\n<polygon fill=\"#d3d3d3\" stroke=\"#000000\" points=\"1037,-1087 960,-1087 960,-1068 1037,-1068 1037,-1087\"/>\n<text text-anchor=\"middle\" x=\"998.5\" y=\"-1075\" font-family=\"monospace\" font-size=\"10.00\" fill=\"#000000\">TBackward0</text>\n</g>\n<!-- 139797825206480&#45;&gt;139797825902928 -->\n<g id=\"edge34\" class=\"edge\">\n<title>139797825206480&#45;&gt;139797825902928</title>\n<path fill=\"none\" stroke=\"#000000\" d=\"M993.5166,-1067.8562C990.0897,-1061.2245 985.1987,-1051.7595 979.8194,-1041.3495\"/>\n<polygon fill=\"#000000\" stroke=\"#000000\" points=\"982.9075,-1039.7016 975.2073,-1032.4244 976.6888,-1042.9151 982.9075,-1039.7016\"/>\n</g>\n<!-- 139797825205776 -->\n<g id=\"node37\" class=\"node\">\n<title>139797825205776</title>\n<polygon fill=\"#d3d3d3\" stroke=\"#000000\" points=\"1051,-1147.5 950,-1147.5 950,-1128.5 1051,-1128.5 1051,-1147.5\"/>\n<text text-anchor=\"middle\" x=\"1000.5\" y=\"-1135.5\" font-family=\"monospace\" font-size=\"10.00\" fill=\"#000000\">AccumulateGrad</text>\n</g>\n<!-- 139797825205776&#45;&gt;139797825206480 -->\n<g id=\"edge35\" class=\"edge\">\n<title>139797825205776&#45;&gt;139797825206480</title>\n<path fill=\"none\" stroke=\"#000000\" d=\"M1000.1787,-1128.2796C999.9062,-1120.0376 999.5065,-1107.9457 999.1654,-1097.629\"/>\n<polygon fill=\"#000000\" stroke=\"#000000\" points=\"1002.6558,-1097.2761 998.8272,-1087.3972 995.6596,-1097.5074 1002.6558,-1097.2761\"/>\n</g>\n<!-- 139797825198800 -->\n<g id=\"node38\" class=\"node\">\n<title>139797825198800</title>\n<polygon fill=\"#add8e6\" stroke=\"#000000\" points=\"1051,-1219 950,-1219 950,-1189 1051,-1189 1051,-1219\"/>\n<text text-anchor=\"middle\" x=\"1000.5\" y=\"-1207\" font-family=\"monospace\" font-size=\"10.00\" fill=\"#000000\">layer_1.weight</text>\n<text text-anchor=\"middle\" x=\"1000.5\" y=\"-1196\" font-family=\"monospace\" font-size=\"10.00\" fill=\"#000000\"> (300, 16)</text>\n</g>\n<!-- 139797825198800&#45;&gt;139797825205776 -->\n<g id=\"edge36\" class=\"edge\">\n<title>139797825198800&#45;&gt;139797825205776</title>\n<path fill=\"none\" stroke=\"#000000\" d=\"M1000.5,-1188.6924C1000.5,-1179.5067 1000.5,-1167.7245 1000.5,-1157.8312\"/>\n<polygon fill=\"#000000\" stroke=\"#000000\" points=\"1004.0001,-1157.703 1000.5,-1147.7031 997.0001,-1157.7031 1004.0001,-1157.703\"/>\n</g>\n<!-- 139797825902736&#45;&gt;139797825901968 -->\n<g id=\"edge37\" class=\"edge\">\n<title>139797825902736&#45;&gt;139797825901968</title>\n<path fill=\"none\" stroke=\"#000000\" d=\"M925.2943,-482.0541C936.0757,-492.3856 951.9577,-509.9513 958.5,-529 975.5353,-578.6006 985.2072,-601.8652 958.5,-647 942.361,-674.2748 915.3019,-694.2417 887.32,-708.6212\"/>\n<polygon fill=\"#000000\" stroke=\"#000000\" points=\"885.6463,-705.5438 878.2153,-713.0957 888.7338,-711.8262 885.6463,-705.5438\"/>\n</g>\n<!-- 139797825901200 -->\n<g id=\"node40\" class=\"node\">\n<title>139797825901200</title>\n<polygon fill=\"#d3d3d3\" stroke=\"#000000\" points=\"797,-867 696,-867 696,-848 797,-848 797,-867\"/>\n<text text-anchor=\"middle\" x=\"746.5\" y=\"-855\" font-family=\"monospace\" font-size=\"10.00\" fill=\"#000000\">AccumulateGrad</text>\n</g>\n<!-- 139797825901200&#45;&gt;139797825901968 -->\n<g id=\"edge39\" class=\"edge\">\n<title>139797825901200&#45;&gt;139797825901968</title>\n<path fill=\"none\" stroke=\"#000000\" d=\"M749.8251,-847.6525C752.7717,-838.9262 757.3593,-825.3399 762.2749,-810.7821\"/>\n<polygon fill=\"#000000\" stroke=\"#000000\" points=\"765.6554,-811.7108 765.5385,-801.1166 759.0232,-809.4714 765.6554,-811.7108\"/>\n</g>\n<!-- 139797755732816 -->\n<g id=\"node41\" class=\"node\">\n<title>139797755732816</title>\n<polygon fill=\"#add8e6\" stroke=\"#000000\" points=\"800,-988 693,-988 693,-958 800,-958 800,-988\"/>\n<text text-anchor=\"middle\" x=\"746.5\" y=\"-976\" font-family=\"monospace\" font-size=\"10.00\" fill=\"#000000\">batchnorm1.bias</text>\n<text text-anchor=\"middle\" x=\"746.5\" y=\"-965\" font-family=\"monospace\" font-size=\"10.00\" fill=\"#000000\"> (300)</text>\n</g>\n<!-- 139797755732816&#45;&gt;139797825901200 -->\n<g id=\"edge40\" class=\"edge\">\n<title>139797755732816&#45;&gt;139797825901200</title>\n<path fill=\"none\" stroke=\"#000000\" d=\"M746.5,-957.9004C746.5,-937.2903 746.5,-900.3051 746.5,-877.4365\"/>\n<polygon fill=\"#000000\" stroke=\"#000000\" points=\"750.0001,-877.2014 746.5,-867.2014 743.0001,-877.2014 750.0001,-877.2014\"/>\n</g>\n<!-- 139797825902224 -->\n<g id=\"node42\" class=\"node\">\n<title>139797825902224</title>\n<polygon fill=\"#d3d3d3\" stroke=\"#000000\" points=\"1271,-751.5 1194,-751.5 1194,-732.5 1271,-732.5 1271,-751.5\"/>\n<text text-anchor=\"middle\" x=\"1232.5\" y=\"-739.5\" font-family=\"monospace\" font-size=\"10.00\" fill=\"#000000\">TBackward0</text>\n</g>\n<!-- 139797825902224&#45;&gt;139797825901264 -->\n<g id=\"edge41\" class=\"edge\">\n<title>139797825902224&#45;&gt;139797825901264</title>\n<path fill=\"none\" stroke=\"#000000\" d=\"M1230.0604,-732.3666C1226.2099,-717.1623 1218.3969,-686.3106 1210.9783,-657.0169\"/>\n<polygon fill=\"#000000\" stroke=\"#000000\" points=\"1214.3318,-656.0018 1208.4839,-647.1671 1207.546,-657.7203 1214.3318,-656.0018\"/>\n</g>\n<!-- 139797825902544 -->\n<g id=\"node43\" class=\"node\">\n<title>139797825902544</title>\n<polygon fill=\"#d3d3d3\" stroke=\"#000000\" points=\"1285,-867 1184,-867 1184,-848 1285,-848 1285,-867\"/>\n<text text-anchor=\"middle\" x=\"1234.5\" y=\"-855\" font-family=\"monospace\" font-size=\"10.00\" fill=\"#000000\">AccumulateGrad</text>\n</g>\n<!-- 139797825902544&#45;&gt;139797825902224 -->\n<g id=\"edge42\" class=\"edge\">\n<title>139797825902544&#45;&gt;139797825902224</title>\n<path fill=\"none\" stroke=\"#000000\" d=\"M1234.3295,-847.6525C1234.0018,-828.7295 1233.2784,-786.953 1232.8459,-761.9746\"/>\n<polygon fill=\"#000000\" stroke=\"#000000\" points=\"1236.3428,-761.7604 1232.6701,-751.8225 1229.3438,-761.8817 1236.3428,-761.7604\"/>\n</g>\n<!-- 139797755733296 -->\n<g id=\"node44\" class=\"node\">\n<title>139797755733296</title>\n<polygon fill=\"#add8e6\" stroke=\"#000000\" points=\"1285,-988 1184,-988 1184,-958 1285,-958 1285,-988\"/>\n<text text-anchor=\"middle\" x=\"1234.5\" y=\"-976\" font-family=\"monospace\" font-size=\"10.00\" fill=\"#000000\">layer_2.weight</text>\n<text text-anchor=\"middle\" x=\"1234.5\" y=\"-965\" font-family=\"monospace\" font-size=\"10.00\" fill=\"#000000\"> (100, 300)</text>\n</g>\n<!-- 139797755733296&#45;&gt;139797825902544 -->\n<g id=\"edge43\" class=\"edge\">\n<title>139797755733296&#45;&gt;139797825902544</title>\n<path fill=\"none\" stroke=\"#000000\" d=\"M1234.5,-957.9004C1234.5,-937.2903 1234.5,-900.3051 1234.5,-877.4365\"/>\n<polygon fill=\"#000000\" stroke=\"#000000\" points=\"1238.0001,-877.2014 1234.5,-867.2014 1231.0001,-877.2014 1238.0001,-877.2014\"/>\n</g>\n<!-- 139797825903504&#45;&gt;139797825901328 -->\n<g id=\"edge44\" class=\"edge\">\n<title>139797825903504&#45;&gt;139797825901328</title>\n<path fill=\"none\" stroke=\"#000000\" d=\"M712.1308,-97.2291C727.6603,-125.4744 767.6269,-208.8455 731.5,-262 700.682,-307.3434 644.5057,-331.0444 594.2475,-343.433\"/>\n<polygon fill=\"#000000\" stroke=\"#000000\" points=\"593.2244,-340.0778 584.2841,-345.763 594.8184,-346.8939 593.2244,-340.0778\"/>\n</g>\n<!-- 139797825900816 -->\n<g id=\"node46\" class=\"node\">\n<title>139797825900816</title>\n<polygon fill=\"#d3d3d3\" stroke=\"#000000\" points=\"494,-482 393,-482 393,-463 494,-463 494,-482\"/>\n<text text-anchor=\"middle\" x=\"443.5\" y=\"-470\" font-family=\"monospace\" font-size=\"10.00\" fill=\"#000000\">AccumulateGrad</text>\n</g>\n<!-- 139797825900816&#45;&gt;139797825901328 -->\n<g id=\"edge46\" class=\"edge\">\n<title>139797825900816&#45;&gt;139797825901328</title>\n<path fill=\"none\" stroke=\"#000000\" d=\"M447.5925,-462.6525C451.2535,-453.8431 456.973,-440.0807 463.0882,-425.3659\"/>\n<polygon fill=\"#000000\" stroke=\"#000000\" points=\"466.3264,-426.6941 466.9321,-416.1166 459.8623,-424.0077 466.3264,-426.6941\"/>\n</g>\n<!-- 139797825461520 -->\n<g id=\"node47\" class=\"node\">\n<title>139797825461520</title>\n<polygon fill=\"#add8e6\" stroke=\"#000000\" points=\"450,-603 343,-603 343,-573 450,-573 450,-603\"/>\n<text text-anchor=\"middle\" x=\"396.5\" y=\"-591\" font-family=\"monospace\" font-size=\"10.00\" fill=\"#000000\">batchnorm2.bias</text>\n<text text-anchor=\"middle\" x=\"396.5\" y=\"-580\" font-family=\"monospace\" font-size=\"10.00\" fill=\"#000000\"> (100)</text>\n</g>\n<!-- 139797825461520&#45;&gt;139797825900816 -->\n<g id=\"edge47\" class=\"edge\">\n<title>139797825461520&#45;&gt;139797825900816</title>\n<path fill=\"none\" stroke=\"#000000\" d=\"M402.6444,-572.9004C411.1461,-552.0079 426.4951,-514.2888 435.7665,-491.5047\"/>\n<polygon fill=\"#000000\" stroke=\"#000000\" points=\"439.0249,-492.7831 439.5522,-482.2014 432.5412,-490.1447 439.0249,-492.7831\"/>\n</g>\n<!-- 139797825902416 -->\n<g id=\"node48\" class=\"node\">\n<title>139797825902416</title>\n<polygon fill=\"#d3d3d3\" stroke=\"#000000\" points=\"214,-366.5 137,-366.5 137,-347.5 214,-347.5 214,-366.5\"/>\n<text text-anchor=\"middle\" x=\"175.5\" y=\"-354.5\" font-family=\"monospace\" font-size=\"10.00\" fill=\"#000000\">TBackward0</text>\n</g>\n<!-- 139797825902416&#45;&gt;139797825901392 -->\n<g id=\"edge48\" class=\"edge\">\n<title>139797825902416&#45;&gt;139797825901392</title>\n<path fill=\"none\" stroke=\"#000000\" d=\"M172.685,-347.3666C168.2422,-332.1623 159.2271,-301.3106 150.6673,-272.0169\"/>\n<polygon fill=\"#000000\" stroke=\"#000000\" points=\"153.9534,-270.784 147.7891,-262.1671 147.2344,-272.7474 153.9534,-270.784\"/>\n</g>\n<!-- 139797825901008 -->\n<g id=\"node49\" class=\"node\">\n<title>139797825901008</title>\n<polygon fill=\"#d3d3d3\" stroke=\"#000000\" points=\"229,-482 128,-482 128,-463 229,-463 229,-482\"/>\n<text text-anchor=\"middle\" x=\"178.5\" y=\"-470\" font-family=\"monospace\" font-size=\"10.00\" fill=\"#000000\">AccumulateGrad</text>\n</g>\n<!-- 139797825901008&#45;&gt;139797825902416 -->\n<g id=\"edge49\" class=\"edge\">\n<title>139797825901008&#45;&gt;139797825902416</title>\n<path fill=\"none\" stroke=\"#000000\" d=\"M178.2442,-462.6525C177.7527,-443.7295 176.6676,-401.953 176.0188,-376.9746\"/>\n<polygon fill=\"#000000\" stroke=\"#000000\" points=\"179.5137,-376.7283 175.7551,-366.8225 172.5161,-376.9101 179.5137,-376.7283\"/>\n</g>\n<!-- 139797755735888 -->\n<g id=\"node50\" class=\"node\">\n<title>139797755735888</title>\n<polygon fill=\"#add8e6\" stroke=\"#000000\" points=\"235,-603 122,-603 122,-573 235,-573 235,-603\"/>\n<text text-anchor=\"middle\" x=\"178.5\" y=\"-591\" font-family=\"monospace\" font-size=\"10.00\" fill=\"#000000\">layer_out.weight</text>\n<text text-anchor=\"middle\" x=\"178.5\" y=\"-580\" font-family=\"monospace\" font-size=\"10.00\" fill=\"#000000\"> (1, 100)</text>\n</g>\n<!-- 139797755735888&#45;&gt;139797825901008 -->\n<g id=\"edge50\" class=\"edge\">\n<title>139797755735888&#45;&gt;139797825901008</title>\n<path fill=\"none\" stroke=\"#000000\" d=\"M178.5,-572.9004C178.5,-552.2903 178.5,-515.3051 178.5,-492.4365\"/>\n<polygon fill=\"#000000\" stroke=\"#000000\" points=\"182.0001,-492.2014 178.5,-482.2014 175.0001,-492.2014 182.0001,-492.2014\"/>\n</g>\n</g>\n</svg>\n"
          },
          "metadata": {},
          "execution_count": 28
        }
      ]
    }
  ]
}